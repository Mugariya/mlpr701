{
 "cells": [
  {
   "cell_type": "code",
   "execution_count": 2,
   "metadata": {
    "executionInfo": {
     "elapsed": 528,
     "status": "ok",
     "timestamp": 1633411101743,
     "user": {
      "displayName": "Ashraf Haddad",
      "photoUrl": "https://lh3.googleusercontent.com/a-/AOh14Gh_860lEjtF96d2NSUEmAqlYL7dhh3Uz8VnjUivUQ=s64",
      "userId": "13931689762732430725"
     },
     "user_tz": -240
    },
    "id": "OmOATGXZJnD1"
   },
   "outputs": [],
   "source": [
    "### PREAMBLE\n",
    "# Chapter 1 - Introduction to adversarial robustness\n",
    "# noise.jpg\n",
    "\n",
    "import torch\n",
    "import torch.nn as nn\n",
    "import torch.optim as optim\n",
    "import torchvision\n",
    "import torchvision.models as models\n",
    "from torchvision import transforms\n",
    "import time\n",
    "from tqdm.autonotebook import tqdm\n",
    "from torch.utils.data import DataLoader\n",
    "from sklearn.metrics import precision_score, recall_score, f1_score, accuracy_score\n",
    "from inspect import getfullargspec,signature\n",
    "\n",
    "import matplotlib.pyplot as plt\n",
    "import numpy as np\n",
    "\n",
    "from PIL import Image\n",
    "import torch\n",
    "from torch.utils.data import Dataset\n",
    "from torchvision import datasets\n",
    "\n",
    "\n",
    "%matplotlib inline\n",
    "%config InlineBackend.figure_format = 'svg'\n"
   ]
  },
  {
   "cell_type": "code",
   "execution_count": 3,
   "metadata": {
    "colab": {
     "base_uri": "https://localhost:8080/"
    },
    "executionInfo": {
     "elapsed": 6205,
     "status": "ok",
     "timestamp": 1633410088822,
     "user": {
      "displayName": "Ashraf Haddad",
      "photoUrl": "https://lh3.googleusercontent.com/a-/AOh14Gh_860lEjtF96d2NSUEmAqlYL7dhh3Uz8VnjUivUQ=s64",
      "userId": "13931689762732430725"
     },
     "user_tz": -240
    },
    "id": "FMFDHKcxJnES",
    "outputId": "3826cda7-4c98-424d-9b41-5b9b7154fdee"
   },
   "outputs": [
    {
     "name": "stdout",
     "output_type": "stream",
     "text": [
      "torch.Size([16, 10])\n",
      "MnistResNet(\n",
      "  (model): ResNet(\n",
      "    (conv1): Conv2d(1, 64, kernel_size=(7, 7), stride=(2, 2), padding=(3, 3), bias=False)\n",
      "    (bn1): BatchNorm2d(64, eps=1e-05, momentum=0.1, affine=True, track_running_stats=True)\n",
      "    (relu): ReLU(inplace=True)\n",
      "    (maxpool): MaxPool2d(kernel_size=3, stride=2, padding=1, dilation=1, ceil_mode=False)\n",
      "    (layer1): Sequential(\n",
      "      (0): Bottleneck(\n",
      "        (conv1): Conv2d(64, 64, kernel_size=(1, 1), stride=(1, 1), bias=False)\n",
      "        (bn1): BatchNorm2d(64, eps=1e-05, momentum=0.1, affine=True, track_running_stats=True)\n",
      "        (conv2): Conv2d(64, 64, kernel_size=(3, 3), stride=(1, 1), padding=(1, 1), bias=False)\n",
      "        (bn2): BatchNorm2d(64, eps=1e-05, momentum=0.1, affine=True, track_running_stats=True)\n",
      "        (conv3): Conv2d(64, 256, kernel_size=(1, 1), stride=(1, 1), bias=False)\n",
      "        (bn3): BatchNorm2d(256, eps=1e-05, momentum=0.1, affine=True, track_running_stats=True)\n",
      "        (relu): ReLU(inplace=True)\n",
      "        (downsample): Sequential(\n",
      "          (0): Conv2d(64, 256, kernel_size=(1, 1), stride=(1, 1), bias=False)\n",
      "          (1): BatchNorm2d(256, eps=1e-05, momentum=0.1, affine=True, track_running_stats=True)\n",
      "        )\n",
      "      )\n",
      "      (1): Bottleneck(\n",
      "        (conv1): Conv2d(256, 64, kernel_size=(1, 1), stride=(1, 1), bias=False)\n",
      "        (bn1): BatchNorm2d(64, eps=1e-05, momentum=0.1, affine=True, track_running_stats=True)\n",
      "        (conv2): Conv2d(64, 64, kernel_size=(3, 3), stride=(1, 1), padding=(1, 1), bias=False)\n",
      "        (bn2): BatchNorm2d(64, eps=1e-05, momentum=0.1, affine=True, track_running_stats=True)\n",
      "        (conv3): Conv2d(64, 256, kernel_size=(1, 1), stride=(1, 1), bias=False)\n",
      "        (bn3): BatchNorm2d(256, eps=1e-05, momentum=0.1, affine=True, track_running_stats=True)\n",
      "        (relu): ReLU(inplace=True)\n",
      "      )\n",
      "      (2): Bottleneck(\n",
      "        (conv1): Conv2d(256, 64, kernel_size=(1, 1), stride=(1, 1), bias=False)\n",
      "        (bn1): BatchNorm2d(64, eps=1e-05, momentum=0.1, affine=True, track_running_stats=True)\n",
      "        (conv2): Conv2d(64, 64, kernel_size=(3, 3), stride=(1, 1), padding=(1, 1), bias=False)\n",
      "        (bn2): BatchNorm2d(64, eps=1e-05, momentum=0.1, affine=True, track_running_stats=True)\n",
      "        (conv3): Conv2d(64, 256, kernel_size=(1, 1), stride=(1, 1), bias=False)\n",
      "        (bn3): BatchNorm2d(256, eps=1e-05, momentum=0.1, affine=True, track_running_stats=True)\n",
      "        (relu): ReLU(inplace=True)\n",
      "      )\n",
      "    )\n",
      "    (layer2): Sequential(\n",
      "      (0): Bottleneck(\n",
      "        (conv1): Conv2d(256, 128, kernel_size=(1, 1), stride=(1, 1), bias=False)\n",
      "        (bn1): BatchNorm2d(128, eps=1e-05, momentum=0.1, affine=True, track_running_stats=True)\n",
      "        (conv2): Conv2d(128, 128, kernel_size=(3, 3), stride=(2, 2), padding=(1, 1), bias=False)\n",
      "        (bn2): BatchNorm2d(128, eps=1e-05, momentum=0.1, affine=True, track_running_stats=True)\n",
      "        (conv3): Conv2d(128, 512, kernel_size=(1, 1), stride=(1, 1), bias=False)\n",
      "        (bn3): BatchNorm2d(512, eps=1e-05, momentum=0.1, affine=True, track_running_stats=True)\n",
      "        (relu): ReLU(inplace=True)\n",
      "        (downsample): Sequential(\n",
      "          (0): Conv2d(256, 512, kernel_size=(1, 1), stride=(2, 2), bias=False)\n",
      "          (1): BatchNorm2d(512, eps=1e-05, momentum=0.1, affine=True, track_running_stats=True)\n",
      "        )\n",
      "      )\n",
      "      (1): Bottleneck(\n",
      "        (conv1): Conv2d(512, 128, kernel_size=(1, 1), stride=(1, 1), bias=False)\n",
      "        (bn1): BatchNorm2d(128, eps=1e-05, momentum=0.1, affine=True, track_running_stats=True)\n",
      "        (conv2): Conv2d(128, 128, kernel_size=(3, 3), stride=(1, 1), padding=(1, 1), bias=False)\n",
      "        (bn2): BatchNorm2d(128, eps=1e-05, momentum=0.1, affine=True, track_running_stats=True)\n",
      "        (conv3): Conv2d(128, 512, kernel_size=(1, 1), stride=(1, 1), bias=False)\n",
      "        (bn3): BatchNorm2d(512, eps=1e-05, momentum=0.1, affine=True, track_running_stats=True)\n",
      "        (relu): ReLU(inplace=True)\n",
      "      )\n",
      "      (2): Bottleneck(\n",
      "        (conv1): Conv2d(512, 128, kernel_size=(1, 1), stride=(1, 1), bias=False)\n",
      "        (bn1): BatchNorm2d(128, eps=1e-05, momentum=0.1, affine=True, track_running_stats=True)\n",
      "        (conv2): Conv2d(128, 128, kernel_size=(3, 3), stride=(1, 1), padding=(1, 1), bias=False)\n",
      "        (bn2): BatchNorm2d(128, eps=1e-05, momentum=0.1, affine=True, track_running_stats=True)\n",
      "        (conv3): Conv2d(128, 512, kernel_size=(1, 1), stride=(1, 1), bias=False)\n",
      "        (bn3): BatchNorm2d(512, eps=1e-05, momentum=0.1, affine=True, track_running_stats=True)\n",
      "        (relu): ReLU(inplace=True)\n",
      "      )\n",
      "      (3): Bottleneck(\n",
      "        (conv1): Conv2d(512, 128, kernel_size=(1, 1), stride=(1, 1), bias=False)\n",
      "        (bn1): BatchNorm2d(128, eps=1e-05, momentum=0.1, affine=True, track_running_stats=True)\n",
      "        (conv2): Conv2d(128, 128, kernel_size=(3, 3), stride=(1, 1), padding=(1, 1), bias=False)\n",
      "        (bn2): BatchNorm2d(128, eps=1e-05, momentum=0.1, affine=True, track_running_stats=True)\n",
      "        (conv3): Conv2d(128, 512, kernel_size=(1, 1), stride=(1, 1), bias=False)\n",
      "        (bn3): BatchNorm2d(512, eps=1e-05, momentum=0.1, affine=True, track_running_stats=True)\n",
      "        (relu): ReLU(inplace=True)\n",
      "      )\n",
      "    )\n",
      "    (layer3): Sequential(\n",
      "      (0): Bottleneck(\n",
      "        (conv1): Conv2d(512, 256, kernel_size=(1, 1), stride=(1, 1), bias=False)\n",
      "        (bn1): BatchNorm2d(256, eps=1e-05, momentum=0.1, affine=True, track_running_stats=True)\n",
      "        (conv2): Conv2d(256, 256, kernel_size=(3, 3), stride=(2, 2), padding=(1, 1), bias=False)\n",
      "        (bn2): BatchNorm2d(256, eps=1e-05, momentum=0.1, affine=True, track_running_stats=True)\n",
      "        (conv3): Conv2d(256, 1024, kernel_size=(1, 1), stride=(1, 1), bias=False)\n",
      "        (bn3): BatchNorm2d(1024, eps=1e-05, momentum=0.1, affine=True, track_running_stats=True)\n",
      "        (relu): ReLU(inplace=True)\n",
      "        (downsample): Sequential(\n",
      "          (0): Conv2d(512, 1024, kernel_size=(1, 1), stride=(2, 2), bias=False)\n",
      "          (1): BatchNorm2d(1024, eps=1e-05, momentum=0.1, affine=True, track_running_stats=True)\n",
      "        )\n",
      "      )\n",
      "      (1): Bottleneck(\n",
      "        (conv1): Conv2d(1024, 256, kernel_size=(1, 1), stride=(1, 1), bias=False)\n",
      "        (bn1): BatchNorm2d(256, eps=1e-05, momentum=0.1, affine=True, track_running_stats=True)\n",
      "        (conv2): Conv2d(256, 256, kernel_size=(3, 3), stride=(1, 1), padding=(1, 1), bias=False)\n",
      "        (bn2): BatchNorm2d(256, eps=1e-05, momentum=0.1, affine=True, track_running_stats=True)\n",
      "        (conv3): Conv2d(256, 1024, kernel_size=(1, 1), stride=(1, 1), bias=False)\n",
      "        (bn3): BatchNorm2d(1024, eps=1e-05, momentum=0.1, affine=True, track_running_stats=True)\n",
      "        (relu): ReLU(inplace=True)\n",
      "      )\n",
      "      (2): Bottleneck(\n",
      "        (conv1): Conv2d(1024, 256, kernel_size=(1, 1), stride=(1, 1), bias=False)\n",
      "        (bn1): BatchNorm2d(256, eps=1e-05, momentum=0.1, affine=True, track_running_stats=True)\n",
      "        (conv2): Conv2d(256, 256, kernel_size=(3, 3), stride=(1, 1), padding=(1, 1), bias=False)\n",
      "        (bn2): BatchNorm2d(256, eps=1e-05, momentum=0.1, affine=True, track_running_stats=True)\n",
      "        (conv3): Conv2d(256, 1024, kernel_size=(1, 1), stride=(1, 1), bias=False)\n",
      "        (bn3): BatchNorm2d(1024, eps=1e-05, momentum=0.1, affine=True, track_running_stats=True)\n",
      "        (relu): ReLU(inplace=True)\n",
      "      )\n",
      "      (3): Bottleneck(\n",
      "        (conv1): Conv2d(1024, 256, kernel_size=(1, 1), stride=(1, 1), bias=False)\n",
      "        (bn1): BatchNorm2d(256, eps=1e-05, momentum=0.1, affine=True, track_running_stats=True)\n",
      "        (conv2): Conv2d(256, 256, kernel_size=(3, 3), stride=(1, 1), padding=(1, 1), bias=False)\n",
      "        (bn2): BatchNorm2d(256, eps=1e-05, momentum=0.1, affine=True, track_running_stats=True)\n",
      "        (conv3): Conv2d(256, 1024, kernel_size=(1, 1), stride=(1, 1), bias=False)\n",
      "        (bn3): BatchNorm2d(1024, eps=1e-05, momentum=0.1, affine=True, track_running_stats=True)\n",
      "        (relu): ReLU(inplace=True)\n",
      "      )\n",
      "      (4): Bottleneck(\n",
      "        (conv1): Conv2d(1024, 256, kernel_size=(1, 1), stride=(1, 1), bias=False)\n",
      "        (bn1): BatchNorm2d(256, eps=1e-05, momentum=0.1, affine=True, track_running_stats=True)\n",
      "        (conv2): Conv2d(256, 256, kernel_size=(3, 3), stride=(1, 1), padding=(1, 1), bias=False)\n",
      "        (bn2): BatchNorm2d(256, eps=1e-05, momentum=0.1, affine=True, track_running_stats=True)\n",
      "        (conv3): Conv2d(256, 1024, kernel_size=(1, 1), stride=(1, 1), bias=False)\n",
      "        (bn3): BatchNorm2d(1024, eps=1e-05, momentum=0.1, affine=True, track_running_stats=True)\n",
      "        (relu): ReLU(inplace=True)\n",
      "      )\n",
      "      (5): Bottleneck(\n",
      "        (conv1): Conv2d(1024, 256, kernel_size=(1, 1), stride=(1, 1), bias=False)\n",
      "        (bn1): BatchNorm2d(256, eps=1e-05, momentum=0.1, affine=True, track_running_stats=True)\n",
      "        (conv2): Conv2d(256, 256, kernel_size=(3, 3), stride=(1, 1), padding=(1, 1), bias=False)\n",
      "        (bn2): BatchNorm2d(256, eps=1e-05, momentum=0.1, affine=True, track_running_stats=True)\n",
      "        (conv3): Conv2d(256, 1024, kernel_size=(1, 1), stride=(1, 1), bias=False)\n",
      "        (bn3): BatchNorm2d(1024, eps=1e-05, momentum=0.1, affine=True, track_running_stats=True)\n",
      "        (relu): ReLU(inplace=True)\n",
      "      )\n",
      "    )\n",
      "    (layer4): Sequential(\n",
      "      (0): Bottleneck(\n",
      "        (conv1): Conv2d(1024, 512, kernel_size=(1, 1), stride=(1, 1), bias=False)\n",
      "        (bn1): BatchNorm2d(512, eps=1e-05, momentum=0.1, affine=True, track_running_stats=True)\n",
      "        (conv2): Conv2d(512, 512, kernel_size=(3, 3), stride=(2, 2), padding=(1, 1), bias=False)\n",
      "        (bn2): BatchNorm2d(512, eps=1e-05, momentum=0.1, affine=True, track_running_stats=True)\n",
      "        (conv3): Conv2d(512, 2048, kernel_size=(1, 1), stride=(1, 1), bias=False)\n",
      "        (bn3): BatchNorm2d(2048, eps=1e-05, momentum=0.1, affine=True, track_running_stats=True)\n",
      "        (relu): ReLU(inplace=True)\n",
      "        (downsample): Sequential(\n",
      "          (0): Conv2d(1024, 2048, kernel_size=(1, 1), stride=(2, 2), bias=False)\n",
      "          (1): BatchNorm2d(2048, eps=1e-05, momentum=0.1, affine=True, track_running_stats=True)\n",
      "        )\n",
      "      )\n",
      "      (1): Bottleneck(\n",
      "        (conv1): Conv2d(2048, 512, kernel_size=(1, 1), stride=(1, 1), bias=False)\n",
      "        (bn1): BatchNorm2d(512, eps=1e-05, momentum=0.1, affine=True, track_running_stats=True)\n",
      "        (conv2): Conv2d(512, 512, kernel_size=(3, 3), stride=(1, 1), padding=(1, 1), bias=False)\n",
      "        (bn2): BatchNorm2d(512, eps=1e-05, momentum=0.1, affine=True, track_running_stats=True)\n",
      "        (conv3): Conv2d(512, 2048, kernel_size=(1, 1), stride=(1, 1), bias=False)\n",
      "        (bn3): BatchNorm2d(2048, eps=1e-05, momentum=0.1, affine=True, track_running_stats=True)\n",
      "        (relu): ReLU(inplace=True)\n",
      "      )\n",
      "      (2): Bottleneck(\n",
      "        (conv1): Conv2d(2048, 512, kernel_size=(1, 1), stride=(1, 1), bias=False)\n",
      "        (bn1): BatchNorm2d(512, eps=1e-05, momentum=0.1, affine=True, track_running_stats=True)\n",
      "        (conv2): Conv2d(512, 512, kernel_size=(3, 3), stride=(1, 1), padding=(1, 1), bias=False)\n",
      "        (bn2): BatchNorm2d(512, eps=1e-05, momentum=0.1, affine=True, track_running_stats=True)\n",
      "        (conv3): Conv2d(512, 2048, kernel_size=(1, 1), stride=(1, 1), bias=False)\n",
      "        (bn3): BatchNorm2d(2048, eps=1e-05, momentum=0.1, affine=True, track_running_stats=True)\n",
      "        (relu): ReLU(inplace=True)\n",
      "      )\n",
      "    )\n",
      "    (avgpool): AdaptiveAvgPool2d(output_size=(1, 1))\n",
      "    (fc): Linear(in_features=2048, out_features=10, bias=True)\n",
      "  )\n",
      ")\n"
     ]
    }
   ],
   "source": [
    "####################################\n",
    "#Need to run the same with FashionMNIST\n",
    "###################################\n",
    "\n",
    "\n",
    "############################\n",
    "class MnistResNet(nn.Module):\n",
    "  def __init__(self, in_channels=1):\n",
    "    super(MnistResNet, self).__init__()\n",
    "\n",
    "    # Load a pretrained resnet model from torchvision.models in Pytorch\n",
    "    self.model = models.resnet50(pretrained=False)\n",
    "\n",
    "    # Change the input layer to take Grayscale image, instead of RGB images.  **************\n",
    "    # Hence in_channels is set as 1 or 3 respectively\n",
    "    # original definition of the first layer on the ResNet class\n",
    "    # self.conv1 = nn.Conv2d(3, 64, kernel_size=7, stride=2, padding=3, bias=False)\n",
    "    self.model.conv1 = nn.Conv2d(in_channels, 64, kernel_size=7, stride=2, padding=3, bias=False)\n",
    "    \n",
    "    # Change the output layer to output 10 classes instead of 1000 classes\n",
    "    num_ftrs = self.model.fc.in_features\n",
    "    self.model.fc = nn.Linear(num_ftrs, 10)\n",
    "\n",
    "  def forward(self, x):\n",
    "    return self.model(x)\n",
    "\n",
    "\n",
    "my_resnet = MnistResNet()\n",
    "\n",
    "input = torch.randn((16,1,244,244))\n",
    "output = my_resnet(input)\n",
    "print(output.shape)\n",
    "\n",
    "print(my_resnet)"
   ]
  },
  {
   "cell_type": "code",
   "execution_count": 4,
   "metadata": {
    "executionInfo": {
     "elapsed": 310,
     "status": "ok",
     "timestamp": 1633411118948,
     "user": {
      "displayName": "Ashraf Haddad",
      "photoUrl": "https://lh3.googleusercontent.com/a-/AOh14Gh_860lEjtF96d2NSUEmAqlYL7dhh3Uz8VnjUivUQ=s64",
      "userId": "13931689762732430725"
     },
     "user_tz": -240
    },
    "id": "63KiUm0rJnEX"
   },
   "outputs": [],
   "source": [
    "import torch\n",
    "import torch.nn as nn\n",
    "from torchvision.models import resnet50\n",
    "\n",
    "# simple Module to normalize an image\n",
    "class Normalize(nn.Module):\n",
    "    def __init__(self, mean, std):\n",
    "        super(Normalize, self).__init__()\n",
    "        self.mean = torch.Tensor(mean)\n",
    "        self.std = torch.Tensor(std)\n",
    "    def forward(self, x):\n",
    "        return (x - self.mean.type_as(x)[None,:,None,None]) / self.std.type_as(x)[None,:,None,None]\n",
    "\n",
    "def get_data_loaders(train_batch_size, val_batch_size):\n",
    "    fashion_mnist = torchvision.datasets.FashionMNIST(download=True, train=True, root=\".\").train_data.float()\n",
    "    \n",
    "    data_transform = transforms.Compose([ transforms.Resize((224, 224)),\n",
    "                                         transforms.ToTensor(), \n",
    "                                         transforms.Normalize((fashion_mnist.mean()/255,), (fashion_mnist.std()/255,))\n",
    "                                        ])\n",
    "\n",
    "    train_loader = DataLoader(torchvision.datasets.FashionMNIST(download=True, root=\".\", transform=data_transform, train=True),\n",
    "                              batch_size=train_batch_size, shuffle=True)\n",
    "\n",
    "    val_loader = DataLoader(torchvision.datasets.FashionMNIST(download=False, root=\".\", transform=data_transform, train=False),\n",
    "                            batch_size=val_batch_size, shuffle=False)\n",
    "    return train_loader, val_loader\n",
    "\n",
    "\n",
    "def calculate_metric(metric_fn, true_y, pred_y):\n",
    "    if \"average\" in signature(metric_fn).parameters:\n",
    "        return metric_fn(true_y, pred_y, average=\"micro\")\n",
    "    else:\n",
    "        return metric_fn(true_y, pred_y)\n",
    "    \n",
    "def print_scores(p, r, f1, a, batch_size):\n",
    "    for name, scores in zip((\"precision\", \"recall\", \"F1\", \"accuracy\"), (p, r, f1, a)):\n",
    "        print(f\"\\t{name.rjust(14, ' ')}: {sum(scores)/batch_size:.4f}\")\n",
    "        \n",
    "if torch.cuda.is_available():\n",
    "    device = torch.device(\"cuda\") \n",
    "else:\n",
    "    device = torch.device(\"cpu\")"
   ]
  },
  {
   "cell_type": "markdown",
   "metadata": {
    "id": "5k99bvHiJnEa"
   },
   "source": []
  },
  {
   "cell_type": "code",
   "execution_count": 16,
   "metadata": {},
   "outputs": [
    {
     "name": "stdout",
     "output_type": "stream",
     "text": [
      "True\n"
     ]
    }
   ],
   "source": [
    "print(torch.cuda.is_available())"
   ]
  },
  {
   "cell_type": "code",
   "execution_count": 5,
   "metadata": {
    "colab": {
     "base_uri": "https://localhost:8080/",
     "height": 482,
     "referenced_widgets": [
      "85a26bc32c694b3187014db03f2f0945",
      "981ab63dcf574faab9269531fc9828e6",
      "a09bcbb9a8164e258996869b86d5c6fe",
      "33e6a73b77b34192a21e3b53590d5787",
      "b41a57951ea74a23a70cfbf5dc3f08bc",
      "312db40f60d14f1e84c82682448ea9a4",
      "5523dc495fdf4c89a7ec3c3d71fe2c30",
      "d07f7a788d464efc8a968b8097d1708b",
      "e4298bd5dc4e4b0fb17a720eb109d49f",
      "8ab16354cfee4ba2bdc8cdd9c723127c",
      "7335277b3f4a4704954617575b011224",
      "00f28e6fa51d47beb2c0214f7cfcd18e",
      "e6f3bd80225d4b3bba8018c2cabbcc7e",
      "cb443bc99d3343da97358e51cb067635",
      "2c09fb80eac84910ad5056bbfc08daca",
      "bf6175b1b53e42ef916ad68973d012d8",
      "cd21c6f158c1442982166651169ab325",
      "bb93c5ac624c4b2caf44ea61ce66e1ea",
      "739b1aaa7b21423b840a283c758ee4af",
      "af0adeebc1714582b7505a502780e69f",
      "3add4542dd3e4a1e8f8b3b4b8254b62c",
      "b560701a7a6548fc89bde2111c33f8dc",
      "bf3cc9a41b3a4b1b82c8141505fb43d1",
      "b830b87dbe794524850f1b3515ccf4f3",
      "2ebd8e8beb1b4da8a1dd088b9dcacaa2",
      "831e5bdbddf044dd8de88005c5308694",
      "92ce37b6b97047b8823434b3db78968d",
      "11c7d60f4c0a4e55aaeeb7053228898e",
      "5e315f4b022a4f03b6b05a9401fe9661",
      "7e659aaad49a48b1838b55c9321d53f1",
      "65cedc0fc7e04c919e30959b8d61d848",
      "9628882373bc4873921d2223219573d2",
      "1a73c880079d4baf803c8063b10050dd",
      "ff768b9dd13041ba8d1a4fc97268650c",
      "9f06f93037c04c4cab9e77f808ec0e20",
      "9f3bc71605364c458c5d05db36bc4472",
      "d9b30370091749e9a38e3067d92625dd",
      "68a9c9e32450495fbac90b6fbf36ea7c",
      "e4f19f90571f4628b8716884b942598f",
      "0f37df0617274f418a1f71226c724bc8",
      "5d2d20f9acaa438aa3c359a209c4bc32",
      "b39f0a1b76224ec58863b132f5e8ff77",
      "3cb22621e22140539237dd61dedf0b10",
      "b244149bf46f4deea71c61ce9eb8f337"
     ]
    },
    "executionInfo": {
     "elapsed": 15251,
     "status": "ok",
     "timestamp": 1633411143334,
     "user": {
      "displayName": "Ashraf Haddad",
      "photoUrl": "https://lh3.googleusercontent.com/a-/AOh14Gh_860lEjtF96d2NSUEmAqlYL7dhh3Uz8VnjUivUQ=s64",
      "userId": "13931689762732430725"
     },
     "user_tz": -240
    },
    "id": "3JAi9KytJnEc",
    "outputId": "12e22360-f3a8-49af-dc9d-4a56b588571c"
   },
   "outputs": [
    {
     "name": "stderr",
     "output_type": "stream",
     "text": [
      "/home/u21010246/.conda/envs/rob/lib/python3.9/site-packages/torchvision/datasets/mnist.py:498: UserWarning: The given NumPy array is not writeable, and PyTorch does not support non-writeable tensors. This means you can write to the underlying (supposedly non-writeable) NumPy array using the tensor. You may want to copy the array to protect its data or make it writeable before converting it to a tensor. This type of warning will be suppressed for the rest of this program. (Triggered internally at  /opt/conda/conda-bld/pytorch_1631630841592/work/torch/csrc/utils/tensor_numpy.cpp:180.)\n",
      "  return torch.from_numpy(parsed.astype(m[2], copy=False)).view(*s)\n",
      "/home/u21010246/.conda/envs/rob/lib/python3.9/site-packages/torchvision/datasets/mnist.py:62: UserWarning: train_data has been renamed data\n",
      "  warnings.warn(\"train_data has been renamed data\")\n"
     ]
    }
   ],
   "source": [
    "# values are standard normalization for ImageNet images, \n",
    "# from https://github.com/pytorch/examples/blob/master/imagenet/main.py\n",
    "#norm = Normalize(mean=[0.485, 0.456, 0.406], std=[0.229, 0.224, 0.225])\n",
    "\n",
    "# load pre-trained ResNet50, and put into evaluation mode (necessary to e.g. turn off batchnorm)\n",
    "#model = resnet50(pretrained=True)\n",
    "#model.eval();\n",
    "# model:\n",
    "model = MnistResNet().to(device)\n",
    "\n",
    "# params you need to specify:\n",
    "epochs = 150\n",
    "batch_size = 128\n",
    "\n",
    "# Dataloaders\n",
    "train_loader, val_loader = get_data_loaders(batch_size, batch_size)\n",
    "\n",
    "# loss function and optimiyer\n",
    "loss_function = nn.CrossEntropyLoss() # your loss function, cross entropy works well for multi-class problems\n",
    "\n",
    "# optimizer, I've used Adadelta, as it wokrs well without any magic numbers\n",
    "optimizer = torch.optim.Adam(model.parameters(), lr=5e-4) # Using Karpathy's learning rate constant\n",
    "\n",
    "start_ts = time.time()\n",
    "\n",
    "losses = []\n",
    "batches = len(train_loader)\n",
    "val_batches = len(val_loader)"
   ]
  },
  {
   "cell_type": "code",
   "execution_count": 8,
   "metadata": {
    "colab": {
     "base_uri": "https://localhost:8080/",
     "height": 49,
     "referenced_widgets": [
      "372cec36e63543bd83b6db252ed9a12a",
      "4ce65f44a60a4751b7c658bbc09c55ed",
      "14886144ca4e4e55b4dfad5bd6790550",
      "9cdb2f1098454b7db1f3d84da34eb847",
      "f38727e742b44cd0bf10df786020058d",
      "e28fa28cc9ec4a52a18037d911035b07",
      "77e052c7a7de420eafb6cf55d2d406b1",
      "5a997a81ebc34a8db0d7b28d43572638",
      "ab34633ae4864e859b6b3bc1929c30c7",
      "4363655a1cbb4cc492c081b241aee628",
      "0979ace70edf4b0db2e394bdd0de8017"
     ]
    },
    "id": "sSWuFopqJnEf",
    "outputId": "e0cae263-639e-4b37-a1d1-93b5bbb87907"
   },
   "outputs": [
    {
     "data": {
      "application/vnd.jupyter.widget-view+json": {
       "model_id": "b191476e6ceb4747928690cd9c3f3a0f",
       "version_major": 2,
       "version_minor": 0
      },
      "text/plain": [
       "Loss:   0%|          | 0/469 [00:00<?, ?it/s]"
      ]
     },
     "metadata": {},
     "output_type": "display_data"
    },
    {
     "name": "stdout",
     "output_type": "stream",
     "text": [
      "Epoch 1/150, training loss: 0.47155638379074616, validation loss: 0.3439166247844696\n",
      "\t     precision: 0.8720\n",
      "\t        recall: 0.8720\n",
      "\t            F1: 0.0000\n",
      "\t      accuracy: 0.8720\n"
     ]
    },
    {
     "data": {
      "application/vnd.jupyter.widget-view+json": {
       "model_id": "7a3ea1b6eb864ecc8f91b643a5512f12",
       "version_major": 2,
       "version_minor": 0
      },
      "text/plain": [
       "Loss:   0%|          | 0/469 [00:00<?, ?it/s]"
      ]
     },
     "metadata": {},
     "output_type": "display_data"
    },
    {
     "name": "stdout",
     "output_type": "stream",
     "text": [
      "Epoch 2/150, training loss: 0.2653298220241756, validation loss: 0.26805204153060913\n",
      "\t     precision: 0.9053\n",
      "\t        recall: 0.9053\n",
      "\t            F1: 0.0000\n",
      "\t      accuracy: 0.9053\n"
     ]
    },
    {
     "data": {
      "application/vnd.jupyter.widget-view+json": {
       "model_id": "6a0b1e51aa404db5b5472429de12479b",
       "version_major": 2,
       "version_minor": 0
      },
      "text/plain": [
       "Loss:   0%|          | 0/469 [00:00<?, ?it/s]"
      ]
     },
     "metadata": {},
     "output_type": "display_data"
    },
    {
     "name": "stdout",
     "output_type": "stream",
     "text": [
      "Epoch 3/150, training loss: 0.22087975438914573, validation loss: 0.2922322452068329\n",
      "\t     precision: 0.8953\n",
      "\t        recall: 0.8953\n",
      "\t            F1: 0.0000\n",
      "\t      accuracy: 0.8953\n"
     ]
    },
    {
     "data": {
      "application/vnd.jupyter.widget-view+json": {
       "model_id": "8862e0774d2144feaf1e0098fc33ccd9",
       "version_major": 2,
       "version_minor": 0
      },
      "text/plain": [
       "Loss:   0%|          | 0/469 [00:00<?, ?it/s]"
      ]
     },
     "metadata": {},
     "output_type": "display_data"
    },
    {
     "name": "stdout",
     "output_type": "stream",
     "text": [
      "Epoch 4/150, training loss: 0.19737504187550373, validation loss: 0.25958991050720215\n",
      "\t     precision: 0.9099\n",
      "\t        recall: 0.9099\n",
      "\t            F1: 0.0000\n",
      "\t      accuracy: 0.9099\n"
     ]
    },
    {
     "data": {
      "application/vnd.jupyter.widget-view+json": {
       "model_id": "caefcf99b757440f949c90624eb1e3ab",
       "version_major": 2,
       "version_minor": 0
      },
      "text/plain": [
       "Loss:   0%|          | 0/469 [00:00<?, ?it/s]"
      ]
     },
     "metadata": {},
     "output_type": "display_data"
    },
    {
     "name": "stdout",
     "output_type": "stream",
     "text": [
      "Epoch 5/150, training loss: 0.17248732377407647, validation loss: 0.3070117235183716\n",
      "\t     precision: 0.8994\n",
      "\t        recall: 0.8994\n",
      "\t            F1: 0.0000\n",
      "\t      accuracy: 0.8994\n"
     ]
    },
    {
     "data": {
      "application/vnd.jupyter.widget-view+json": {
       "model_id": "d3d3444d4fb6401eb771a7946a86eed7",
       "version_major": 2,
       "version_minor": 0
      },
      "text/plain": [
       "Loss:   0%|          | 0/469 [00:00<?, ?it/s]"
      ]
     },
     "metadata": {},
     "output_type": "display_data"
    },
    {
     "name": "stdout",
     "output_type": "stream",
     "text": [
      "Epoch 6/150, training loss: 0.15412448005858007, validation loss: 0.2274211049079895\n",
      "\t     precision: 0.9224\n",
      "\t        recall: 0.9224\n",
      "\t            F1: 0.0000\n",
      "\t      accuracy: 0.9224\n"
     ]
    },
    {
     "data": {
      "application/vnd.jupyter.widget-view+json": {
       "model_id": "59a1e1e6708c49488a15294b92da6a43",
       "version_major": 2,
       "version_minor": 0
      },
      "text/plain": [
       "Loss:   0%|          | 0/469 [00:00<?, ?it/s]"
      ]
     },
     "metadata": {},
     "output_type": "display_data"
    },
    {
     "name": "stdout",
     "output_type": "stream",
     "text": [
      "Epoch 7/150, training loss: 0.13832319271303953, validation loss: 0.22211728990077972\n",
      "\t     precision: 0.9284\n",
      "\t        recall: 0.9284\n",
      "\t            F1: 0.0000\n",
      "\t      accuracy: 0.9284\n"
     ]
    },
    {
     "data": {
      "application/vnd.jupyter.widget-view+json": {
       "model_id": "3f6c002d27104e8bb24443261448b28b",
       "version_major": 2,
       "version_minor": 0
      },
      "text/plain": [
       "Loss:   0%|          | 0/469 [00:00<?, ?it/s]"
      ]
     },
     "metadata": {},
     "output_type": "display_data"
    },
    {
     "name": "stdout",
     "output_type": "stream",
     "text": [
      "Epoch 8/150, training loss: 0.12113100419373019, validation loss: 0.22184942662715912\n",
      "\t     precision: 0.9234\n",
      "\t        recall: 0.9234\n",
      "\t            F1: 0.0000\n",
      "\t      accuracy: 0.9234\n"
     ]
    },
    {
     "data": {
      "application/vnd.jupyter.widget-view+json": {
       "model_id": "bfedfb31908d47628219ed53cfbcfba1",
       "version_major": 2,
       "version_minor": 0
      },
      "text/plain": [
       "Loss:   0%|          | 0/469 [00:00<?, ?it/s]"
      ]
     },
     "metadata": {},
     "output_type": "display_data"
    },
    {
     "name": "stdout",
     "output_type": "stream",
     "text": [
      "Epoch 9/150, training loss: 0.10405403772579518, validation loss: 0.27207133173942566\n",
      "\t     precision: 0.9174\n",
      "\t        recall: 0.9174\n",
      "\t            F1: 0.0000\n",
      "\t      accuracy: 0.9174\n"
     ]
    },
    {
     "data": {
      "application/vnd.jupyter.widget-view+json": {
       "model_id": "51eec1ee4da54dc9820874eabc47206e",
       "version_major": 2,
       "version_minor": 0
      },
      "text/plain": [
       "Loss:   0%|          | 0/469 [00:00<?, ?it/s]"
      ]
     },
     "metadata": {},
     "output_type": "display_data"
    },
    {
     "name": "stdout",
     "output_type": "stream",
     "text": [
      "Epoch 10/150, training loss: 0.08932548021075568, validation loss: 0.3146052956581116\n",
      "\t     precision: 0.9043\n",
      "\t        recall: 0.9043\n",
      "\t            F1: 0.0000\n",
      "\t      accuracy: 0.9043\n"
     ]
    },
    {
     "data": {
      "application/vnd.jupyter.widget-view+json": {
       "model_id": "f35cfbc71b5c4a4482cf90a292fbccd1",
       "version_major": 2,
       "version_minor": 0
      },
      "text/plain": [
       "Loss:   0%|          | 0/469 [00:00<?, ?it/s]"
      ]
     },
     "metadata": {},
     "output_type": "display_data"
    },
    {
     "name": "stdout",
     "output_type": "stream",
     "text": [
      "Epoch 11/150, training loss: 0.07919390185841366, validation loss: 0.29594385623931885\n",
      "\t     precision: 0.9184\n",
      "\t        recall: 0.9184\n",
      "\t            F1: 0.0000\n",
      "\t      accuracy: 0.9184\n"
     ]
    },
    {
     "data": {
      "application/vnd.jupyter.widget-view+json": {
       "model_id": "69c3a1b29d9b4b0caf66a1c27fa8c059",
       "version_major": 2,
       "version_minor": 0
      },
      "text/plain": [
       "Loss:   0%|          | 0/469 [00:00<?, ?it/s]"
      ]
     },
     "metadata": {},
     "output_type": "display_data"
    },
    {
     "name": "stdout",
     "output_type": "stream",
     "text": [
      "Epoch 12/150, training loss: 0.0634558155481368, validation loss: 0.2861192524433136\n",
      "\t     precision: 0.9230\n",
      "\t        recall: 0.9230\n",
      "\t            F1: 0.0000\n",
      "\t      accuracy: 0.9230\n"
     ]
    },
    {
     "data": {
      "application/vnd.jupyter.widget-view+json": {
       "model_id": "f3dee4c457964329a08aadff4a553588",
       "version_major": 2,
       "version_minor": 0
      },
      "text/plain": [
       "Loss:   0%|          | 0/469 [00:00<?, ?it/s]"
      ]
     },
     "metadata": {},
     "output_type": "display_data"
    },
    {
     "name": "stdout",
     "output_type": "stream",
     "text": [
      "Epoch 13/150, training loss: 0.05945462508917427, validation loss: 0.3498552739620209\n",
      "\t     precision: 0.9201\n",
      "\t        recall: 0.9201\n",
      "\t            F1: 0.0000\n",
      "\t      accuracy: 0.9201\n"
     ]
    },
    {
     "data": {
      "application/vnd.jupyter.widget-view+json": {
       "model_id": "8a29e492229847d9b9d4a0c64c2024fb",
       "version_major": 2,
       "version_minor": 0
      },
      "text/plain": [
       "Loss:   0%|          | 0/469 [00:00<?, ?it/s]"
      ]
     },
     "metadata": {},
     "output_type": "display_data"
    },
    {
     "name": "stdout",
     "output_type": "stream",
     "text": [
      "Epoch 14/150, training loss: 0.04444323256631682, validation loss: 0.33449968695640564\n",
      "\t     precision: 0.9155\n",
      "\t        recall: 0.9155\n",
      "\t            F1: 0.0000\n",
      "\t      accuracy: 0.9155\n"
     ]
    },
    {
     "data": {
      "application/vnd.jupyter.widget-view+json": {
       "model_id": "9f613bba74c44a7bb9e5b6a59ee7d056",
       "version_major": 2,
       "version_minor": 0
      },
      "text/plain": [
       "Loss:   0%|          | 0/469 [00:00<?, ?it/s]"
      ]
     },
     "metadata": {},
     "output_type": "display_data"
    },
    {
     "name": "stdout",
     "output_type": "stream",
     "text": [
      "Epoch 15/150, training loss: 0.04778587480715073, validation loss: 0.34142380952835083\n",
      "\t     precision: 0.9154\n",
      "\t        recall: 0.9154\n",
      "\t            F1: 0.0000\n",
      "\t      accuracy: 0.9154\n"
     ]
    },
    {
     "data": {
      "application/vnd.jupyter.widget-view+json": {
       "model_id": "b3013ca2215f48099006ac3a010d1580",
       "version_major": 2,
       "version_minor": 0
      },
      "text/plain": [
       "Loss:   0%|          | 0/469 [00:00<?, ?it/s]"
      ]
     },
     "metadata": {},
     "output_type": "display_data"
    },
    {
     "name": "stdout",
     "output_type": "stream",
     "text": [
      "Epoch 16/150, training loss: 0.03530377574410957, validation loss: 0.32932257652282715\n",
      "\t     precision: 0.9262\n",
      "\t        recall: 0.9262\n",
      "\t            F1: 0.0000\n",
      "\t      accuracy: 0.9262\n"
     ]
    },
    {
     "data": {
      "application/vnd.jupyter.widget-view+json": {
       "model_id": "c2c1cd90725145558b1e0cdc585a3fbe",
       "version_major": 2,
       "version_minor": 0
      },
      "text/plain": [
       "Loss:   0%|          | 0/469 [00:00<?, ?it/s]"
      ]
     },
     "metadata": {},
     "output_type": "display_data"
    },
    {
     "name": "stdout",
     "output_type": "stream",
     "text": [
      "Epoch 17/150, training loss: 0.03255191909224748, validation loss: 0.35980015993118286\n",
      "\t     precision: 0.9223\n",
      "\t        recall: 0.9223\n",
      "\t            F1: 0.0000\n",
      "\t      accuracy: 0.9223\n"
     ]
    },
    {
     "data": {
      "application/vnd.jupyter.widget-view+json": {
       "model_id": "17491a91791140e7910725798827b705",
       "version_major": 2,
       "version_minor": 0
      },
      "text/plain": [
       "Loss:   0%|          | 0/469 [00:00<?, ?it/s]"
      ]
     },
     "metadata": {},
     "output_type": "display_data"
    },
    {
     "name": "stdout",
     "output_type": "stream",
     "text": [
      "Epoch 18/150, training loss: 0.030437011804520044, validation loss: 0.43554070591926575\n",
      "\t     precision: 0.9118\n",
      "\t        recall: 0.9118\n",
      "\t            F1: 0.0000\n",
      "\t      accuracy: 0.9118\n"
     ]
    },
    {
     "data": {
      "application/vnd.jupyter.widget-view+json": {
       "model_id": "75612b229734498895c26b933472c27b",
       "version_major": 2,
       "version_minor": 0
      },
      "text/plain": [
       "Loss:   0%|          | 0/469 [00:00<?, ?it/s]"
      ]
     },
     "metadata": {},
     "output_type": "display_data"
    },
    {
     "name": "stdout",
     "output_type": "stream",
     "text": [
      "Epoch 19/150, training loss: 0.03976308360104082, validation loss: 0.355587363243103\n",
      "\t     precision: 0.9211\n",
      "\t        recall: 0.9211\n",
      "\t            F1: 0.0000\n",
      "\t      accuracy: 0.9211\n"
     ]
    },
    {
     "data": {
      "application/vnd.jupyter.widget-view+json": {
       "model_id": "7d3622a87bac4919b8bf8ea4211b0ebd",
       "version_major": 2,
       "version_minor": 0
      },
      "text/plain": [
       "Loss:   0%|          | 0/469 [00:00<?, ?it/s]"
      ]
     },
     "metadata": {},
     "output_type": "display_data"
    },
    {
     "name": "stdout",
     "output_type": "stream",
     "text": [
      "Epoch 20/150, training loss: 0.02417139168880852, validation loss: 0.35451582074165344\n",
      "\t     precision: 0.9296\n",
      "\t        recall: 0.9296\n",
      "\t            F1: 0.0000\n",
      "\t      accuracy: 0.9296\n"
     ]
    },
    {
     "data": {
      "application/vnd.jupyter.widget-view+json": {
       "model_id": "01b06b55f2624761a62a48eb314c2844",
       "version_major": 2,
       "version_minor": 0
      },
      "text/plain": [
       "Loss:   0%|          | 0/469 [00:00<?, ?it/s]"
      ]
     },
     "metadata": {},
     "output_type": "display_data"
    },
    {
     "name": "stdout",
     "output_type": "stream",
     "text": [
      "Epoch 21/150, training loss: 0.026368587316427904, validation loss: 0.36421671509742737\n",
      "\t     precision: 0.9261\n",
      "\t        recall: 0.9261\n",
      "\t            F1: 0.0000\n",
      "\t      accuracy: 0.9261\n"
     ]
    },
    {
     "data": {
      "application/vnd.jupyter.widget-view+json": {
       "model_id": "6cef40bab5754a429c75d82325e6dfb7",
       "version_major": 2,
       "version_minor": 0
      },
      "text/plain": [
       "Loss:   0%|          | 0/469 [00:00<?, ?it/s]"
      ]
     },
     "metadata": {},
     "output_type": "display_data"
    },
    {
     "name": "stdout",
     "output_type": "stream",
     "text": [
      "Epoch 22/150, training loss: 0.02664947229735891, validation loss: 0.3744155764579773\n",
      "\t     precision: 0.9264\n",
      "\t        recall: 0.9264\n",
      "\t            F1: 0.0000\n",
      "\t      accuracy: 0.9264\n"
     ]
    },
    {
     "data": {
      "application/vnd.jupyter.widget-view+json": {
       "model_id": "34bfad06f6cb4822b9aba0a51af29c1d",
       "version_major": 2,
       "version_minor": 0
      },
      "text/plain": [
       "Loss:   0%|          | 0/469 [00:00<?, ?it/s]"
      ]
     },
     "metadata": {},
     "output_type": "display_data"
    },
    {
     "name": "stdout",
     "output_type": "stream",
     "text": [
      "Epoch 23/150, training loss: 0.024527014950963, validation loss: 0.38823825120925903\n",
      "\t     precision: 0.9263\n",
      "\t        recall: 0.9263\n",
      "\t            F1: 0.0000\n",
      "\t      accuracy: 0.9263\n"
     ]
    },
    {
     "data": {
      "application/vnd.jupyter.widget-view+json": {
       "model_id": "68d51f5523de4e8180b28c4b1e11643e",
       "version_major": 2,
       "version_minor": 0
      },
      "text/plain": [
       "Loss:   0%|          | 0/469 [00:00<?, ?it/s]"
      ]
     },
     "metadata": {},
     "output_type": "display_data"
    },
    {
     "name": "stdout",
     "output_type": "stream",
     "text": [
      "Epoch 24/150, training loss: 0.02267701974577223, validation loss: 0.38528454303741455\n",
      "\t     precision: 0.9258\n",
      "\t        recall: 0.9258\n",
      "\t            F1: 0.0000\n",
      "\t      accuracy: 0.9258\n"
     ]
    },
    {
     "data": {
      "application/vnd.jupyter.widget-view+json": {
       "model_id": "59aef0be267142849430750f40b2a658",
       "version_major": 2,
       "version_minor": 0
      },
      "text/plain": [
       "Loss:   0%|          | 0/469 [00:00<?, ?it/s]"
      ]
     },
     "metadata": {},
     "output_type": "display_data"
    },
    {
     "name": "stdout",
     "output_type": "stream",
     "text": [
      "Epoch 25/150, training loss: 0.01844169486154949, validation loss: 0.4145374596118927\n",
      "\t     precision: 0.9229\n",
      "\t        recall: 0.9229\n",
      "\t            F1: 0.0000\n",
      "\t      accuracy: 0.9229\n"
     ]
    },
    {
     "data": {
      "application/vnd.jupyter.widget-view+json": {
       "model_id": "177fd75c3a214c78a821b9d366d81fe8",
       "version_major": 2,
       "version_minor": 0
      },
      "text/plain": [
       "Loss:   0%|          | 0/469 [00:00<?, ?it/s]"
      ]
     },
     "metadata": {},
     "output_type": "display_data"
    },
    {
     "name": "stdout",
     "output_type": "stream",
     "text": [
      "Epoch 26/150, training loss: 0.02080851685468491, validation loss: 0.4400705397129059\n",
      "\t     precision: 0.9181\n",
      "\t        recall: 0.9181\n",
      "\t            F1: 0.0000\n",
      "\t      accuracy: 0.9181\n"
     ]
    },
    {
     "data": {
      "application/vnd.jupyter.widget-view+json": {
       "model_id": "1805d90e87df4ac7a90249c1b6a55245",
       "version_major": 2,
       "version_minor": 0
      },
      "text/plain": [
       "Loss:   0%|          | 0/469 [00:00<?, ?it/s]"
      ]
     },
     "metadata": {},
     "output_type": "display_data"
    },
    {
     "name": "stdout",
     "output_type": "stream",
     "text": [
      "Epoch 27/150, training loss: 0.015729195296343392, validation loss: 0.3753198981285095\n",
      "\t     precision: 0.9286\n",
      "\t        recall: 0.9286\n",
      "\t            F1: 0.0000\n",
      "\t      accuracy: 0.9286\n"
     ]
    },
    {
     "data": {
      "application/vnd.jupyter.widget-view+json": {
       "model_id": "279e7bff2ce24bfb967eb4e3ad8b7e75",
       "version_major": 2,
       "version_minor": 0
      },
      "text/plain": [
       "Loss:   0%|          | 0/469 [00:00<?, ?it/s]"
      ]
     },
     "metadata": {},
     "output_type": "display_data"
    },
    {
     "name": "stdout",
     "output_type": "stream",
     "text": [
      "Epoch 28/150, training loss: 0.018239766305217196, validation loss: 0.3823273181915283\n",
      "\t     precision: 0.9233\n",
      "\t        recall: 0.9233\n",
      "\t            F1: 0.0000\n",
      "\t      accuracy: 0.9233\n"
     ]
    },
    {
     "data": {
      "application/vnd.jupyter.widget-view+json": {
       "model_id": "e98737cd7c9b470fb4ac07d057ff4ce5",
       "version_major": 2,
       "version_minor": 0
      },
      "text/plain": [
       "Loss:   0%|          | 0/469 [00:00<?, ?it/s]"
      ]
     },
     "metadata": {},
     "output_type": "display_data"
    },
    {
     "name": "stdout",
     "output_type": "stream",
     "text": [
      "Epoch 29/150, training loss: 0.022019420836571612, validation loss: 0.4146064221858978\n",
      "\t     precision: 0.9206\n",
      "\t        recall: 0.9206\n",
      "\t            F1: 0.0000\n",
      "\t      accuracy: 0.9206\n"
     ]
    },
    {
     "data": {
      "application/vnd.jupyter.widget-view+json": {
       "model_id": "b8a627b604cd452490a818370b16177c",
       "version_major": 2,
       "version_minor": 0
      },
      "text/plain": [
       "Loss:   0%|          | 0/469 [00:00<?, ?it/s]"
      ]
     },
     "metadata": {},
     "output_type": "display_data"
    },
    {
     "name": "stdout",
     "output_type": "stream",
     "text": [
      "Epoch 30/150, training loss: 0.01827631989860215, validation loss: 0.42486533522605896\n",
      "\t     precision: 0.9256\n",
      "\t        recall: 0.9256\n",
      "\t            F1: 0.0000\n",
      "\t      accuracy: 0.9256\n"
     ]
    },
    {
     "data": {
      "application/vnd.jupyter.widget-view+json": {
       "model_id": "2941d5e82b0e42efbf3c8222fe1be02d",
       "version_major": 2,
       "version_minor": 0
      },
      "text/plain": [
       "Loss:   0%|          | 0/469 [00:00<?, ?it/s]"
      ]
     },
     "metadata": {},
     "output_type": "display_data"
    },
    {
     "name": "stdout",
     "output_type": "stream",
     "text": [
      "Epoch 31/150, training loss: 0.010761598048725852, validation loss: 0.4714573323726654\n",
      "\t     precision: 0.9264\n",
      "\t        recall: 0.9264\n",
      "\t            F1: 0.0000\n",
      "\t      accuracy: 0.9264\n"
     ]
    },
    {
     "data": {
      "application/vnd.jupyter.widget-view+json": {
       "model_id": "9d08f2c773ba4171aa3b19c0813bfff5",
       "version_major": 2,
       "version_minor": 0
      },
      "text/plain": [
       "Loss:   0%|          | 0/469 [00:00<?, ?it/s]"
      ]
     },
     "metadata": {},
     "output_type": "display_data"
    },
    {
     "name": "stdout",
     "output_type": "stream",
     "text": [
      "Epoch 32/150, training loss: 0.018106151293399857, validation loss: 0.4037594795227051\n",
      "\t     precision: 0.9250\n",
      "\t        recall: 0.9250\n",
      "\t            F1: 0.0000\n",
      "\t      accuracy: 0.9250\n"
     ]
    },
    {
     "data": {
      "application/vnd.jupyter.widget-view+json": {
       "model_id": "6fdcdf14b0a64b5c9c08e266f32ceaf5",
       "version_major": 2,
       "version_minor": 0
      },
      "text/plain": [
       "Loss:   0%|          | 0/469 [00:00<?, ?it/s]"
      ]
     },
     "metadata": {},
     "output_type": "display_data"
    },
    {
     "name": "stdout",
     "output_type": "stream",
     "text": [
      "Epoch 33/150, training loss: 0.015322161478865177, validation loss: 0.4392017126083374\n",
      "\t     precision: 0.9247\n",
      "\t        recall: 0.9247\n",
      "\t            F1: 0.0000\n",
      "\t      accuracy: 0.9247\n"
     ]
    },
    {
     "data": {
      "application/vnd.jupyter.widget-view+json": {
       "model_id": "cbffcf2d9e1448dfa2501b625386f294",
       "version_major": 2,
       "version_minor": 0
      },
      "text/plain": [
       "Loss:   0%|          | 0/469 [00:00<?, ?it/s]"
      ]
     },
     "metadata": {},
     "output_type": "display_data"
    },
    {
     "name": "stdout",
     "output_type": "stream",
     "text": [
      "Epoch 34/150, training loss: 0.011567445471494976, validation loss: 0.5158754587173462\n",
      "\t     precision: 0.9187\n",
      "\t        recall: 0.9187\n",
      "\t            F1: 0.0000\n",
      "\t      accuracy: 0.9187\n"
     ]
    },
    {
     "data": {
      "application/vnd.jupyter.widget-view+json": {
       "model_id": "1052f8d3c82140038c8271b1aa2222f9",
       "version_major": 2,
       "version_minor": 0
      },
      "text/plain": [
       "Loss:   0%|          | 0/469 [00:00<?, ?it/s]"
      ]
     },
     "metadata": {},
     "output_type": "display_data"
    },
    {
     "name": "stdout",
     "output_type": "stream",
     "text": [
      "Epoch 35/150, training loss: 0.016600680453825057, validation loss: 0.39930272102355957\n",
      "\t     precision: 0.9306\n",
      "\t        recall: 0.9306\n",
      "\t            F1: 0.0000\n",
      "\t      accuracy: 0.9306\n"
     ]
    },
    {
     "data": {
      "application/vnd.jupyter.widget-view+json": {
       "model_id": "889e388ecb3243b29eb59fc0b4364723",
       "version_major": 2,
       "version_minor": 0
      },
      "text/plain": [
       "Loss:   0%|          | 0/469 [00:00<?, ?it/s]"
      ]
     },
     "metadata": {},
     "output_type": "display_data"
    },
    {
     "name": "stdout",
     "output_type": "stream",
     "text": [
      "Epoch 36/150, training loss: 0.009729330037242025, validation loss: 0.42102280259132385\n",
      "\t     precision: 0.9306\n",
      "\t        recall: 0.9306\n",
      "\t            F1: 0.0000\n",
      "\t      accuracy: 0.9306\n"
     ]
    },
    {
     "data": {
      "application/vnd.jupyter.widget-view+json": {
       "model_id": "6944c72c71df418baa88848540aa167b",
       "version_major": 2,
       "version_minor": 0
      },
      "text/plain": [
       "Loss:   0%|          | 0/469 [00:00<?, ?it/s]"
      ]
     },
     "metadata": {},
     "output_type": "display_data"
    },
    {
     "name": "stdout",
     "output_type": "stream",
     "text": [
      "Epoch 37/150, training loss: 0.01729521028721568, validation loss: 0.43494585156440735\n",
      "\t     precision: 0.9245\n",
      "\t        recall: 0.9245\n",
      "\t            F1: 0.0000\n",
      "\t      accuracy: 0.9245\n"
     ]
    },
    {
     "data": {
      "application/vnd.jupyter.widget-view+json": {
       "model_id": "7a77af30f58c477898f214f2a4de0fc8",
       "version_major": 2,
       "version_minor": 0
      },
      "text/plain": [
       "Loss:   0%|          | 0/469 [00:00<?, ?it/s]"
      ]
     },
     "metadata": {},
     "output_type": "display_data"
    },
    {
     "name": "stdout",
     "output_type": "stream",
     "text": [
      "Epoch 38/150, training loss: 0.010694039056037823, validation loss: 0.438610702753067\n",
      "\t     precision: 0.9242\n",
      "\t        recall: 0.9242\n",
      "\t            F1: 0.0000\n",
      "\t      accuracy: 0.9242\n"
     ]
    },
    {
     "data": {
      "application/vnd.jupyter.widget-view+json": {
       "model_id": "95a956e2c56f4ea19fa5dad3198420f3",
       "version_major": 2,
       "version_minor": 0
      },
      "text/plain": [
       "Loss:   0%|          | 0/469 [00:00<?, ?it/s]"
      ]
     },
     "metadata": {},
     "output_type": "display_data"
    },
    {
     "name": "stdout",
     "output_type": "stream",
     "text": [
      "Epoch 39/150, training loss: 0.015220326493584317, validation loss: 0.46559756994247437\n",
      "\t     precision: 0.9259\n",
      "\t        recall: 0.9259\n",
      "\t            F1: 0.0000\n",
      "\t      accuracy: 0.9259\n"
     ]
    },
    {
     "data": {
      "application/vnd.jupyter.widget-view+json": {
       "model_id": "0bf455af1c6f4a26b2f84465f1f3d458",
       "version_major": 2,
       "version_minor": 0
      },
      "text/plain": [
       "Loss:   0%|          | 0/469 [00:00<?, ?it/s]"
      ]
     },
     "metadata": {},
     "output_type": "display_data"
    },
    {
     "name": "stdout",
     "output_type": "stream",
     "text": [
      "Epoch 40/150, training loss: 0.014787329312144984, validation loss: 0.4822005033493042\n",
      "\t     precision: 0.9204\n",
      "\t        recall: 0.9204\n",
      "\t            F1: 0.0000\n",
      "\t      accuracy: 0.9204\n"
     ]
    },
    {
     "data": {
      "application/vnd.jupyter.widget-view+json": {
       "model_id": "aff19de1cad94fedaf0bb11a4989c3d4",
       "version_major": 2,
       "version_minor": 0
      },
      "text/plain": [
       "Loss:   0%|          | 0/469 [00:00<?, ?it/s]"
      ]
     },
     "metadata": {},
     "output_type": "display_data"
    },
    {
     "name": "stdout",
     "output_type": "stream",
     "text": [
      "Epoch 41/150, training loss: 0.008755602627805658, validation loss: 0.44749704003334045\n",
      "\t     precision: 0.9317\n",
      "\t        recall: 0.9317\n",
      "\t            F1: 0.0000\n",
      "\t      accuracy: 0.9317\n"
     ]
    },
    {
     "data": {
      "application/vnd.jupyter.widget-view+json": {
       "model_id": "b7c55a0248124e93b2c521f4f25e4cd2",
       "version_major": 2,
       "version_minor": 0
      },
      "text/plain": [
       "Loss:   0%|          | 0/469 [00:00<?, ?it/s]"
      ]
     },
     "metadata": {},
     "output_type": "display_data"
    },
    {
     "name": "stdout",
     "output_type": "stream",
     "text": [
      "Epoch 42/150, training loss: 0.010277624485853152, validation loss: 0.4403742253780365\n",
      "\t     precision: 0.9265\n",
      "\t        recall: 0.9265\n",
      "\t            F1: 0.0000\n",
      "\t      accuracy: 0.9265\n"
     ]
    },
    {
     "data": {
      "application/vnd.jupyter.widget-view+json": {
       "model_id": "c78ec311af434be0a581fd51fb30c240",
       "version_major": 2,
       "version_minor": 0
      },
      "text/plain": [
       "Loss:   0%|          | 0/469 [00:00<?, ?it/s]"
      ]
     },
     "metadata": {},
     "output_type": "display_data"
    },
    {
     "name": "stdout",
     "output_type": "stream",
     "text": [
      "Epoch 43/150, training loss: 0.01136013267587298, validation loss: 0.44022539258003235\n",
      "\t     precision: 0.9328\n",
      "\t        recall: 0.9328\n",
      "\t            F1: 0.0000\n",
      "\t      accuracy: 0.9328\n"
     ]
    },
    {
     "data": {
      "application/vnd.jupyter.widget-view+json": {
       "model_id": "b4808c1b3a7344399b53dad264539237",
       "version_major": 2,
       "version_minor": 0
      },
      "text/plain": [
       "Loss:   0%|          | 0/469 [00:00<?, ?it/s]"
      ]
     },
     "metadata": {},
     "output_type": "display_data"
    },
    {
     "name": "stdout",
     "output_type": "stream",
     "text": [
      "Epoch 44/150, training loss: 0.008852483073095423, validation loss: 0.49335041642189026\n",
      "\t     precision: 0.9225\n",
      "\t        recall: 0.9225\n",
      "\t            F1: 0.0000\n",
      "\t      accuracy: 0.9225\n"
     ]
    },
    {
     "data": {
      "application/vnd.jupyter.widget-view+json": {
       "model_id": "6146d1d720664bc0a57d44b6bf5b30e4",
       "version_major": 2,
       "version_minor": 0
      },
      "text/plain": [
       "Loss:   0%|          | 0/469 [00:00<?, ?it/s]"
      ]
     },
     "metadata": {},
     "output_type": "display_data"
    },
    {
     "name": "stdout",
     "output_type": "stream",
     "text": [
      "Epoch 45/150, training loss: 0.01329098643782151, validation loss: 0.4279744327068329\n",
      "\t     precision: 0.9180\n",
      "\t        recall: 0.9180\n",
      "\t            F1: 0.0000\n",
      "\t      accuracy: 0.9180\n"
     ]
    },
    {
     "data": {
      "application/vnd.jupyter.widget-view+json": {
       "model_id": "fcf00137e19e49afa548aa17e7fc0c14",
       "version_major": 2,
       "version_minor": 0
      },
      "text/plain": [
       "Loss:   0%|          | 0/469 [00:00<?, ?it/s]"
      ]
     },
     "metadata": {},
     "output_type": "display_data"
    },
    {
     "name": "stdout",
     "output_type": "stream",
     "text": [
      "Epoch 46/150, training loss: 0.010695079220728959, validation loss: 0.427804172039032\n",
      "\t     precision: 0.9250\n",
      "\t        recall: 0.9250\n",
      "\t            F1: 0.0000\n",
      "\t      accuracy: 0.9250\n"
     ]
    },
    {
     "data": {
      "application/vnd.jupyter.widget-view+json": {
       "model_id": "1e8ce8cdd3c443a5b507692ccda58780",
       "version_major": 2,
       "version_minor": 0
      },
      "text/plain": [
       "Loss:   0%|          | 0/469 [00:00<?, ?it/s]"
      ]
     },
     "metadata": {},
     "output_type": "display_data"
    },
    {
     "name": "stdout",
     "output_type": "stream",
     "text": [
      "Epoch 47/150, training loss: 0.011493554580424266, validation loss: 0.45977845788002014\n",
      "\t     precision: 0.9274\n",
      "\t        recall: 0.9274\n",
      "\t            F1: 0.0000\n",
      "\t      accuracy: 0.9274\n"
     ]
    },
    {
     "data": {
      "application/vnd.jupyter.widget-view+json": {
       "model_id": "f67d8d272a3f488f82edc13bc385cc38",
       "version_major": 2,
       "version_minor": 0
      },
      "text/plain": [
       "Loss:   0%|          | 0/469 [00:00<?, ?it/s]"
      ]
     },
     "metadata": {},
     "output_type": "display_data"
    },
    {
     "name": "stdout",
     "output_type": "stream",
     "text": [
      "Epoch 48/150, training loss: 0.005522746711599434, validation loss: 0.48310360312461853\n",
      "\t     precision: 0.9287\n",
      "\t        recall: 0.9287\n",
      "\t            F1: 0.0000\n",
      "\t      accuracy: 0.9287\n"
     ]
    },
    {
     "data": {
      "application/vnd.jupyter.widget-view+json": {
       "model_id": "dfa517ca91444443bfb06f1893000ef6",
       "version_major": 2,
       "version_minor": 0
      },
      "text/plain": [
       "Loss:   0%|          | 0/469 [00:00<?, ?it/s]"
      ]
     },
     "metadata": {},
     "output_type": "display_data"
    },
    {
     "name": "stdout",
     "output_type": "stream",
     "text": [
      "Epoch 49/150, training loss: 0.012919268049220906, validation loss: 0.4520092308521271\n",
      "\t     precision: 0.9315\n",
      "\t        recall: 0.9315\n",
      "\t            F1: 0.0000\n",
      "\t      accuracy: 0.9315\n"
     ]
    },
    {
     "data": {
      "application/vnd.jupyter.widget-view+json": {
       "model_id": "d0e1de6cb4db46779b2faeee406a7672",
       "version_major": 2,
       "version_minor": 0
      },
      "text/plain": [
       "Loss:   0%|          | 0/469 [00:00<?, ?it/s]"
      ]
     },
     "metadata": {},
     "output_type": "display_data"
    },
    {
     "name": "stdout",
     "output_type": "stream",
     "text": [
      "Epoch 50/150, training loss: 0.005495249942887196, validation loss: 0.4895588457584381\n",
      "\t     precision: 0.9312\n",
      "\t        recall: 0.9312\n",
      "\t            F1: 0.0000\n",
      "\t      accuracy: 0.9312\n"
     ]
    },
    {
     "data": {
      "application/vnd.jupyter.widget-view+json": {
       "model_id": "5561b8de074f4948b0b49625acf8c465",
       "version_major": 2,
       "version_minor": 0
      },
      "text/plain": [
       "Loss:   0%|          | 0/469 [00:00<?, ?it/s]"
      ]
     },
     "metadata": {},
     "output_type": "display_data"
    },
    {
     "name": "stdout",
     "output_type": "stream",
     "text": [
      "Epoch 51/150, training loss: 0.013001305679160817, validation loss: 0.48403677344322205\n",
      "\t     precision: 0.9255\n",
      "\t        recall: 0.9255\n",
      "\t            F1: 0.0000\n",
      "\t      accuracy: 0.9255\n"
     ]
    },
    {
     "data": {
      "application/vnd.jupyter.widget-view+json": {
       "model_id": "9b5d126c0bbe44ed8a8ce6c84578a1ea",
       "version_major": 2,
       "version_minor": 0
      },
      "text/plain": [
       "Loss:   0%|          | 0/469 [00:00<?, ?it/s]"
      ]
     },
     "metadata": {},
     "output_type": "display_data"
    },
    {
     "name": "stdout",
     "output_type": "stream",
     "text": [
      "Epoch 52/150, training loss: 0.006600574414727456, validation loss: 0.43306902050971985\n",
      "\t     precision: 0.9338\n",
      "\t        recall: 0.9338\n",
      "\t            F1: 0.0000\n",
      "\t      accuracy: 0.9338\n"
     ]
    },
    {
     "data": {
      "application/vnd.jupyter.widget-view+json": {
       "model_id": "58cd2d2610c548b4afccbfccc57859f6",
       "version_major": 2,
       "version_minor": 0
      },
      "text/plain": [
       "Loss:   0%|          | 0/469 [00:00<?, ?it/s]"
      ]
     },
     "metadata": {},
     "output_type": "display_data"
    },
    {
     "name": "stdout",
     "output_type": "stream",
     "text": [
      "Epoch 53/150, training loss: 0.006832158924692334, validation loss: 0.5083478689193726\n",
      "\t     precision: 0.9273\n",
      "\t        recall: 0.9273\n",
      "\t            F1: 0.0000\n",
      "\t      accuracy: 0.9273\n"
     ]
    },
    {
     "data": {
      "application/vnd.jupyter.widget-view+json": {
       "model_id": "350d1e59cd174ccfacab6a3c96e84e05",
       "version_major": 2,
       "version_minor": 0
      },
      "text/plain": [
       "Loss:   0%|          | 0/469 [00:00<?, ?it/s]"
      ]
     },
     "metadata": {},
     "output_type": "display_data"
    },
    {
     "name": "stdout",
     "output_type": "stream",
     "text": [
      "Epoch 54/150, training loss: 0.011514716335065437, validation loss: 0.45812004804611206\n",
      "\t     precision: 0.9266\n",
      "\t        recall: 0.9266\n",
      "\t            F1: 0.0000\n",
      "\t      accuracy: 0.9266\n"
     ]
    },
    {
     "data": {
      "application/vnd.jupyter.widget-view+json": {
       "model_id": "d6bbe8a358a24ba5afed3b7bd6c1414c",
       "version_major": 2,
       "version_minor": 0
      },
      "text/plain": [
       "Loss:   0%|          | 0/469 [00:00<?, ?it/s]"
      ]
     },
     "metadata": {},
     "output_type": "display_data"
    },
    {
     "name": "stdout",
     "output_type": "stream",
     "text": [
      "Epoch 55/150, training loss: 0.006310271573380375, validation loss: 0.44077399373054504\n",
      "\t     precision: 0.9351\n",
      "\t        recall: 0.9351\n",
      "\t            F1: 0.0000\n",
      "\t      accuracy: 0.9351\n"
     ]
    },
    {
     "data": {
      "application/vnd.jupyter.widget-view+json": {
       "model_id": "577f0413b55043cc8224377695f4ec95",
       "version_major": 2,
       "version_minor": 0
      },
      "text/plain": [
       "Loss:   0%|          | 0/469 [00:00<?, ?it/s]"
      ]
     },
     "metadata": {},
     "output_type": "display_data"
    },
    {
     "name": "stdout",
     "output_type": "stream",
     "text": [
      "Epoch 56/150, training loss: 0.007179293695685132, validation loss: 0.4846588969230652\n",
      "\t     precision: 0.9308\n",
      "\t        recall: 0.9308\n",
      "\t            F1: 0.0000\n",
      "\t      accuracy: 0.9308\n"
     ]
    },
    {
     "data": {
      "application/vnd.jupyter.widget-view+json": {
       "model_id": "4c5aea4ffc8846fa9b89022b648da129",
       "version_major": 2,
       "version_minor": 0
      },
      "text/plain": [
       "Loss:   0%|          | 0/469 [00:00<?, ?it/s]"
      ]
     },
     "metadata": {},
     "output_type": "display_data"
    },
    {
     "name": "stdout",
     "output_type": "stream",
     "text": [
      "Epoch 57/150, training loss: 0.011362836040653827, validation loss: 0.43106210231781006\n",
      "\t     precision: 0.9294\n",
      "\t        recall: 0.9294\n",
      "\t            F1: 0.0000\n",
      "\t      accuracy: 0.9294\n"
     ]
    },
    {
     "data": {
      "application/vnd.jupyter.widget-view+json": {
       "model_id": "2568c87afe354fe885bfec91a3953cf3",
       "version_major": 2,
       "version_minor": 0
      },
      "text/plain": [
       "Loss:   0%|          | 0/469 [00:00<?, ?it/s]"
      ]
     },
     "metadata": {},
     "output_type": "display_data"
    },
    {
     "name": "stdout",
     "output_type": "stream",
     "text": [
      "Epoch 58/150, training loss: 0.0028263422772288865, validation loss: 0.4624904692173004\n",
      "\t     precision: 0.9342\n",
      "\t        recall: 0.9342\n",
      "\t            F1: 0.0000\n",
      "\t      accuracy: 0.9342\n"
     ]
    },
    {
     "data": {
      "application/vnd.jupyter.widget-view+json": {
       "model_id": "710afd51dc0a4630932a1c5151c3dfc2",
       "version_major": 2,
       "version_minor": 0
      },
      "text/plain": [
       "Loss:   0%|          | 0/469 [00:00<?, ?it/s]"
      ]
     },
     "metadata": {},
     "output_type": "display_data"
    },
    {
     "name": "stdout",
     "output_type": "stream",
     "text": [
      "Epoch 59/150, training loss: 0.005398473327745599, validation loss: 0.5243203639984131\n",
      "\t     precision: 0.9267\n",
      "\t        recall: 0.9267\n",
      "\t            F1: 0.0000\n",
      "\t      accuracy: 0.9267\n"
     ]
    },
    {
     "data": {
      "application/vnd.jupyter.widget-view+json": {
       "model_id": "8f53a24dd6aa4fe1bbc9a68c28123959",
       "version_major": 2,
       "version_minor": 0
      },
      "text/plain": [
       "Loss:   0%|          | 0/469 [00:00<?, ?it/s]"
      ]
     },
     "metadata": {},
     "output_type": "display_data"
    },
    {
     "name": "stdout",
     "output_type": "stream",
     "text": [
      "Epoch 60/150, training loss: 0.013662533159913825, validation loss: 0.48417016863822937\n",
      "\t     precision: 0.9244\n",
      "\t        recall: 0.9244\n",
      "\t            F1: 0.0000\n",
      "\t      accuracy: 0.9244\n"
     ]
    },
    {
     "data": {
      "application/vnd.jupyter.widget-view+json": {
       "model_id": "3a9c1b95952b42b19a8719e53955b812",
       "version_major": 2,
       "version_minor": 0
      },
      "text/plain": [
       "Loss:   0%|          | 0/469 [00:00<?, ?it/s]"
      ]
     },
     "metadata": {},
     "output_type": "display_data"
    },
    {
     "name": "stdout",
     "output_type": "stream",
     "text": [
      "Epoch 61/150, training loss: 0.007131765652173811, validation loss: 0.4618445932865143\n",
      "\t     precision: 0.9266\n",
      "\t        recall: 0.9266\n",
      "\t            F1: 0.0000\n",
      "\t      accuracy: 0.9266\n"
     ]
    },
    {
     "data": {
      "application/vnd.jupyter.widget-view+json": {
       "model_id": "0c61a0fc429747ac87ee8c4bbdbccd0a",
       "version_major": 2,
       "version_minor": 0
      },
      "text/plain": [
       "Loss:   0%|          | 0/469 [00:00<?, ?it/s]"
      ]
     },
     "metadata": {},
     "output_type": "display_data"
    },
    {
     "name": "stdout",
     "output_type": "stream",
     "text": [
      "Epoch 62/150, training loss: 0.00566450645835693, validation loss: 0.49397340416908264\n",
      "\t     precision: 0.9295\n",
      "\t        recall: 0.9295\n",
      "\t            F1: 0.0000\n",
      "\t      accuracy: 0.9295\n"
     ]
    },
    {
     "data": {
      "application/vnd.jupyter.widget-view+json": {
       "model_id": "49af8c66de6c496fbca089472f449ed0",
       "version_major": 2,
       "version_minor": 0
      },
      "text/plain": [
       "Loss:   0%|          | 0/469 [00:00<?, ?it/s]"
      ]
     },
     "metadata": {},
     "output_type": "display_data"
    },
    {
     "name": "stdout",
     "output_type": "stream",
     "text": [
      "Epoch 63/150, training loss: 0.006586572899216416, validation loss: 0.4652364253997803\n",
      "\t     precision: 0.9318\n",
      "\t        recall: 0.9318\n",
      "\t            F1: 0.0000\n",
      "\t      accuracy: 0.9318\n"
     ]
    },
    {
     "data": {
      "application/vnd.jupyter.widget-view+json": {
       "model_id": "5588608a3b3945b8ba17bec4b35aa2ee",
       "version_major": 2,
       "version_minor": 0
      },
      "text/plain": [
       "Loss:   0%|          | 0/469 [00:00<?, ?it/s]"
      ]
     },
     "metadata": {},
     "output_type": "display_data"
    },
    {
     "name": "stdout",
     "output_type": "stream",
     "text": [
      "Epoch 64/150, training loss: 0.0024482451794531008, validation loss: 0.4812066853046417\n",
      "\t     precision: 0.9330\n",
      "\t        recall: 0.9330\n",
      "\t            F1: 0.0000\n",
      "\t      accuracy: 0.9330\n"
     ]
    },
    {
     "data": {
      "application/vnd.jupyter.widget-view+json": {
       "model_id": "2480b84def244fe0812eec48830b314c",
       "version_major": 2,
       "version_minor": 0
      },
      "text/plain": [
       "Loss:   0%|          | 0/469 [00:00<?, ?it/s]"
      ]
     },
     "metadata": {},
     "output_type": "display_data"
    },
    {
     "name": "stdout",
     "output_type": "stream",
     "text": [
      "Epoch 65/150, training loss: 0.010794327069861984, validation loss: 0.5336522459983826\n",
      "\t     precision: 0.9277\n",
      "\t        recall: 0.9277\n",
      "\t            F1: 0.0000\n",
      "\t      accuracy: 0.9277\n"
     ]
    },
    {
     "data": {
      "application/vnd.jupyter.widget-view+json": {
       "model_id": "05d34e2e10d04b5b8205061fdeb34d94",
       "version_major": 2,
       "version_minor": 0
      },
      "text/plain": [
       "Loss:   0%|          | 0/469 [00:00<?, ?it/s]"
      ]
     },
     "metadata": {},
     "output_type": "display_data"
    },
    {
     "name": "stdout",
     "output_type": "stream",
     "text": [
      "Epoch 66/150, training loss: 0.007042131122901166, validation loss: 0.4457332491874695\n",
      "\t     precision: 0.9319\n",
      "\t        recall: 0.9319\n",
      "\t            F1: 0.0000\n",
      "\t      accuracy: 0.9319\n"
     ]
    },
    {
     "data": {
      "application/vnd.jupyter.widget-view+json": {
       "model_id": "ea1d664f63b44167835bdb2a54752340",
       "version_major": 2,
       "version_minor": 0
      },
      "text/plain": [
       "Loss:   0%|          | 0/469 [00:00<?, ?it/s]"
      ]
     },
     "metadata": {},
     "output_type": "display_data"
    },
    {
     "name": "stdout",
     "output_type": "stream",
     "text": [
      "Epoch 67/150, training loss: 0.004735836341902824, validation loss: 0.4888991415500641\n",
      "\t     precision: 0.9286\n",
      "\t        recall: 0.9286\n",
      "\t            F1: 0.0000\n",
      "\t      accuracy: 0.9286\n"
     ]
    },
    {
     "data": {
      "application/vnd.jupyter.widget-view+json": {
       "model_id": "359a26a0024f4ed1973f9768dcb51e08",
       "version_major": 2,
       "version_minor": 0
      },
      "text/plain": [
       "Loss:   0%|          | 0/469 [00:00<?, ?it/s]"
      ]
     },
     "metadata": {},
     "output_type": "display_data"
    },
    {
     "name": "stdout",
     "output_type": "stream",
     "text": [
      "Epoch 68/150, training loss: 0.006025919837829744, validation loss: 0.5035784244537354\n",
      "\t     precision: 0.9296\n",
      "\t        recall: 0.9296\n",
      "\t            F1: 0.0000\n",
      "\t      accuracy: 0.9296\n"
     ]
    },
    {
     "data": {
      "application/vnd.jupyter.widget-view+json": {
       "model_id": "4c89a5d59f5b4dad8d0f3fd94e875a94",
       "version_major": 2,
       "version_minor": 0
      },
      "text/plain": [
       "Loss:   0%|          | 0/469 [00:00<?, ?it/s]"
      ]
     },
     "metadata": {},
     "output_type": "display_data"
    },
    {
     "name": "stdout",
     "output_type": "stream",
     "text": [
      "Epoch 69/150, training loss: 0.008134853808298318, validation loss: 0.4979414641857147\n",
      "\t     precision: 0.9266\n",
      "\t        recall: 0.9266\n",
      "\t            F1: 0.0000\n",
      "\t      accuracy: 0.9266\n"
     ]
    },
    {
     "data": {
      "application/vnd.jupyter.widget-view+json": {
       "model_id": "87a21f3a86b049c2b278b0862f25fc4f",
       "version_major": 2,
       "version_minor": 0
      },
      "text/plain": [
       "Loss:   0%|          | 0/469 [00:00<?, ?it/s]"
      ]
     },
     "metadata": {},
     "output_type": "display_data"
    },
    {
     "name": "stdout",
     "output_type": "stream",
     "text": [
      "Epoch 70/150, training loss: 0.008343400529342663, validation loss: 0.5683320760726929\n",
      "\t     precision: 0.9214\n",
      "\t        recall: 0.9214\n",
      "\t            F1: 0.0000\n",
      "\t      accuracy: 0.9214\n"
     ]
    },
    {
     "data": {
      "application/vnd.jupyter.widget-view+json": {
       "model_id": "fb92868bf563419cad486d073e986b20",
       "version_major": 2,
       "version_minor": 0
      },
      "text/plain": [
       "Loss:   0%|          | 0/469 [00:00<?, ?it/s]"
      ]
     },
     "metadata": {},
     "output_type": "display_data"
    },
    {
     "name": "stdout",
     "output_type": "stream",
     "text": [
      "Epoch 71/150, training loss: 0.0060550529989127225, validation loss: 0.4704437255859375\n",
      "\t     precision: 0.9306\n",
      "\t        recall: 0.9306\n",
      "\t            F1: 0.0000\n",
      "\t      accuracy: 0.9306\n"
     ]
    },
    {
     "data": {
      "application/vnd.jupyter.widget-view+json": {
       "model_id": "944a1a80f5744f10ac7f7e131edbaadb",
       "version_major": 2,
       "version_minor": 0
      },
      "text/plain": [
       "Loss:   0%|          | 0/469 [00:00<?, ?it/s]"
      ]
     },
     "metadata": {},
     "output_type": "display_data"
    },
    {
     "name": "stdout",
     "output_type": "stream",
     "text": [
      "Epoch 72/150, training loss: 0.0035231223745218862, validation loss: 0.47681742906570435\n",
      "\t     precision: 0.9323\n",
      "\t        recall: 0.9323\n",
      "\t            F1: 0.0000\n",
      "\t      accuracy: 0.9323\n"
     ]
    },
    {
     "data": {
      "application/vnd.jupyter.widget-view+json": {
       "model_id": "4f95b7759fa44c028d778690c41dc462",
       "version_major": 2,
       "version_minor": 0
      },
      "text/plain": [
       "Loss:   0%|          | 0/469 [00:00<?, ?it/s]"
      ]
     },
     "metadata": {},
     "output_type": "display_data"
    },
    {
     "name": "stdout",
     "output_type": "stream",
     "text": [
      "Epoch 73/150, training loss: 0.0011943842887749676, validation loss: 0.5354706048965454\n",
      "\t     precision: 0.9291\n",
      "\t        recall: 0.9291\n",
      "\t            F1: 0.0000\n",
      "\t      accuracy: 0.9291\n"
     ]
    },
    {
     "data": {
      "application/vnd.jupyter.widget-view+json": {
       "model_id": "1d48bf9f984b40198bc90d05e5ebf4df",
       "version_major": 2,
       "version_minor": 0
      },
      "text/plain": [
       "Loss:   0%|          | 0/469 [00:00<?, ?it/s]"
      ]
     },
     "metadata": {},
     "output_type": "display_data"
    },
    {
     "ename": "KeyboardInterrupt",
     "evalue": "",
     "output_type": "error",
     "traceback": [
      "\u001b[0;31m---------------------------------------------------------------------------\u001b[0m",
      "\u001b[0;31mKeyboardInterrupt\u001b[0m                         Traceback (most recent call last)",
      "\u001b[0;32m/tmp/ipykernel_227103/4056237242.py\u001b[0m in \u001b[0;36m<module>\u001b[0;34m\u001b[0m\n\u001b[1;32m     40\u001b[0m     \u001b[0mmodel\u001b[0m\u001b[0;34m.\u001b[0m\u001b[0meval\u001b[0m\u001b[0;34m(\u001b[0m\u001b[0;34m)\u001b[0m\u001b[0;34m\u001b[0m\u001b[0;34m\u001b[0m\u001b[0m\n\u001b[1;32m     41\u001b[0m     \u001b[0;32mwith\u001b[0m \u001b[0mtorch\u001b[0m\u001b[0;34m.\u001b[0m\u001b[0mno_grad\u001b[0m\u001b[0;34m(\u001b[0m\u001b[0;34m)\u001b[0m\u001b[0;34m:\u001b[0m\u001b[0;34m\u001b[0m\u001b[0;34m\u001b[0m\u001b[0m\n\u001b[0;32m---> 42\u001b[0;31m         \u001b[0;32mfor\u001b[0m \u001b[0mi\u001b[0m\u001b[0;34m,\u001b[0m \u001b[0mdata\u001b[0m \u001b[0;32min\u001b[0m \u001b[0menumerate\u001b[0m\u001b[0;34m(\u001b[0m\u001b[0mval_loader\u001b[0m\u001b[0;34m)\u001b[0m\u001b[0;34m:\u001b[0m\u001b[0;34m\u001b[0m\u001b[0;34m\u001b[0m\u001b[0m\n\u001b[0m\u001b[1;32m     43\u001b[0m             \u001b[0mX\u001b[0m\u001b[0;34m,\u001b[0m \u001b[0my\u001b[0m \u001b[0;34m=\u001b[0m \u001b[0mdata\u001b[0m\u001b[0;34m[\u001b[0m\u001b[0;36m0\u001b[0m\u001b[0;34m]\u001b[0m\u001b[0;34m.\u001b[0m\u001b[0mto\u001b[0m\u001b[0;34m(\u001b[0m\u001b[0mdevice\u001b[0m\u001b[0;34m)\u001b[0m\u001b[0;34m,\u001b[0m \u001b[0mdata\u001b[0m\u001b[0;34m[\u001b[0m\u001b[0;36m1\u001b[0m\u001b[0;34m]\u001b[0m\u001b[0;34m.\u001b[0m\u001b[0mto\u001b[0m\u001b[0;34m(\u001b[0m\u001b[0mdevice\u001b[0m\u001b[0;34m)\u001b[0m\u001b[0;34m\u001b[0m\u001b[0;34m\u001b[0m\u001b[0m\n\u001b[1;32m     44\u001b[0m \u001b[0;34m\u001b[0m\u001b[0m\n",
      "\u001b[0;32m~/.conda/envs/rob/lib/python3.9/site-packages/torch/utils/data/dataloader.py\u001b[0m in \u001b[0;36m__next__\u001b[0;34m(self)\u001b[0m\n\u001b[1;32m    519\u001b[0m             \u001b[0;32mif\u001b[0m \u001b[0mself\u001b[0m\u001b[0;34m.\u001b[0m\u001b[0m_sampler_iter\u001b[0m \u001b[0;32mis\u001b[0m \u001b[0;32mNone\u001b[0m\u001b[0;34m:\u001b[0m\u001b[0;34m\u001b[0m\u001b[0;34m\u001b[0m\u001b[0m\n\u001b[1;32m    520\u001b[0m                 \u001b[0mself\u001b[0m\u001b[0;34m.\u001b[0m\u001b[0m_reset\u001b[0m\u001b[0;34m(\u001b[0m\u001b[0;34m)\u001b[0m\u001b[0;34m\u001b[0m\u001b[0;34m\u001b[0m\u001b[0m\n\u001b[0;32m--> 521\u001b[0;31m             \u001b[0mdata\u001b[0m \u001b[0;34m=\u001b[0m \u001b[0mself\u001b[0m\u001b[0;34m.\u001b[0m\u001b[0m_next_data\u001b[0m\u001b[0;34m(\u001b[0m\u001b[0;34m)\u001b[0m\u001b[0;34m\u001b[0m\u001b[0;34m\u001b[0m\u001b[0m\n\u001b[0m\u001b[1;32m    522\u001b[0m             \u001b[0mself\u001b[0m\u001b[0;34m.\u001b[0m\u001b[0m_num_yielded\u001b[0m \u001b[0;34m+=\u001b[0m \u001b[0;36m1\u001b[0m\u001b[0;34m\u001b[0m\u001b[0;34m\u001b[0m\u001b[0m\n\u001b[1;32m    523\u001b[0m             \u001b[0;32mif\u001b[0m \u001b[0mself\u001b[0m\u001b[0;34m.\u001b[0m\u001b[0m_dataset_kind\u001b[0m \u001b[0;34m==\u001b[0m \u001b[0m_DatasetKind\u001b[0m\u001b[0;34m.\u001b[0m\u001b[0mIterable\u001b[0m \u001b[0;32mand\u001b[0m\u001b[0;31m \u001b[0m\u001b[0;31m\\\u001b[0m\u001b[0;34m\u001b[0m\u001b[0;34m\u001b[0m\u001b[0m\n",
      "\u001b[0;32m~/.conda/envs/rob/lib/python3.9/site-packages/torch/utils/data/dataloader.py\u001b[0m in \u001b[0;36m_next_data\u001b[0;34m(self)\u001b[0m\n\u001b[1;32m    559\u001b[0m     \u001b[0;32mdef\u001b[0m \u001b[0m_next_data\u001b[0m\u001b[0;34m(\u001b[0m\u001b[0mself\u001b[0m\u001b[0;34m)\u001b[0m\u001b[0;34m:\u001b[0m\u001b[0;34m\u001b[0m\u001b[0;34m\u001b[0m\u001b[0m\n\u001b[1;32m    560\u001b[0m         \u001b[0mindex\u001b[0m \u001b[0;34m=\u001b[0m \u001b[0mself\u001b[0m\u001b[0;34m.\u001b[0m\u001b[0m_next_index\u001b[0m\u001b[0;34m(\u001b[0m\u001b[0;34m)\u001b[0m  \u001b[0;31m# may raise StopIteration\u001b[0m\u001b[0;34m\u001b[0m\u001b[0;34m\u001b[0m\u001b[0m\n\u001b[0;32m--> 561\u001b[0;31m         \u001b[0mdata\u001b[0m \u001b[0;34m=\u001b[0m \u001b[0mself\u001b[0m\u001b[0;34m.\u001b[0m\u001b[0m_dataset_fetcher\u001b[0m\u001b[0;34m.\u001b[0m\u001b[0mfetch\u001b[0m\u001b[0;34m(\u001b[0m\u001b[0mindex\u001b[0m\u001b[0;34m)\u001b[0m  \u001b[0;31m# may raise StopIteration\u001b[0m\u001b[0;34m\u001b[0m\u001b[0;34m\u001b[0m\u001b[0m\n\u001b[0m\u001b[1;32m    562\u001b[0m         \u001b[0;32mif\u001b[0m \u001b[0mself\u001b[0m\u001b[0;34m.\u001b[0m\u001b[0m_pin_memory\u001b[0m\u001b[0;34m:\u001b[0m\u001b[0;34m\u001b[0m\u001b[0;34m\u001b[0m\u001b[0m\n\u001b[1;32m    563\u001b[0m             \u001b[0mdata\u001b[0m \u001b[0;34m=\u001b[0m \u001b[0m_utils\u001b[0m\u001b[0;34m.\u001b[0m\u001b[0mpin_memory\u001b[0m\u001b[0;34m.\u001b[0m\u001b[0mpin_memory\u001b[0m\u001b[0;34m(\u001b[0m\u001b[0mdata\u001b[0m\u001b[0;34m)\u001b[0m\u001b[0;34m\u001b[0m\u001b[0;34m\u001b[0m\u001b[0m\n",
      "\u001b[0;32m~/.conda/envs/rob/lib/python3.9/site-packages/torch/utils/data/_utils/fetch.py\u001b[0m in \u001b[0;36mfetch\u001b[0;34m(self, possibly_batched_index)\u001b[0m\n\u001b[1;32m     42\u001b[0m     \u001b[0;32mdef\u001b[0m \u001b[0mfetch\u001b[0m\u001b[0;34m(\u001b[0m\u001b[0mself\u001b[0m\u001b[0;34m,\u001b[0m \u001b[0mpossibly_batched_index\u001b[0m\u001b[0;34m)\u001b[0m\u001b[0;34m:\u001b[0m\u001b[0;34m\u001b[0m\u001b[0;34m\u001b[0m\u001b[0m\n\u001b[1;32m     43\u001b[0m         \u001b[0;32mif\u001b[0m \u001b[0mself\u001b[0m\u001b[0;34m.\u001b[0m\u001b[0mauto_collation\u001b[0m\u001b[0;34m:\u001b[0m\u001b[0;34m\u001b[0m\u001b[0;34m\u001b[0m\u001b[0m\n\u001b[0;32m---> 44\u001b[0;31m             \u001b[0mdata\u001b[0m \u001b[0;34m=\u001b[0m \u001b[0;34m[\u001b[0m\u001b[0mself\u001b[0m\u001b[0;34m.\u001b[0m\u001b[0mdataset\u001b[0m\u001b[0;34m[\u001b[0m\u001b[0midx\u001b[0m\u001b[0;34m]\u001b[0m \u001b[0;32mfor\u001b[0m \u001b[0midx\u001b[0m \u001b[0;32min\u001b[0m \u001b[0mpossibly_batched_index\u001b[0m\u001b[0;34m]\u001b[0m\u001b[0;34m\u001b[0m\u001b[0;34m\u001b[0m\u001b[0m\n\u001b[0m\u001b[1;32m     45\u001b[0m         \u001b[0;32melse\u001b[0m\u001b[0;34m:\u001b[0m\u001b[0;34m\u001b[0m\u001b[0;34m\u001b[0m\u001b[0m\n\u001b[1;32m     46\u001b[0m             \u001b[0mdata\u001b[0m \u001b[0;34m=\u001b[0m \u001b[0mself\u001b[0m\u001b[0;34m.\u001b[0m\u001b[0mdataset\u001b[0m\u001b[0;34m[\u001b[0m\u001b[0mpossibly_batched_index\u001b[0m\u001b[0;34m]\u001b[0m\u001b[0;34m\u001b[0m\u001b[0;34m\u001b[0m\u001b[0m\n",
      "\u001b[0;32m~/.conda/envs/rob/lib/python3.9/site-packages/torch/utils/data/_utils/fetch.py\u001b[0m in \u001b[0;36m<listcomp>\u001b[0;34m(.0)\u001b[0m\n\u001b[1;32m     42\u001b[0m     \u001b[0;32mdef\u001b[0m \u001b[0mfetch\u001b[0m\u001b[0;34m(\u001b[0m\u001b[0mself\u001b[0m\u001b[0;34m,\u001b[0m \u001b[0mpossibly_batched_index\u001b[0m\u001b[0;34m)\u001b[0m\u001b[0;34m:\u001b[0m\u001b[0;34m\u001b[0m\u001b[0;34m\u001b[0m\u001b[0m\n\u001b[1;32m     43\u001b[0m         \u001b[0;32mif\u001b[0m \u001b[0mself\u001b[0m\u001b[0;34m.\u001b[0m\u001b[0mauto_collation\u001b[0m\u001b[0;34m:\u001b[0m\u001b[0;34m\u001b[0m\u001b[0;34m\u001b[0m\u001b[0m\n\u001b[0;32m---> 44\u001b[0;31m             \u001b[0mdata\u001b[0m \u001b[0;34m=\u001b[0m \u001b[0;34m[\u001b[0m\u001b[0mself\u001b[0m\u001b[0;34m.\u001b[0m\u001b[0mdataset\u001b[0m\u001b[0;34m[\u001b[0m\u001b[0midx\u001b[0m\u001b[0;34m]\u001b[0m \u001b[0;32mfor\u001b[0m \u001b[0midx\u001b[0m \u001b[0;32min\u001b[0m \u001b[0mpossibly_batched_index\u001b[0m\u001b[0;34m]\u001b[0m\u001b[0;34m\u001b[0m\u001b[0;34m\u001b[0m\u001b[0m\n\u001b[0m\u001b[1;32m     45\u001b[0m         \u001b[0;32melse\u001b[0m\u001b[0;34m:\u001b[0m\u001b[0;34m\u001b[0m\u001b[0;34m\u001b[0m\u001b[0m\n\u001b[1;32m     46\u001b[0m             \u001b[0mdata\u001b[0m \u001b[0;34m=\u001b[0m \u001b[0mself\u001b[0m\u001b[0;34m.\u001b[0m\u001b[0mdataset\u001b[0m\u001b[0;34m[\u001b[0m\u001b[0mpossibly_batched_index\u001b[0m\u001b[0;34m]\u001b[0m\u001b[0;34m\u001b[0m\u001b[0;34m\u001b[0m\u001b[0m\n",
      "\u001b[0;32m~/.conda/envs/rob/lib/python3.9/site-packages/torchvision/datasets/mnist.py\u001b[0m in \u001b[0;36m__getitem__\u001b[0;34m(self, index)\u001b[0m\n\u001b[1;32m    132\u001b[0m \u001b[0;34m\u001b[0m\u001b[0m\n\u001b[1;32m    133\u001b[0m         \u001b[0;32mif\u001b[0m \u001b[0mself\u001b[0m\u001b[0;34m.\u001b[0m\u001b[0mtransform\u001b[0m \u001b[0;32mis\u001b[0m \u001b[0;32mnot\u001b[0m \u001b[0;32mNone\u001b[0m\u001b[0;34m:\u001b[0m\u001b[0;34m\u001b[0m\u001b[0;34m\u001b[0m\u001b[0m\n\u001b[0;32m--> 134\u001b[0;31m             \u001b[0mimg\u001b[0m \u001b[0;34m=\u001b[0m \u001b[0mself\u001b[0m\u001b[0;34m.\u001b[0m\u001b[0mtransform\u001b[0m\u001b[0;34m(\u001b[0m\u001b[0mimg\u001b[0m\u001b[0;34m)\u001b[0m\u001b[0;34m\u001b[0m\u001b[0;34m\u001b[0m\u001b[0m\n\u001b[0m\u001b[1;32m    135\u001b[0m \u001b[0;34m\u001b[0m\u001b[0m\n\u001b[1;32m    136\u001b[0m         \u001b[0;32mif\u001b[0m \u001b[0mself\u001b[0m\u001b[0;34m.\u001b[0m\u001b[0mtarget_transform\u001b[0m \u001b[0;32mis\u001b[0m \u001b[0;32mnot\u001b[0m \u001b[0;32mNone\u001b[0m\u001b[0;34m:\u001b[0m\u001b[0;34m\u001b[0m\u001b[0;34m\u001b[0m\u001b[0m\n",
      "\u001b[0;32m~/.conda/envs/rob/lib/python3.9/site-packages/torchvision/transforms/transforms.py\u001b[0m in \u001b[0;36m__call__\u001b[0;34m(self, img)\u001b[0m\n\u001b[1;32m     58\u001b[0m     \u001b[0;32mdef\u001b[0m \u001b[0m__call__\u001b[0m\u001b[0;34m(\u001b[0m\u001b[0mself\u001b[0m\u001b[0;34m,\u001b[0m \u001b[0mimg\u001b[0m\u001b[0;34m)\u001b[0m\u001b[0;34m:\u001b[0m\u001b[0;34m\u001b[0m\u001b[0;34m\u001b[0m\u001b[0m\n\u001b[1;32m     59\u001b[0m         \u001b[0;32mfor\u001b[0m \u001b[0mt\u001b[0m \u001b[0;32min\u001b[0m \u001b[0mself\u001b[0m\u001b[0;34m.\u001b[0m\u001b[0mtransforms\u001b[0m\u001b[0;34m:\u001b[0m\u001b[0;34m\u001b[0m\u001b[0;34m\u001b[0m\u001b[0m\n\u001b[0;32m---> 60\u001b[0;31m             \u001b[0mimg\u001b[0m \u001b[0;34m=\u001b[0m \u001b[0mt\u001b[0m\u001b[0;34m(\u001b[0m\u001b[0mimg\u001b[0m\u001b[0;34m)\u001b[0m\u001b[0;34m\u001b[0m\u001b[0;34m\u001b[0m\u001b[0m\n\u001b[0m\u001b[1;32m     61\u001b[0m         \u001b[0;32mreturn\u001b[0m \u001b[0mimg\u001b[0m\u001b[0;34m\u001b[0m\u001b[0;34m\u001b[0m\u001b[0m\n\u001b[1;32m     62\u001b[0m \u001b[0;34m\u001b[0m\u001b[0m\n",
      "\u001b[0;32m~/.conda/envs/rob/lib/python3.9/site-packages/torchvision/transforms/transforms.py\u001b[0m in \u001b[0;36m__call__\u001b[0;34m(self, pic)\u001b[0m\n\u001b[1;32m     95\u001b[0m             \u001b[0mTensor\u001b[0m\u001b[0;34m:\u001b[0m \u001b[0mConverted\u001b[0m \u001b[0mimage\u001b[0m\u001b[0;34m.\u001b[0m\u001b[0;34m\u001b[0m\u001b[0;34m\u001b[0m\u001b[0m\n\u001b[1;32m     96\u001b[0m         \"\"\"\n\u001b[0;32m---> 97\u001b[0;31m         \u001b[0;32mreturn\u001b[0m \u001b[0mF\u001b[0m\u001b[0;34m.\u001b[0m\u001b[0mto_tensor\u001b[0m\u001b[0;34m(\u001b[0m\u001b[0mpic\u001b[0m\u001b[0;34m)\u001b[0m\u001b[0;34m\u001b[0m\u001b[0;34m\u001b[0m\u001b[0m\n\u001b[0m\u001b[1;32m     98\u001b[0m \u001b[0;34m\u001b[0m\u001b[0m\n\u001b[1;32m     99\u001b[0m     \u001b[0;32mdef\u001b[0m \u001b[0m__repr__\u001b[0m\u001b[0;34m(\u001b[0m\u001b[0mself\u001b[0m\u001b[0;34m)\u001b[0m\u001b[0;34m:\u001b[0m\u001b[0;34m\u001b[0m\u001b[0;34m\u001b[0m\u001b[0m\n",
      "\u001b[0;32m~/.conda/envs/rob/lib/python3.9/site-packages/torchvision/transforms/functional.py\u001b[0m in \u001b[0;36mto_tensor\u001b[0;34m(pic)\u001b[0m\n\u001b[1;32m    127\u001b[0m     \u001b[0mmode_to_nptype\u001b[0m \u001b[0;34m=\u001b[0m \u001b[0;34m{\u001b[0m\u001b[0;34m'I'\u001b[0m\u001b[0;34m:\u001b[0m \u001b[0mnp\u001b[0m\u001b[0;34m.\u001b[0m\u001b[0mint32\u001b[0m\u001b[0;34m,\u001b[0m \u001b[0;34m'I;16'\u001b[0m\u001b[0;34m:\u001b[0m \u001b[0mnp\u001b[0m\u001b[0;34m.\u001b[0m\u001b[0mint16\u001b[0m\u001b[0;34m,\u001b[0m \u001b[0;34m'F'\u001b[0m\u001b[0;34m:\u001b[0m \u001b[0mnp\u001b[0m\u001b[0;34m.\u001b[0m\u001b[0mfloat32\u001b[0m\u001b[0;34m}\u001b[0m\u001b[0;34m\u001b[0m\u001b[0;34m\u001b[0m\u001b[0m\n\u001b[1;32m    128\u001b[0m     img = torch.from_numpy(\n\u001b[0;32m--> 129\u001b[0;31m         \u001b[0mnp\u001b[0m\u001b[0;34m.\u001b[0m\u001b[0marray\u001b[0m\u001b[0;34m(\u001b[0m\u001b[0mpic\u001b[0m\u001b[0;34m,\u001b[0m \u001b[0mmode_to_nptype\u001b[0m\u001b[0;34m.\u001b[0m\u001b[0mget\u001b[0m\u001b[0;34m(\u001b[0m\u001b[0mpic\u001b[0m\u001b[0;34m.\u001b[0m\u001b[0mmode\u001b[0m\u001b[0;34m,\u001b[0m \u001b[0mnp\u001b[0m\u001b[0;34m.\u001b[0m\u001b[0muint8\u001b[0m\u001b[0;34m)\u001b[0m\u001b[0;34m,\u001b[0m \u001b[0mcopy\u001b[0m\u001b[0;34m=\u001b[0m\u001b[0;32mTrue\u001b[0m\u001b[0;34m)\u001b[0m\u001b[0;34m\u001b[0m\u001b[0;34m\u001b[0m\u001b[0m\n\u001b[0m\u001b[1;32m    130\u001b[0m     )\n\u001b[1;32m    131\u001b[0m \u001b[0;34m\u001b[0m\u001b[0m\n",
      "\u001b[0;32m~/.conda/envs/rob/lib/python3.9/site-packages/PIL/Image.py\u001b[0m in \u001b[0;36m__array__\u001b[0;34m(self, dtype)\u001b[0m\n\u001b[1;32m    701\u001b[0m             \u001b[0m__array_interface__\u001b[0m \u001b[0;34m=\u001b[0m \u001b[0mnew\u001b[0m\u001b[0;34m\u001b[0m\u001b[0;34m\u001b[0m\u001b[0m\n\u001b[1;32m    702\u001b[0m \u001b[0;34m\u001b[0m\u001b[0m\n\u001b[0;32m--> 703\u001b[0;31m         \u001b[0;32mreturn\u001b[0m \u001b[0mnp\u001b[0m\u001b[0;34m.\u001b[0m\u001b[0marray\u001b[0m\u001b[0;34m(\u001b[0m\u001b[0mArrayData\u001b[0m\u001b[0;34m(\u001b[0m\u001b[0;34m)\u001b[0m\u001b[0;34m,\u001b[0m \u001b[0mdtype\u001b[0m\u001b[0;34m)\u001b[0m\u001b[0;34m\u001b[0m\u001b[0;34m\u001b[0m\u001b[0m\n\u001b[0m\u001b[1;32m    704\u001b[0m \u001b[0;34m\u001b[0m\u001b[0m\n\u001b[1;32m    705\u001b[0m     \u001b[0;32mdef\u001b[0m \u001b[0m__getstate__\u001b[0m\u001b[0;34m(\u001b[0m\u001b[0mself\u001b[0m\u001b[0;34m)\u001b[0m\u001b[0;34m:\u001b[0m\u001b[0;34m\u001b[0m\u001b[0;34m\u001b[0m\u001b[0m\n",
      "\u001b[0;31mKeyboardInterrupt\u001b[0m: "
     ]
    }
   ],
   "source": [
    "# IF PRETRAINED  SKIP THIS SECTION\n",
    "\n",
    "# loop for every epoch (training + evaluation)\n",
    "for epoch in range(epochs):\n",
    "    total_loss = 0\n",
    "\n",
    "    # progress bar (works in Jupyter notebook too!)\n",
    "    progress = tqdm(enumerate(train_loader), desc=\"Loss: \", total=batches)\n",
    "\n",
    "    # ----------------- TRAINING  -------------------- \n",
    "    # set model to training\n",
    "    model.train()\n",
    "    \n",
    "    for i, data in progress:\n",
    "        X, y = data[0].to(device), data[1].to(device)\n",
    "        \n",
    "        # training step for single batch\n",
    "        model.zero_grad()\n",
    "        outputs = model(X)\n",
    "        loss = loss_function(outputs, y)\n",
    "        loss.backward()\n",
    "        optimizer.step()\n",
    "\n",
    "        # getting training quality data\n",
    "        current_loss = loss.item()\n",
    "        total_loss += current_loss\n",
    "\n",
    "        # updating progress bar\n",
    "        progress.set_description(\"Loss: {:.4f}\".format(total_loss/(i+1)))\n",
    "        \n",
    "    # releasing unceseccary memory in GPU\n",
    "    if torch.cuda.is_available():\n",
    "        torch.cuda.empty_cache()\n",
    "    \n",
    "    # ----------------- VALIDATION  ----------------- \n",
    "    val_losses = 0\n",
    "    precision, recall, f1, accuracy = [], [], [], []\n",
    "    \n",
    "    # set model to evaluating (testing)\n",
    "    model.eval()\n",
    "    with torch.no_grad():\n",
    "        for i, data in enumerate(val_loader):\n",
    "            X, y = data[0].to(device), data[1].to(device)\n",
    "\n",
    "            outputs = model(X) # this get's the prediction from the network\n",
    "\n",
    "            val_losses += loss_function(outputs, y)\n",
    "\n",
    "            predicted_classes = torch.max(outputs, 1)[1] # get class from network's prediction\n",
    "            \n",
    "            # calculate P/R/F1/A metrics for batch\n",
    "            for acc, metric in zip((precision, recall, accuracy), \n",
    "                                   (precision_score, recall_score, accuracy_score)):\n",
    "                acc.append(\n",
    "                    calculate_metric(metric, y.cpu(), predicted_classes.cpu())\n",
    "                )\n",
    "          \n",
    "    print(f\"Epoch {epoch+1}/{epochs}, training loss: {total_loss/batches}, validation loss: {val_losses/val_batches}\")\n",
    "    print_scores(precision, recall, f1, accuracy, val_batches)\n",
    "    losses.append(total_loss/batches) # for plotting learning curve\n",
    "print(f\"Training time: {time.time()-start_ts}s\")\n",
    "\n",
    "            \n"
   ]
  },
  {
   "cell_type": "code",
   "execution_count": 9,
   "metadata": {
    "colab": {
     "base_uri": "https://localhost:8080/"
    },
    "executionInfo": {
     "elapsed": 1318,
     "status": "ok",
     "timestamp": 1633410548032,
     "user": {
      "displayName": "Ashraf Haddad",
      "photoUrl": "https://lh3.googleusercontent.com/a-/AOh14Gh_860lEjtF96d2NSUEmAqlYL7dhh3Uz8VnjUivUQ=s64",
      "userId": "13931689762732430725"
     },
     "user_tz": -240
    },
    "id": "l2zaqbB4JnEi",
    "outputId": "3fdb3439-522e-4432-8f98-670e047b91ad"
   },
   "outputs": [
    {
     "data": {
      "text/plain": [
       "<All keys matched successfully>"
      ]
     },
     "execution_count": 9,
     "metadata": {},
     "output_type": "execute_result"
    }
   ],
   "source": [
    "torch.save(model.state_dict(), \"./MnistResNet\")    \n",
    "model = MnistResNet()\n",
    "model_state_dict = torch.load(\"./MnistResNet\")\n",
    "model.load_state_dict(model_state_dict)"
   ]
  },
  {
   "cell_type": "code",
   "execution_count": 38,
   "metadata": {
    "colab": {
     "base_uri": "https://localhost:8080/",
     "height": 854,
     "referenced_widgets": [
      "1ac52cddb3224b2f92d29e01439a05b5",
      "8ea40ef19c334b56bd2cab82cef6700d",
      "75e1a5e31a334d548df5d54cf4210eda",
      "1221cadf09a745f19b6b3072656defd4",
      "677f73839b6c471d921f248de40ea330",
      "7cb57c2e5e8c473d9a8e000da52e92d1",
      "446af936e85448d2bd3b22af472cef4a",
      "edef253ff3d045048d0406079872d31e",
      "c65d572097de4695aec0647e1e01482a",
      "60c7e0c2b31046cb95d42cd9cac22df4",
      "0862bdc3d6f544db8a28ca14e0fbb76d",
      "0fdc7c3b7a23415ea4835590d632cea3",
      "a86fad510d53494f9c3bae1f037be641",
      "d2e7b7d4251d451999884b1248af8f7d",
      "8c2d356a24d44ed3bcbfdbc4aed02a0d",
      "73b2527a331a48a5927198642e86fd0e",
      "0ae783d887cc49728ea39ce5ecfc468b",
      "7a803e47a12f46adac931bc1ed4065c7",
      "326782502fe743988fa6657214216674",
      "850817e0ff5f43b2b4d9e634b8e23354",
      "c7bcfedd63e94ffa9c083fdea5630211",
      "d5ac4be3271943868b2ecb3e6e896852",
      "5dc16b3a9e9046ec956167a7e7235e50",
      "e445e3284827419aad53b47225e9e643",
      "8d3252b88d51431fbeb83df09cdaac31",
      "2edc7175628248ab82c4ca0434042934",
      "58a42e99a6964f71b60b0c3c0336b4fa",
      "06814eb6c14f4f88b487527661fce89e",
      "b021446bcfda461584c7a084db4cb7f1",
      "491e50b8bf9d49599074f131d4e23b13",
      "d4f596b0bab443c0a1e04f58c8cb4a0d",
      "3e959312c9964531998497a38b19afe5",
      "d67a5443413c4843973a65e10779d67a",
      "81474be86175443b8aea101ed6a5d285",
      "bb44fe5d3ca141d0b64a184990375cef",
      "8ccd320429584cbab91036357808a81e",
      "1e9ca34892db4804acee3ca07ae30280",
      "9953773274724e4daf5c342d008a16e6",
      "dc35df41a2674099ac91707fcb8faea8",
      "a4a2e6e9095a40739b5f0e29ea2b8954",
      "873f5f6660b04911933f6a4f02e66a1e",
      "108622e87f224b16a7fd0a1aed23b4f1",
      "2e1919bd72464ea1bb675c8295e6e718",
      "bbf02400db0e4bcc98dbc9a09537442e"
     ]
    },
    "executionInfo": {
     "elapsed": 6545,
     "status": "ok",
     "timestamp": 1633410622353,
     "user": {
      "displayName": "Ashraf Haddad",
      "photoUrl": "https://lh3.googleusercontent.com/a-/AOh14Gh_860lEjtF96d2NSUEmAqlYL7dhh3Uz8VnjUivUQ=s64",
      "userId": "13931689762732430725"
     },
     "user_tz": -240
    },
    "id": "13c5Pm3CJnEl",
    "outputId": "4d41130a-b0c6-4a3e-ec55-a07fba73374a"
   },
   "outputs": [
    {
     "name": "stdout",
     "output_type": "stream",
     "text": [
      "tensor([[[[-0.8103, -0.8103, -0.8103,  ..., -0.8103, -0.8103, -0.8103],\n",
      "          [-0.8103, -0.8103, -0.8103,  ..., -0.8103, -0.8103, -0.8103],\n",
      "          [-0.8103, -0.8103, -0.8103,  ..., -0.8103, -0.8103, -0.8103],\n",
      "          ...,\n",
      "          [-0.8103, -0.8103, -0.8103,  ..., -0.8103, -0.8103, -0.8103],\n",
      "          [-0.8103, -0.8103, -0.8103,  ..., -0.8103, -0.8103, -0.8103],\n",
      "          [-0.8103, -0.8103, -0.8103,  ..., -0.8103, -0.8103, -0.8103]]],\n",
      "\n",
      "\n",
      "        [[[-0.8103, -0.8103, -0.8103,  ..., -0.8103, -0.8103, -0.8103],\n",
      "          [-0.8103, -0.8103, -0.8103,  ..., -0.8103, -0.8103, -0.8103],\n",
      "          [-0.8103, -0.8103, -0.8103,  ..., -0.8103, -0.8103, -0.8103],\n",
      "          ...,\n",
      "          [-0.8103, -0.8103, -0.8103,  ..., -0.8103, -0.8103, -0.8103],\n",
      "          [-0.8103, -0.8103, -0.8103,  ..., -0.8103, -0.8103, -0.8103],\n",
      "          [-0.8103, -0.8103, -0.8103,  ..., -0.8103, -0.8103, -0.8103]]],\n",
      "\n",
      "\n",
      "        [[[-0.8103, -0.8103, -0.8103,  ..., -0.8103, -0.8103, -0.8103],\n",
      "          [-0.8103, -0.8103, -0.8103,  ..., -0.8103, -0.8103, -0.8103],\n",
      "          [-0.8103, -0.8103, -0.8103,  ..., -0.8103, -0.8103, -0.8103],\n",
      "          ...,\n",
      "          [-0.8103, -0.8103, -0.8103,  ..., -0.8103, -0.8103, -0.8103],\n",
      "          [-0.8103, -0.8103, -0.8103,  ..., -0.8103, -0.8103, -0.8103],\n",
      "          [-0.8103, -0.8103, -0.8103,  ..., -0.8103, -0.8103, -0.8103]]],\n",
      "\n",
      "\n",
      "        ...,\n",
      "\n",
      "\n",
      "        [[[-0.8103, -0.8103, -0.8103,  ..., -0.8103, -0.8103, -0.8103],\n",
      "          [-0.8103, -0.8103, -0.8103,  ..., -0.8103, -0.8103, -0.8103],\n",
      "          [-0.8103, -0.8103, -0.8103,  ..., -0.8103, -0.8103, -0.8103],\n",
      "          ...,\n",
      "          [-0.8103, -0.8103, -0.8103,  ..., -0.8103, -0.8103, -0.8103],\n",
      "          [-0.8103, -0.8103, -0.8103,  ..., -0.8103, -0.8103, -0.8103],\n",
      "          [-0.8103, -0.8103, -0.8103,  ..., -0.8103, -0.8103, -0.8103]]],\n",
      "\n",
      "\n",
      "        [[[-0.8103, -0.8103, -0.8103,  ..., -0.8103, -0.8103, -0.8103],\n",
      "          [-0.8103, -0.8103, -0.8103,  ..., -0.8103, -0.8103, -0.8103],\n",
      "          [-0.8103, -0.8103, -0.8103,  ..., -0.8103, -0.8103, -0.8103],\n",
      "          ...,\n",
      "          [-0.8103, -0.8103, -0.8103,  ..., -0.8103, -0.8103, -0.8103],\n",
      "          [-0.8103, -0.8103, -0.8103,  ..., -0.8103, -0.8103, -0.8103],\n",
      "          [-0.8103, -0.8103, -0.8103,  ..., -0.8103, -0.8103, -0.8103]]],\n",
      "\n",
      "\n",
      "        [[[-0.8103, -0.8103, -0.8103,  ..., -0.8103, -0.8103, -0.8103],\n",
      "          [-0.8103, -0.8103, -0.8103,  ..., -0.8103, -0.8103, -0.8103],\n",
      "          [-0.8103, -0.8103, -0.8103,  ..., -0.8103, -0.8103, -0.8103],\n",
      "          ...,\n",
      "          [-0.8103, -0.8103, -0.8103,  ..., -0.8103, -0.8103, -0.8103],\n",
      "          [-0.8103, -0.8103, -0.8103,  ..., -0.8103, -0.8103, -0.8103],\n",
      "          [-0.8103, -0.8103, -0.8103,  ..., -0.8103, -0.8103, -0.8103]]]]) tensor([9, 2, 1, 1, 6, 1, 4, 6, 5, 7, 4, 5, 7, 3, 4, 1, 2, 4, 8, 0, 2, 5, 7, 9,\n",
      "        1, 4, 6, 0, 9, 3, 8, 8, 3, 3, 8, 0, 7, 5, 7, 9, 6, 1, 3, 7, 6, 7, 2, 1,\n",
      "        2, 2, 4, 4, 5, 8, 2, 2, 8, 4, 8, 0, 7, 7, 8, 5, 1, 1, 2, 3, 9, 8, 7, 0,\n",
      "        2, 6, 2, 3, 1, 2, 8, 4, 1, 8, 5, 9, 5, 0, 3, 2, 0, 6, 5, 3, 6, 7, 1, 8,\n",
      "        0, 1, 4, 2, 3, 6, 7, 2, 7, 8, 5, 9, 9, 4, 2, 5, 7, 0, 5, 2, 8, 6, 7, 8,\n",
      "        0, 0, 9, 9, 3, 0, 8, 4])\n"
     ]
    },
    {
     "data": {
      "text/plain": [
       "'\\n   \\n fashion_mnist = torchvision.datasets.FashionMNIST(download=True, train=True, root=\".\").train_data.float()\\n# eval on our pig image\\ntraining_data = datasets.FashionMNIST(\\n    root=\"data\",\\n    train=True,\\n    download=True,\\n    transform=transforms.Compose([  # \\n       transforms.Resize(224), #min size for pytorch\\n       transforms.ToTensor(),\\n       transforms.Normalize((fashion_mnist.mean()/255,), (fashion_mnist.std()/255,)),\\n    ])\\n)\\nlabels_map = {\\n    0: \"T-Shirt\",\\n    1: \"Trouser\",\\n    2: \"Pullover\",\\n    3: \"Dress\",\\n    4: \"Coat\",\\n    5: \"Sandal\",\\n    6: \"Shirt\",\\n    7: \"Sneaker\",\\n    8: \"Bag\",\\n    9: \"Ankle Boot\",\\n}\\n#figure = plt.figure(figsize=(8, 8))\\ncols, rows = 1, 1\\n#for i in range(1, cols * rows + 1):\\n#    sample_idx = torch.randint(len(training_data), size=(1,)).item()\\nsample_idx=9406\\nimg, label = training_data[sample_idx]\\n    #figure.add_subplot(rows, cols, i)\\nplt.title(labels_map[label])\\nimg_tensor = img[None,:,:,:]\\n#plt.imshow(img_tensor[0].numpy().transpose(1,2,0))\\nplt.imshow(img.squeeze(), cmap=\"gray\")\\n\\n'"
      ]
     },
     "execution_count": 38,
     "metadata": {},
     "output_type": "execute_result"
    },
    {
     "data": {
      "image/svg+xml": [
       "<?xml version=\"1.0\" encoding=\"utf-8\" standalone=\"no\"?>\n",
       "<!DOCTYPE svg PUBLIC \"-//W3C//DTD SVG 1.1//EN\"\n",
       "  \"http://www.w3.org/Graphics/SVG/1.1/DTD/svg11.dtd\">\n",
       "<svg height=\"251.831987pt\" version=\"1.1\" viewBox=\"0 0 257.9275 251.831987\" width=\"257.9275pt\" xmlns=\"http://www.w3.org/2000/svg\" xmlns:xlink=\"http://www.w3.org/1999/xlink\">\n",
       " <metadata>\n",
       "  <rdf:RDF xmlns:cc=\"http://creativecommons.org/ns#\" xmlns:dc=\"http://purl.org/dc/elements/1.1/\" xmlns:rdf=\"http://www.w3.org/1999/02/22-rdf-syntax-ns#\">\n",
       "   <cc:Work>\n",
       "    <dc:type rdf:resource=\"http://purl.org/dc/dcmitype/StillImage\"/>\n",
       "    <dc:date>2021-10-11T17:31:03.555392</dc:date>\n",
       "    <dc:format>image/svg+xml</dc:format>\n",
       "    <dc:creator>\n",
       "     <cc:Agent>\n",
       "      <dc:title>Matplotlib v3.4.2, https://matplotlib.org/</dc:title>\n",
       "     </cc:Agent>\n",
       "    </dc:creator>\n",
       "   </cc:Work>\n",
       "  </rdf:RDF>\n",
       " </metadata>\n",
       " <defs>\n",
       "  <style type=\"text/css\">*{stroke-linecap:butt;stroke-linejoin:round;}</style>\n",
       " </defs>\n",
       " <g id=\"figure_1\">\n",
       "  <g id=\"patch_1\">\n",
       "   <path d=\"M 0 251.831987 \n",
       "L 257.9275 251.831987 \n",
       "L 257.9275 0 \n",
       "L 0 0 \n",
       "z\n",
       "\" style=\"fill:none;\"/>\n",
       "  </g>\n",
       "  <g id=\"axes_1\">\n",
       "   <g id=\"patch_2\">\n",
       "    <path d=\"M 33.2875 227.953862 \n",
       "L 250.7275 227.953862 \n",
       "L 250.7275 10.513862 \n",
       "L 33.2875 10.513862 \n",
       "z\n",
       "\" style=\"fill:#ffffff;\"/>\n",
       "   </g>\n",
       "   <g clip-path=\"url(#p05bf80c70d)\">\n",
       "    <image height=\"218\" id=\"image9ea0eaf481\" transform=\"scale(1 -1)translate(0 -218)\" width=\"218\" x=\"33\" xlink:href=\"data:image/png;base64,\n",
       "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\" y=\"-9.831987\"/>\n",
       "   </g>\n",
       "   <g id=\"matplotlib.axis_1\">\n",
       "    <g id=\"xtick_1\">\n",
       "     <g id=\"line2d_1\">\n",
       "      <defs>\n",
       "       <path d=\"M 0 0 \n",
       "L 0 3.5 \n",
       "\" id=\"m82a241a640\" style=\"stroke:#000000;stroke-width:0.8;\"/>\n",
       "      </defs>\n",
       "      <g>\n",
       "       <use style=\"stroke:#000000;stroke-width:0.8;\" x=\"33.772857\" xlink:href=\"#m82a241a640\" y=\"227.953862\"/>\n",
       "      </g>\n",
       "     </g>\n",
       "     <g id=\"text_1\">\n",
       "      <!-- 0 -->\n",
       "      <g transform=\"translate(30.591607 242.552299)scale(0.1 -0.1)\">\n",
       "       <defs>\n",
       "        <path d=\"M 2034 4250 \n",
       "Q 1547 4250 1301 3770 \n",
       "Q 1056 3291 1056 2328 \n",
       "Q 1056 1369 1301 889 \n",
       "Q 1547 409 2034 409 \n",
       "Q 2525 409 2770 889 \n",
       "Q 3016 1369 3016 2328 \n",
       "Q 3016 3291 2770 3770 \n",
       "Q 2525 4250 2034 4250 \n",
       "z\n",
       "M 2034 4750 \n",
       "Q 2819 4750 3233 4129 \n",
       "Q 3647 3509 3647 2328 \n",
       "Q 3647 1150 3233 529 \n",
       "Q 2819 -91 2034 -91 \n",
       "Q 1250 -91 836 529 \n",
       "Q 422 1150 422 2328 \n",
       "Q 422 3509 836 4129 \n",
       "Q 1250 4750 2034 4750 \n",
       "z\n",
       "\" id=\"DejaVuSans-30\" transform=\"scale(0.015625)\"/>\n",
       "       </defs>\n",
       "       <use xlink:href=\"#DejaVuSans-30\"/>\n",
       "      </g>\n",
       "     </g>\n",
       "    </g>\n",
       "    <g id=\"xtick_2\">\n",
       "     <g id=\"line2d_2\">\n",
       "      <g>\n",
       "       <use style=\"stroke:#000000;stroke-width:0.8;\" x=\"82.308571\" xlink:href=\"#m82a241a640\" y=\"227.953862\"/>\n",
       "      </g>\n",
       "     </g>\n",
       "     <g id=\"text_2\">\n",
       "      <!-- 50 -->\n",
       "      <g transform=\"translate(75.946071 242.552299)scale(0.1 -0.1)\">\n",
       "       <defs>\n",
       "        <path d=\"M 691 4666 \n",
       "L 3169 4666 \n",
       "L 3169 4134 \n",
       "L 1269 4134 \n",
       "L 1269 2991 \n",
       "Q 1406 3038 1543 3061 \n",
       "Q 1681 3084 1819 3084 \n",
       "Q 2600 3084 3056 2656 \n",
       "Q 3513 2228 3513 1497 \n",
       "Q 3513 744 3044 326 \n",
       "Q 2575 -91 1722 -91 \n",
       "Q 1428 -91 1123 -41 \n",
       "Q 819 9 494 109 \n",
       "L 494 744 \n",
       "Q 775 591 1075 516 \n",
       "Q 1375 441 1709 441 \n",
       "Q 2250 441 2565 725 \n",
       "Q 2881 1009 2881 1497 \n",
       "Q 2881 1984 2565 2268 \n",
       "Q 2250 2553 1709 2553 \n",
       "Q 1456 2553 1204 2497 \n",
       "Q 953 2441 691 2322 \n",
       "L 691 4666 \n",
       "z\n",
       "\" id=\"DejaVuSans-35\" transform=\"scale(0.015625)\"/>\n",
       "       </defs>\n",
       "       <use xlink:href=\"#DejaVuSans-35\"/>\n",
       "       <use x=\"63.623047\" xlink:href=\"#DejaVuSans-30\"/>\n",
       "      </g>\n",
       "     </g>\n",
       "    </g>\n",
       "    <g id=\"xtick_3\">\n",
       "     <g id=\"line2d_3\">\n",
       "      <g>\n",
       "       <use style=\"stroke:#000000;stroke-width:0.8;\" x=\"130.844286\" xlink:href=\"#m82a241a640\" y=\"227.953862\"/>\n",
       "      </g>\n",
       "     </g>\n",
       "     <g id=\"text_3\">\n",
       "      <!-- 100 -->\n",
       "      <g transform=\"translate(121.300536 242.552299)scale(0.1 -0.1)\">\n",
       "       <defs>\n",
       "        <path d=\"M 794 531 \n",
       "L 1825 531 \n",
       "L 1825 4091 \n",
       "L 703 3866 \n",
       "L 703 4441 \n",
       "L 1819 4666 \n",
       "L 2450 4666 \n",
       "L 2450 531 \n",
       "L 3481 531 \n",
       "L 3481 0 \n",
       "L 794 0 \n",
       "L 794 531 \n",
       "z\n",
       "\" id=\"DejaVuSans-31\" transform=\"scale(0.015625)\"/>\n",
       "       </defs>\n",
       "       <use xlink:href=\"#DejaVuSans-31\"/>\n",
       "       <use x=\"63.623047\" xlink:href=\"#DejaVuSans-30\"/>\n",
       "       <use x=\"127.246094\" xlink:href=\"#DejaVuSans-30\"/>\n",
       "      </g>\n",
       "     </g>\n",
       "    </g>\n",
       "    <g id=\"xtick_4\">\n",
       "     <g id=\"line2d_4\">\n",
       "      <g>\n",
       "       <use style=\"stroke:#000000;stroke-width:0.8;\" x=\"179.38\" xlink:href=\"#m82a241a640\" y=\"227.953862\"/>\n",
       "      </g>\n",
       "     </g>\n",
       "     <g id=\"text_4\">\n",
       "      <!-- 150 -->\n",
       "      <g transform=\"translate(169.83625 242.552299)scale(0.1 -0.1)\">\n",
       "       <use xlink:href=\"#DejaVuSans-31\"/>\n",
       "       <use x=\"63.623047\" xlink:href=\"#DejaVuSans-35\"/>\n",
       "       <use x=\"127.246094\" xlink:href=\"#DejaVuSans-30\"/>\n",
       "      </g>\n",
       "     </g>\n",
       "    </g>\n",
       "    <g id=\"xtick_5\">\n",
       "     <g id=\"line2d_5\">\n",
       "      <g>\n",
       "       <use style=\"stroke:#000000;stroke-width:0.8;\" x=\"227.915714\" xlink:href=\"#m82a241a640\" y=\"227.953862\"/>\n",
       "      </g>\n",
       "     </g>\n",
       "     <g id=\"text_5\">\n",
       "      <!-- 200 -->\n",
       "      <g transform=\"translate(218.371964 242.552299)scale(0.1 -0.1)\">\n",
       "       <defs>\n",
       "        <path d=\"M 1228 531 \n",
       "L 3431 531 \n",
       "L 3431 0 \n",
       "L 469 0 \n",
       "L 469 531 \n",
       "Q 828 903 1448 1529 \n",
       "Q 2069 2156 2228 2338 \n",
       "Q 2531 2678 2651 2914 \n",
       "Q 2772 3150 2772 3378 \n",
       "Q 2772 3750 2511 3984 \n",
       "Q 2250 4219 1831 4219 \n",
       "Q 1534 4219 1204 4116 \n",
       "Q 875 4013 500 3803 \n",
       "L 500 4441 \n",
       "Q 881 4594 1212 4672 \n",
       "Q 1544 4750 1819 4750 \n",
       "Q 2544 4750 2975 4387 \n",
       "Q 3406 4025 3406 3419 \n",
       "Q 3406 3131 3298 2873 \n",
       "Q 3191 2616 2906 2266 \n",
       "Q 2828 2175 2409 1742 \n",
       "Q 1991 1309 1228 531 \n",
       "z\n",
       "\" id=\"DejaVuSans-32\" transform=\"scale(0.015625)\"/>\n",
       "       </defs>\n",
       "       <use xlink:href=\"#DejaVuSans-32\"/>\n",
       "       <use x=\"63.623047\" xlink:href=\"#DejaVuSans-30\"/>\n",
       "       <use x=\"127.246094\" xlink:href=\"#DejaVuSans-30\"/>\n",
       "      </g>\n",
       "     </g>\n",
       "    </g>\n",
       "   </g>\n",
       "   <g id=\"matplotlib.axis_2\">\n",
       "    <g id=\"ytick_1\">\n",
       "     <g id=\"line2d_6\">\n",
       "      <defs>\n",
       "       <path d=\"M 0 0 \n",
       "L -3.5 0 \n",
       "\" id=\"m6f9511ebbb\" style=\"stroke:#000000;stroke-width:0.8;\"/>\n",
       "      </defs>\n",
       "      <g>\n",
       "       <use style=\"stroke:#000000;stroke-width:0.8;\" x=\"33.2875\" xlink:href=\"#m6f9511ebbb\" y=\"10.999219\"/>\n",
       "      </g>\n",
       "     </g>\n",
       "     <g id=\"text_6\">\n",
       "      <!-- 0 -->\n",
       "      <g transform=\"translate(19.925 14.798437)scale(0.1 -0.1)\">\n",
       "       <use xlink:href=\"#DejaVuSans-30\"/>\n",
       "      </g>\n",
       "     </g>\n",
       "    </g>\n",
       "    <g id=\"ytick_2\">\n",
       "     <g id=\"line2d_7\">\n",
       "      <g>\n",
       "       <use style=\"stroke:#000000;stroke-width:0.8;\" x=\"33.2875\" xlink:href=\"#m6f9511ebbb\" y=\"35.267076\"/>\n",
       "      </g>\n",
       "     </g>\n",
       "     <g id=\"text_7\">\n",
       "      <!-- 25 -->\n",
       "      <g transform=\"translate(13.5625 39.066295)scale(0.1 -0.1)\">\n",
       "       <use xlink:href=\"#DejaVuSans-32\"/>\n",
       "       <use x=\"63.623047\" xlink:href=\"#DejaVuSans-35\"/>\n",
       "      </g>\n",
       "     </g>\n",
       "    </g>\n",
       "    <g id=\"ytick_3\">\n",
       "     <g id=\"line2d_8\">\n",
       "      <g>\n",
       "       <use style=\"stroke:#000000;stroke-width:0.8;\" x=\"33.2875\" xlink:href=\"#m6f9511ebbb\" y=\"59.534933\"/>\n",
       "      </g>\n",
       "     </g>\n",
       "     <g id=\"text_8\">\n",
       "      <!-- 50 -->\n",
       "      <g transform=\"translate(13.5625 63.334152)scale(0.1 -0.1)\">\n",
       "       <use xlink:href=\"#DejaVuSans-35\"/>\n",
       "       <use x=\"63.623047\" xlink:href=\"#DejaVuSans-30\"/>\n",
       "      </g>\n",
       "     </g>\n",
       "    </g>\n",
       "    <g id=\"ytick_4\">\n",
       "     <g id=\"line2d_9\">\n",
       "      <g>\n",
       "       <use style=\"stroke:#000000;stroke-width:0.8;\" x=\"33.2875\" xlink:href=\"#m6f9511ebbb\" y=\"83.80279\"/>\n",
       "      </g>\n",
       "     </g>\n",
       "     <g id=\"text_9\">\n",
       "      <!-- 75 -->\n",
       "      <g transform=\"translate(13.5625 87.602009)scale(0.1 -0.1)\">\n",
       "       <defs>\n",
       "        <path d=\"M 525 4666 \n",
       "L 3525 4666 \n",
       "L 3525 4397 \n",
       "L 1831 0 \n",
       "L 1172 0 \n",
       "L 2766 4134 \n",
       "L 525 4134 \n",
       "L 525 4666 \n",
       "z\n",
       "\" id=\"DejaVuSans-37\" transform=\"scale(0.015625)\"/>\n",
       "       </defs>\n",
       "       <use xlink:href=\"#DejaVuSans-37\"/>\n",
       "       <use x=\"63.623047\" xlink:href=\"#DejaVuSans-35\"/>\n",
       "      </g>\n",
       "     </g>\n",
       "    </g>\n",
       "    <g id=\"ytick_5\">\n",
       "     <g id=\"line2d_10\">\n",
       "      <g>\n",
       "       <use style=\"stroke:#000000;stroke-width:0.8;\" x=\"33.2875\" xlink:href=\"#m6f9511ebbb\" y=\"108.070647\"/>\n",
       "      </g>\n",
       "     </g>\n",
       "     <g id=\"text_10\">\n",
       "      <!-- 100 -->\n",
       "      <g transform=\"translate(7.2 111.869866)scale(0.1 -0.1)\">\n",
       "       <use xlink:href=\"#DejaVuSans-31\"/>\n",
       "       <use x=\"63.623047\" xlink:href=\"#DejaVuSans-30\"/>\n",
       "       <use x=\"127.246094\" xlink:href=\"#DejaVuSans-30\"/>\n",
       "      </g>\n",
       "     </g>\n",
       "    </g>\n",
       "    <g id=\"ytick_6\">\n",
       "     <g id=\"line2d_11\">\n",
       "      <g>\n",
       "       <use style=\"stroke:#000000;stroke-width:0.8;\" x=\"33.2875\" xlink:href=\"#m6f9511ebbb\" y=\"132.338504\"/>\n",
       "      </g>\n",
       "     </g>\n",
       "     <g id=\"text_11\">\n",
       "      <!-- 125 -->\n",
       "      <g transform=\"translate(7.2 136.137723)scale(0.1 -0.1)\">\n",
       "       <use xlink:href=\"#DejaVuSans-31\"/>\n",
       "       <use x=\"63.623047\" xlink:href=\"#DejaVuSans-32\"/>\n",
       "       <use x=\"127.246094\" xlink:href=\"#DejaVuSans-35\"/>\n",
       "      </g>\n",
       "     </g>\n",
       "    </g>\n",
       "    <g id=\"ytick_7\">\n",
       "     <g id=\"line2d_12\">\n",
       "      <g>\n",
       "       <use style=\"stroke:#000000;stroke-width:0.8;\" x=\"33.2875\" xlink:href=\"#m6f9511ebbb\" y=\"156.606362\"/>\n",
       "      </g>\n",
       "     </g>\n",
       "     <g id=\"text_12\">\n",
       "      <!-- 150 -->\n",
       "      <g transform=\"translate(7.2 160.40558)scale(0.1 -0.1)\">\n",
       "       <use xlink:href=\"#DejaVuSans-31\"/>\n",
       "       <use x=\"63.623047\" xlink:href=\"#DejaVuSans-35\"/>\n",
       "       <use x=\"127.246094\" xlink:href=\"#DejaVuSans-30\"/>\n",
       "      </g>\n",
       "     </g>\n",
       "    </g>\n",
       "    <g id=\"ytick_8\">\n",
       "     <g id=\"line2d_13\">\n",
       "      <g>\n",
       "       <use style=\"stroke:#000000;stroke-width:0.8;\" x=\"33.2875\" xlink:href=\"#m6f9511ebbb\" y=\"180.874219\"/>\n",
       "      </g>\n",
       "     </g>\n",
       "     <g id=\"text_13\">\n",
       "      <!-- 175 -->\n",
       "      <g transform=\"translate(7.2 184.673437)scale(0.1 -0.1)\">\n",
       "       <use xlink:href=\"#DejaVuSans-31\"/>\n",
       "       <use x=\"63.623047\" xlink:href=\"#DejaVuSans-37\"/>\n",
       "       <use x=\"127.246094\" xlink:href=\"#DejaVuSans-35\"/>\n",
       "      </g>\n",
       "     </g>\n",
       "    </g>\n",
       "    <g id=\"ytick_9\">\n",
       "     <g id=\"line2d_14\">\n",
       "      <g>\n",
       "       <use style=\"stroke:#000000;stroke-width:0.8;\" x=\"33.2875\" xlink:href=\"#m6f9511ebbb\" y=\"205.142076\"/>\n",
       "      </g>\n",
       "     </g>\n",
       "     <g id=\"text_14\">\n",
       "      <!-- 200 -->\n",
       "      <g transform=\"translate(7.2 208.941295)scale(0.1 -0.1)\">\n",
       "       <use xlink:href=\"#DejaVuSans-32\"/>\n",
       "       <use x=\"63.623047\" xlink:href=\"#DejaVuSans-30\"/>\n",
       "       <use x=\"127.246094\" xlink:href=\"#DejaVuSans-30\"/>\n",
       "      </g>\n",
       "     </g>\n",
       "    </g>\n",
       "   </g>\n",
       "   <g id=\"patch_3\">\n",
       "    <path d=\"M 33.2875 227.953862 \n",
       "L 33.2875 10.513862 \n",
       "\" style=\"fill:none;stroke:#000000;stroke-linecap:square;stroke-linejoin:miter;stroke-width:0.8;\"/>\n",
       "   </g>\n",
       "   <g id=\"patch_4\">\n",
       "    <path d=\"M 250.7275 227.953862 \n",
       "L 250.7275 10.513862 \n",
       "\" style=\"fill:none;stroke:#000000;stroke-linecap:square;stroke-linejoin:miter;stroke-width:0.8;\"/>\n",
       "   </g>\n",
       "   <g id=\"patch_5\">\n",
       "    <path d=\"M 33.2875 227.953862 \n",
       "L 250.7275 227.953862 \n",
       "\" style=\"fill:none;stroke:#000000;stroke-linecap:square;stroke-linejoin:miter;stroke-width:0.8;\"/>\n",
       "   </g>\n",
       "   <g id=\"patch_6\">\n",
       "    <path d=\"M 33.2875 10.513862 \n",
       "L 250.7275 10.513862 \n",
       "\" style=\"fill:none;stroke:#000000;stroke-linecap:square;stroke-linejoin:miter;stroke-width:0.8;\"/>\n",
       "   </g>\n",
       "  </g>\n",
       " </g>\n",
       " <defs>\n",
       "  <clipPath id=\"p05bf80c70d\">\n",
       "   <rect height=\"217.44\" width=\"217.44\" x=\"33.2875\" y=\"10.513862\"/>\n",
       "  </clipPath>\n",
       " </defs>\n",
       "</svg>\n"
      ],
      "text/plain": [
       "<Figure size 432x288 with 1 Axes>"
      ]
     },
     "metadata": {
      "needs_background": "light"
     },
     "output_type": "display_data"
    }
   ],
   "source": [
    "labels_map = {\n",
    "    0: \"T-Shirt\",\n",
    "    1: \"Trouser\",\n",
    "    2: \"Pullover\",\n",
    "    3: \"Dress\",\n",
    "    4: \"Coat\",\n",
    "    5: \"Sandal\",\n",
    "    6: \"Shirt\",\n",
    "    7: \"Sneaker\",\n",
    "    8: \"Bag\",\n",
    "    9: \"Ankle Boot\",\n",
    "}\n",
    "\n",
    "for i, data in enumerate(val_loader) :\n",
    "    if i <1:\n",
    "        X, y = data[0], data[1]\n",
    "        print(X,y)\n",
    "        #plt.title(labels_map[y[0].to(device)])\n",
    "        #plt.imshow(  transforms.ToPILImage(X[0]))  \n",
    "        plt.imshow(X[0].squeeze(), cmap=\"gray\")\n",
    "    else:\n",
    "        exit\n",
    "\n",
    "plt.imshow(X[0].squeeze(), cmap=\"gray\")\n",
    "\n",
    "\"\"\"\n",
    "   \n",
    " fashion_mnist = torchvision.datasets.FashionMNIST(download=True, train=True, root=\".\").train_data.float()\n",
    "# eval on our pig image\n",
    "training_data = datasets.FashionMNIST(\n",
    "    root=\"data\",\n",
    "    train=True,\n",
    "    download=True,\n",
    "    transform=transforms.Compose([  # \n",
    "       transforms.Resize(224), #min size for pytorch\n",
    "       transforms.ToTensor(),\n",
    "       transforms.Normalize((fashion_mnist.mean()/255,), (fashion_mnist.std()/255,)),\n",
    "    ])\n",
    ")\n",
    "labels_map = {\n",
    "    0: \"T-Shirt\",\n",
    "    1: \"Trouser\",\n",
    "    2: \"Pullover\",\n",
    "    3: \"Dress\",\n",
    "    4: \"Coat\",\n",
    "    5: \"Sandal\",\n",
    "    6: \"Shirt\",\n",
    "    7: \"Sneaker\",\n",
    "    8: \"Bag\",\n",
    "    9: \"Ankle Boot\",\n",
    "}\n",
    "#figure = plt.figure(figsize=(8, 8))\n",
    "cols, rows = 1, 1\n",
    "#for i in range(1, cols * rows + 1):\n",
    "#    sample_idx = torch.randint(len(training_data), size=(1,)).item()\n",
    "sample_idx=9406\n",
    "img, label = training_data[sample_idx]\n",
    "    #figure.add_subplot(rows, cols, i)\n",
    "plt.title(labels_map[label])\n",
    "img_tensor = img[None,:,:,:]\n",
    "#plt.imshow(img_tensor[0].numpy().transpose(1,2,0))\n",
    "plt.imshow(img.squeeze(), cmap=\"gray\")\n",
    "\n",
    "\"\"\"\n"
   ]
  },
  {
   "cell_type": "code",
   "execution_count": 40,
   "metadata": {
    "colab": {
     "base_uri": "https://localhost:8080/"
    },
    "executionInfo": {
     "elapsed": 1145,
     "status": "ok",
     "timestamp": 1633410631526,
     "user": {
      "displayName": "Ashraf Haddad",
      "photoUrl": "https://lh3.googleusercontent.com/a-/AOh14Gh_860lEjtF96d2NSUEmAqlYL7dhh3Uz8VnjUivUQ=s64",
      "userId": "13931689762732430725"
     },
     "user_tz": -240
    },
    "id": "P5Q3nr_NJnEp",
    "outputId": "9f9768a7-efa6-4eb0-d094-21f08cb99338"
   },
   "outputs": [],
   "source": [
    "#norm = transforms.Compose([\n",
    "#         transforms.ToTensor(),\n",
    "#        transforms.Normalize((training_data.train_data.float().mean()/255,), \n",
    "#                            (training_data.train_data.float().std()/255,)),\n",
    "#])\n",
    "\n",
    "pred = model(X[0].unsqueeze(0).cuda())"
   ]
  },
  {
   "cell_type": "code",
   "execution_count": 42,
   "metadata": {
    "colab": {
     "base_uri": "https://localhost:8080/"
    },
    "executionInfo": {
     "elapsed": 315,
     "status": "ok",
     "timestamp": 1633410889012,
     "user": {
      "displayName": "Ashraf Haddad",
      "photoUrl": "https://lh3.googleusercontent.com/a-/AOh14Gh_860lEjtF96d2NSUEmAqlYL7dhh3Uz8VnjUivUQ=s64",
      "userId": "13931689762732430725"
     },
     "user_tz": -240
    },
    "id": "bFIMrYfcJnEq",
    "outputId": "d2657f41-cca2-49fe-b22c-000416cf7c32"
   },
   "outputs": [
    {
     "data": {
      "text/plain": [
       "tensor([[ 0.0846, -0.5368,  0.3481, -0.0854, -0.5416, -0.2399,  0.6279,  0.1358,\n",
       "         -0.1966, -0.0821]], device='cuda:0', grad_fn=<AddmmBackward>)"
      ]
     },
     "execution_count": 42,
     "metadata": {},
     "output_type": "execute_result"
    }
   ],
   "source": [
    "pred\n",
    "#print(labels_map[pred.max(dim=1)[1].item()])"
   ]
  },
  {
   "cell_type": "markdown",
   "metadata": {
    "id": "tismocJyy_o2"
   },
   "source": [
    "FROM HERE ONWARD WE INVESTIGATE PGD attack. DO Not train the model , just reload it from disk. \n",
    "Always re-run the imports(first cell in notebook) "
   ]
  },
  {
   "cell_type": "code",
   "execution_count": 10,
   "metadata": {},
   "outputs": [
    {
     "data": {
      "text/plain": [
       "<All keys matched successfully>"
      ]
     },
     "execution_count": 10,
     "metadata": {},
     "output_type": "execute_result"
    }
   ],
   "source": [
    "model = MnistResNet()\n",
    "model_state_dict = torch.load(\"./MnistResNet\")\n",
    "model.load_state_dict(model_state_dict)"
   ]
  },
  {
   "cell_type": "code",
   "execution_count": 13,
   "metadata": {
    "colab": {
     "base_uri": "https://localhost:8080/"
    },
    "executionInfo": {
     "elapsed": 23788,
     "status": "ok",
     "timestamp": 1633410944678,
     "user": {
      "displayName": "Ashraf Haddad",
      "photoUrl": "https://lh3.googleusercontent.com/a-/AOh14Gh_860lEjtF96d2NSUEmAqlYL7dhh3Uz8VnjUivUQ=s64",
      "userId": "13931689762732430725"
     },
     "user_tz": -240
    },
    "id": "nOp2N84szFtR",
    "outputId": "827777e2-e7be-4c6d-d96c-2d8be37bf466"
   },
   "outputs": [
    {
     "name": "stdout",
     "output_type": "stream",
     "text": [
      "0 -3.1294689178466797\n",
      "5 -3.5980424880981445\n",
      "10 -3.7788288593292236\n",
      "15 -3.8711800575256348\n",
      "20 -3.925316333770752\n",
      "25 -3.975167751312256\n",
      "True class probability: 0.01836887188255787\n"
     ]
    }
   ],
   "source": [
    "epsilon = 2./255\n",
    "\n",
    "delta = torch.zeros_like(img_tensor, requires_grad=True)\n",
    "opt = optim.SGD([delta], lr=1e-1)\n",
    "\n",
    "for t in range(30):\n",
    "    pred = model(norm(img_tensor + delta))\n",
    "    loss = -nn.CrossEntropyLoss()(pred, torch.LongTensor([3]))\n",
    "    if t % 5 == 0:\n",
    "        print(t, loss.item())\n",
    "    \n",
    "    opt.zero_grad()\n",
    "    loss.backward()\n",
    "    opt.step()\n",
    "    delta.data.clamp_(-epsilon, epsilon)\n",
    "    \n",
    "print(\"True class probability:\", nn.Softmax(dim=1)(pred)[0,3].item())"
   ]
  },
  {
   "cell_type": "code",
   "execution_count": 14,
   "metadata": {},
   "outputs": [
    {
     "name": "stdout",
     "output_type": "stream",
     "text": [
      "Predicted class:  T-Shirt\n",
      "Predicted probability: 0.3618265986442566\n"
     ]
    }
   ],
   "source": [
    "max_class = pred.max(dim=1)[1].item()\n",
    "print(\"Predicted class: \", labels_map[max_class])\n",
    "print(\"Predicted probability:\", nn.Softmax(dim=1)(pred)[0,max_class].item())"
   ]
  },
  {
   "cell_type": "code",
   "execution_count": 15,
   "metadata": {},
   "outputs": [
    {
     "data": {
      "text/plain": [
       "<matplotlib.image.AxesImage at 0x7f779b6cfd90>"
      ]
     },
     "execution_count": 15,
     "metadata": {},
     "output_type": "execute_result"
    },
    {
     "data": {
      "image/svg+xml": [
       "<?xml version=\"1.0\" encoding=\"utf-8\" standalone=\"no\"?>\n",
       "<!DOCTYPE svg PUBLIC \"-//W3C//DTD SVG 1.1//EN\"\n",
       "  \"http://www.w3.org/Graphics/SVG/1.1/DTD/svg11.dtd\">\n",
       "<svg height=\"251.831987pt\" version=\"1.1\" viewBox=\"0 0 257.9275 251.831987\" width=\"257.9275pt\" xmlns=\"http://www.w3.org/2000/svg\" xmlns:xlink=\"http://www.w3.org/1999/xlink\">\n",
       " <metadata>\n",
       "  <rdf:RDF xmlns:cc=\"http://creativecommons.org/ns#\" xmlns:dc=\"http://purl.org/dc/elements/1.1/\" xmlns:rdf=\"http://www.w3.org/1999/02/22-rdf-syntax-ns#\">\n",
       "   <cc:Work>\n",
       "    <dc:type rdf:resource=\"http://purl.org/dc/dcmitype/StillImage\"/>\n",
       "    <dc:date>2021-10-05T11:42:53.338114</dc:date>\n",
       "    <dc:format>image/svg+xml</dc:format>\n",
       "    <dc:creator>\n",
       "     <cc:Agent>\n",
       "      <dc:title>Matplotlib v3.4.2, https://matplotlib.org/</dc:title>\n",
       "     </cc:Agent>\n",
       "    </dc:creator>\n",
       "   </cc:Work>\n",
       "  </rdf:RDF>\n",
       " </metadata>\n",
       " <defs>\n",
       "  <style type=\"text/css\">*{stroke-linecap:butt;stroke-linejoin:round;}</style>\n",
       " </defs>\n",
       " <g id=\"figure_1\">\n",
       "  <g id=\"patch_1\">\n",
       "   <path d=\"M 0 251.831987 \n",
       "L 257.9275 251.831987 \n",
       "L 257.9275 0 \n",
       "L 0 0 \n",
       "z\n",
       "\" style=\"fill:none;\"/>\n",
       "  </g>\n",
       "  <g id=\"axes_1\">\n",
       "   <g id=\"patch_2\">\n",
       "    <path d=\"M 33.2875 227.953862 \n",
       "L 250.7275 227.953862 \n",
       "L 250.7275 10.513862 \n",
       "L 33.2875 10.513862 \n",
       "z\n",
       "\" style=\"fill:#ffffff;\"/>\n",
       "   </g>\n",
       "   <g clip-path=\"url(#p9b75636936)\">\n",
       "    <image height=\"218\" id=\"imagec69a0b3d7c\" transform=\"scale(1 -1)translate(0 -218)\" width=\"218\" x=\"33.2875\" xlink:href=\"data:image/png;base64,\n",
       "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\" y=\"-9.953862\"/>\n",
       "   </g>\n",
       "   <g id=\"matplotlib.axis_1\">\n",
       "    <g id=\"xtick_1\">\n",
       "     <g id=\"line2d_1\">\n",
       "      <defs>\n",
       "       <path d=\"M 0 0 \n",
       "L 0 3.5 \n",
       "\" id=\"ma3290fe01e\" style=\"stroke:#000000;stroke-width:0.8;\"/>\n",
       "      </defs>\n",
       "      <g>\n",
       "       <use style=\"stroke:#000000;stroke-width:0.8;\" x=\"33.772857\" xlink:href=\"#ma3290fe01e\" y=\"227.953862\"/>\n",
       "      </g>\n",
       "     </g>\n",
       "     <g id=\"text_1\">\n",
       "      <!-- 0 -->\n",
       "      <g transform=\"translate(30.591607 242.552299)scale(0.1 -0.1)\">\n",
       "       <defs>\n",
       "        <path d=\"M 2034 4250 \n",
       "Q 1547 4250 1301 3770 \n",
       "Q 1056 3291 1056 2328 \n",
       "Q 1056 1369 1301 889 \n",
       "Q 1547 409 2034 409 \n",
       "Q 2525 409 2770 889 \n",
       "Q 3016 1369 3016 2328 \n",
       "Q 3016 3291 2770 3770 \n",
       "Q 2525 4250 2034 4250 \n",
       "z\n",
       "M 2034 4750 \n",
       "Q 2819 4750 3233 4129 \n",
       "Q 3647 3509 3647 2328 \n",
       "Q 3647 1150 3233 529 \n",
       "Q 2819 -91 2034 -91 \n",
       "Q 1250 -91 836 529 \n",
       "Q 422 1150 422 2328 \n",
       "Q 422 3509 836 4129 \n",
       "Q 1250 4750 2034 4750 \n",
       "z\n",
       "\" id=\"DejaVuSans-30\" transform=\"scale(0.015625)\"/>\n",
       "       </defs>\n",
       "       <use xlink:href=\"#DejaVuSans-30\"/>\n",
       "      </g>\n",
       "     </g>\n",
       "    </g>\n",
       "    <g id=\"xtick_2\">\n",
       "     <g id=\"line2d_2\">\n",
       "      <g>\n",
       "       <use style=\"stroke:#000000;stroke-width:0.8;\" x=\"82.308571\" xlink:href=\"#ma3290fe01e\" y=\"227.953862\"/>\n",
       "      </g>\n",
       "     </g>\n",
       "     <g id=\"text_2\">\n",
       "      <!-- 50 -->\n",
       "      <g transform=\"translate(75.946071 242.552299)scale(0.1 -0.1)\">\n",
       "       <defs>\n",
       "        <path d=\"M 691 4666 \n",
       "L 3169 4666 \n",
       "L 3169 4134 \n",
       "L 1269 4134 \n",
       "L 1269 2991 \n",
       "Q 1406 3038 1543 3061 \n",
       "Q 1681 3084 1819 3084 \n",
       "Q 2600 3084 3056 2656 \n",
       "Q 3513 2228 3513 1497 \n",
       "Q 3513 744 3044 326 \n",
       "Q 2575 -91 1722 -91 \n",
       "Q 1428 -91 1123 -41 \n",
       "Q 819 9 494 109 \n",
       "L 494 744 \n",
       "Q 775 591 1075 516 \n",
       "Q 1375 441 1709 441 \n",
       "Q 2250 441 2565 725 \n",
       "Q 2881 1009 2881 1497 \n",
       "Q 2881 1984 2565 2268 \n",
       "Q 2250 2553 1709 2553 \n",
       "Q 1456 2553 1204 2497 \n",
       "Q 953 2441 691 2322 \n",
       "L 691 4666 \n",
       "z\n",
       "\" id=\"DejaVuSans-35\" transform=\"scale(0.015625)\"/>\n",
       "       </defs>\n",
       "       <use xlink:href=\"#DejaVuSans-35\"/>\n",
       "       <use x=\"63.623047\" xlink:href=\"#DejaVuSans-30\"/>\n",
       "      </g>\n",
       "     </g>\n",
       "    </g>\n",
       "    <g id=\"xtick_3\">\n",
       "     <g id=\"line2d_3\">\n",
       "      <g>\n",
       "       <use style=\"stroke:#000000;stroke-width:0.8;\" x=\"130.844286\" xlink:href=\"#ma3290fe01e\" y=\"227.953862\"/>\n",
       "      </g>\n",
       "     </g>\n",
       "     <g id=\"text_3\">\n",
       "      <!-- 100 -->\n",
       "      <g transform=\"translate(121.300536 242.552299)scale(0.1 -0.1)\">\n",
       "       <defs>\n",
       "        <path d=\"M 794 531 \n",
       "L 1825 531 \n",
       "L 1825 4091 \n",
       "L 703 3866 \n",
       "L 703 4441 \n",
       "L 1819 4666 \n",
       "L 2450 4666 \n",
       "L 2450 531 \n",
       "L 3481 531 \n",
       "L 3481 0 \n",
       "L 794 0 \n",
       "L 794 531 \n",
       "z\n",
       "\" id=\"DejaVuSans-31\" transform=\"scale(0.015625)\"/>\n",
       "       </defs>\n",
       "       <use xlink:href=\"#DejaVuSans-31\"/>\n",
       "       <use x=\"63.623047\" xlink:href=\"#DejaVuSans-30\"/>\n",
       "       <use x=\"127.246094\" xlink:href=\"#DejaVuSans-30\"/>\n",
       "      </g>\n",
       "     </g>\n",
       "    </g>\n",
       "    <g id=\"xtick_4\">\n",
       "     <g id=\"line2d_4\">\n",
       "      <g>\n",
       "       <use style=\"stroke:#000000;stroke-width:0.8;\" x=\"179.38\" xlink:href=\"#ma3290fe01e\" y=\"227.953862\"/>\n",
       "      </g>\n",
       "     </g>\n",
       "     <g id=\"text_4\">\n",
       "      <!-- 150 -->\n",
       "      <g transform=\"translate(169.83625 242.552299)scale(0.1 -0.1)\">\n",
       "       <use xlink:href=\"#DejaVuSans-31\"/>\n",
       "       <use x=\"63.623047\" xlink:href=\"#DejaVuSans-35\"/>\n",
       "       <use x=\"127.246094\" xlink:href=\"#DejaVuSans-30\"/>\n",
       "      </g>\n",
       "     </g>\n",
       "    </g>\n",
       "    <g id=\"xtick_5\">\n",
       "     <g id=\"line2d_5\">\n",
       "      <g>\n",
       "       <use style=\"stroke:#000000;stroke-width:0.8;\" x=\"227.915714\" xlink:href=\"#ma3290fe01e\" y=\"227.953862\"/>\n",
       "      </g>\n",
       "     </g>\n",
       "     <g id=\"text_5\">\n",
       "      <!-- 200 -->\n",
       "      <g transform=\"translate(218.371964 242.552299)scale(0.1 -0.1)\">\n",
       "       <defs>\n",
       "        <path d=\"M 1228 531 \n",
       "L 3431 531 \n",
       "L 3431 0 \n",
       "L 469 0 \n",
       "L 469 531 \n",
       "Q 828 903 1448 1529 \n",
       "Q 2069 2156 2228 2338 \n",
       "Q 2531 2678 2651 2914 \n",
       "Q 2772 3150 2772 3378 \n",
       "Q 2772 3750 2511 3984 \n",
       "Q 2250 4219 1831 4219 \n",
       "Q 1534 4219 1204 4116 \n",
       "Q 875 4013 500 3803 \n",
       "L 500 4441 \n",
       "Q 881 4594 1212 4672 \n",
       "Q 1544 4750 1819 4750 \n",
       "Q 2544 4750 2975 4387 \n",
       "Q 3406 4025 3406 3419 \n",
       "Q 3406 3131 3298 2873 \n",
       "Q 3191 2616 2906 2266 \n",
       "Q 2828 2175 2409 1742 \n",
       "Q 1991 1309 1228 531 \n",
       "z\n",
       "\" id=\"DejaVuSans-32\" transform=\"scale(0.015625)\"/>\n",
       "       </defs>\n",
       "       <use xlink:href=\"#DejaVuSans-32\"/>\n",
       "       <use x=\"63.623047\" xlink:href=\"#DejaVuSans-30\"/>\n",
       "       <use x=\"127.246094\" xlink:href=\"#DejaVuSans-30\"/>\n",
       "      </g>\n",
       "     </g>\n",
       "    </g>\n",
       "   </g>\n",
       "   <g id=\"matplotlib.axis_2\">\n",
       "    <g id=\"ytick_1\">\n",
       "     <g id=\"line2d_6\">\n",
       "      <defs>\n",
       "       <path d=\"M 0 0 \n",
       "L -3.5 0 \n",
       "\" id=\"m4376f56e0c\" style=\"stroke:#000000;stroke-width:0.8;\"/>\n",
       "      </defs>\n",
       "      <g>\n",
       "       <use style=\"stroke:#000000;stroke-width:0.8;\" x=\"33.2875\" xlink:href=\"#m4376f56e0c\" y=\"10.999219\"/>\n",
       "      </g>\n",
       "     </g>\n",
       "     <g id=\"text_6\">\n",
       "      <!-- 0 -->\n",
       "      <g transform=\"translate(19.925 14.798437)scale(0.1 -0.1)\">\n",
       "       <use xlink:href=\"#DejaVuSans-30\"/>\n",
       "      </g>\n",
       "     </g>\n",
       "    </g>\n",
       "    <g id=\"ytick_2\">\n",
       "     <g id=\"line2d_7\">\n",
       "      <g>\n",
       "       <use style=\"stroke:#000000;stroke-width:0.8;\" x=\"33.2875\" xlink:href=\"#m4376f56e0c\" y=\"35.267076\"/>\n",
       "      </g>\n",
       "     </g>\n",
       "     <g id=\"text_7\">\n",
       "      <!-- 25 -->\n",
       "      <g transform=\"translate(13.5625 39.066295)scale(0.1 -0.1)\">\n",
       "       <use xlink:href=\"#DejaVuSans-32\"/>\n",
       "       <use x=\"63.623047\" xlink:href=\"#DejaVuSans-35\"/>\n",
       "      </g>\n",
       "     </g>\n",
       "    </g>\n",
       "    <g id=\"ytick_3\">\n",
       "     <g id=\"line2d_8\">\n",
       "      <g>\n",
       "       <use style=\"stroke:#000000;stroke-width:0.8;\" x=\"33.2875\" xlink:href=\"#m4376f56e0c\" y=\"59.534933\"/>\n",
       "      </g>\n",
       "     </g>\n",
       "     <g id=\"text_8\">\n",
       "      <!-- 50 -->\n",
       "      <g transform=\"translate(13.5625 63.334152)scale(0.1 -0.1)\">\n",
       "       <use xlink:href=\"#DejaVuSans-35\"/>\n",
       "       <use x=\"63.623047\" xlink:href=\"#DejaVuSans-30\"/>\n",
       "      </g>\n",
       "     </g>\n",
       "    </g>\n",
       "    <g id=\"ytick_4\">\n",
       "     <g id=\"line2d_9\">\n",
       "      <g>\n",
       "       <use style=\"stroke:#000000;stroke-width:0.8;\" x=\"33.2875\" xlink:href=\"#m4376f56e0c\" y=\"83.80279\"/>\n",
       "      </g>\n",
       "     </g>\n",
       "     <g id=\"text_9\">\n",
       "      <!-- 75 -->\n",
       "      <g transform=\"translate(13.5625 87.602009)scale(0.1 -0.1)\">\n",
       "       <defs>\n",
       "        <path d=\"M 525 4666 \n",
       "L 3525 4666 \n",
       "L 3525 4397 \n",
       "L 1831 0 \n",
       "L 1172 0 \n",
       "L 2766 4134 \n",
       "L 525 4134 \n",
       "L 525 4666 \n",
       "z\n",
       "\" id=\"DejaVuSans-37\" transform=\"scale(0.015625)\"/>\n",
       "       </defs>\n",
       "       <use xlink:href=\"#DejaVuSans-37\"/>\n",
       "       <use x=\"63.623047\" xlink:href=\"#DejaVuSans-35\"/>\n",
       "      </g>\n",
       "     </g>\n",
       "    </g>\n",
       "    <g id=\"ytick_5\">\n",
       "     <g id=\"line2d_10\">\n",
       "      <g>\n",
       "       <use style=\"stroke:#000000;stroke-width:0.8;\" x=\"33.2875\" xlink:href=\"#m4376f56e0c\" y=\"108.070647\"/>\n",
       "      </g>\n",
       "     </g>\n",
       "     <g id=\"text_10\">\n",
       "      <!-- 100 -->\n",
       "      <g transform=\"translate(7.2 111.869866)scale(0.1 -0.1)\">\n",
       "       <use xlink:href=\"#DejaVuSans-31\"/>\n",
       "       <use x=\"63.623047\" xlink:href=\"#DejaVuSans-30\"/>\n",
       "       <use x=\"127.246094\" xlink:href=\"#DejaVuSans-30\"/>\n",
       "      </g>\n",
       "     </g>\n",
       "    </g>\n",
       "    <g id=\"ytick_6\">\n",
       "     <g id=\"line2d_11\">\n",
       "      <g>\n",
       "       <use style=\"stroke:#000000;stroke-width:0.8;\" x=\"33.2875\" xlink:href=\"#m4376f56e0c\" y=\"132.338504\"/>\n",
       "      </g>\n",
       "     </g>\n",
       "     <g id=\"text_11\">\n",
       "      <!-- 125 -->\n",
       "      <g transform=\"translate(7.2 136.137723)scale(0.1 -0.1)\">\n",
       "       <use xlink:href=\"#DejaVuSans-31\"/>\n",
       "       <use x=\"63.623047\" xlink:href=\"#DejaVuSans-32\"/>\n",
       "       <use x=\"127.246094\" xlink:href=\"#DejaVuSans-35\"/>\n",
       "      </g>\n",
       "     </g>\n",
       "    </g>\n",
       "    <g id=\"ytick_7\">\n",
       "     <g id=\"line2d_12\">\n",
       "      <g>\n",
       "       <use style=\"stroke:#000000;stroke-width:0.8;\" x=\"33.2875\" xlink:href=\"#m4376f56e0c\" y=\"156.606362\"/>\n",
       "      </g>\n",
       "     </g>\n",
       "     <g id=\"text_12\">\n",
       "      <!-- 150 -->\n",
       "      <g transform=\"translate(7.2 160.40558)scale(0.1 -0.1)\">\n",
       "       <use xlink:href=\"#DejaVuSans-31\"/>\n",
       "       <use x=\"63.623047\" xlink:href=\"#DejaVuSans-35\"/>\n",
       "       <use x=\"127.246094\" xlink:href=\"#DejaVuSans-30\"/>\n",
       "      </g>\n",
       "     </g>\n",
       "    </g>\n",
       "    <g id=\"ytick_8\">\n",
       "     <g id=\"line2d_13\">\n",
       "      <g>\n",
       "       <use style=\"stroke:#000000;stroke-width:0.8;\" x=\"33.2875\" xlink:href=\"#m4376f56e0c\" y=\"180.874219\"/>\n",
       "      </g>\n",
       "     </g>\n",
       "     <g id=\"text_13\">\n",
       "      <!-- 175 -->\n",
       "      <g transform=\"translate(7.2 184.673437)scale(0.1 -0.1)\">\n",
       "       <use xlink:href=\"#DejaVuSans-31\"/>\n",
       "       <use x=\"63.623047\" xlink:href=\"#DejaVuSans-37\"/>\n",
       "       <use x=\"127.246094\" xlink:href=\"#DejaVuSans-35\"/>\n",
       "      </g>\n",
       "     </g>\n",
       "    </g>\n",
       "    <g id=\"ytick_9\">\n",
       "     <g id=\"line2d_14\">\n",
       "      <g>\n",
       "       <use style=\"stroke:#000000;stroke-width:0.8;\" x=\"33.2875\" xlink:href=\"#m4376f56e0c\" y=\"205.142076\"/>\n",
       "      </g>\n",
       "     </g>\n",
       "     <g id=\"text_14\">\n",
       "      <!-- 200 -->\n",
       "      <g transform=\"translate(7.2 208.941295)scale(0.1 -0.1)\">\n",
       "       <use xlink:href=\"#DejaVuSans-32\"/>\n",
       "       <use x=\"63.623047\" xlink:href=\"#DejaVuSans-30\"/>\n",
       "       <use x=\"127.246094\" xlink:href=\"#DejaVuSans-30\"/>\n",
       "      </g>\n",
       "     </g>\n",
       "    </g>\n",
       "   </g>\n",
       "   <g id=\"patch_3\">\n",
       "    <path d=\"M 33.2875 227.953862 \n",
       "L 33.2875 10.513862 \n",
       "\" style=\"fill:none;stroke:#000000;stroke-linecap:square;stroke-linejoin:miter;stroke-width:0.8;\"/>\n",
       "   </g>\n",
       "   <g id=\"patch_4\">\n",
       "    <path d=\"M 250.7275 227.953862 \n",
       "L 250.7275 10.513862 \n",
       "\" style=\"fill:none;stroke:#000000;stroke-linecap:square;stroke-linejoin:miter;stroke-width:0.8;\"/>\n",
       "   </g>\n",
       "   <g id=\"patch_5\">\n",
       "    <path d=\"M 33.2875 227.953862 \n",
       "L 250.7275 227.953862 \n",
       "\" style=\"fill:none;stroke:#000000;stroke-linecap:square;stroke-linejoin:miter;stroke-width:0.8;\"/>\n",
       "   </g>\n",
       "   <g id=\"patch_6\">\n",
       "    <path d=\"M 33.2875 10.513862 \n",
       "L 250.7275 10.513862 \n",
       "\" style=\"fill:none;stroke:#000000;stroke-linecap:square;stroke-linejoin:miter;stroke-width:0.8;\"/>\n",
       "   </g>\n",
       "  </g>\n",
       " </g>\n",
       " <defs>\n",
       "  <clipPath id=\"p9b75636936\">\n",
       "   <rect height=\"217.44\" width=\"217.44\" x=\"33.2875\" y=\"10.513862\"/>\n",
       "  </clipPath>\n",
       " </defs>\n",
       "</svg>\n"
      ],
      "text/plain": [
       "<Figure size 432x288 with 1 Axes>"
      ]
     },
     "metadata": {
      "needs_background": "light"
     },
     "output_type": "display_data"
    }
   ],
   "source": [
    "plt.imshow((img_tensor + delta)[0].detach().numpy().transpose(1,2,0))"
   ]
  },
  {
   "cell_type": "code",
   "execution_count": 18,
   "metadata": {},
   "outputs": [
    {
     "data": {
      "text/plain": [
       "<matplotlib.image.AxesImage at 0x7f77685a95b0>"
      ]
     },
     "execution_count": 18,
     "metadata": {},
     "output_type": "execute_result"
    },
    {
     "data": {
      "image/svg+xml": [
       "<?xml version=\"1.0\" encoding=\"utf-8\" standalone=\"no\"?>\n",
       "<!DOCTYPE svg PUBLIC \"-//W3C//DTD SVG 1.1//EN\"\n",
       "  \"http://www.w3.org/Graphics/SVG/1.1/DTD/svg11.dtd\">\n",
       "<svg height=\"251.831987pt\" version=\"1.1\" viewBox=\"0 0 257.9275 251.831987\" width=\"257.9275pt\" xmlns=\"http://www.w3.org/2000/svg\" xmlns:xlink=\"http://www.w3.org/1999/xlink\">\n",
       " <metadata>\n",
       "  <rdf:RDF xmlns:cc=\"http://creativecommons.org/ns#\" xmlns:dc=\"http://purl.org/dc/elements/1.1/\" xmlns:rdf=\"http://www.w3.org/1999/02/22-rdf-syntax-ns#\">\n",
       "   <cc:Work>\n",
       "    <dc:type rdf:resource=\"http://purl.org/dc/dcmitype/StillImage\"/>\n",
       "    <dc:date>2021-10-05T11:43:28.757285</dc:date>\n",
       "    <dc:format>image/svg+xml</dc:format>\n",
       "    <dc:creator>\n",
       "     <cc:Agent>\n",
       "      <dc:title>Matplotlib v3.4.2, https://matplotlib.org/</dc:title>\n",
       "     </cc:Agent>\n",
       "    </dc:creator>\n",
       "   </cc:Work>\n",
       "  </rdf:RDF>\n",
       " </metadata>\n",
       " <defs>\n",
       "  <style type=\"text/css\">*{stroke-linecap:butt;stroke-linejoin:round;}</style>\n",
       " </defs>\n",
       " <g id=\"figure_1\">\n",
       "  <g id=\"patch_1\">\n",
       "   <path d=\"M 0 251.831987 \n",
       "L 257.9275 251.831987 \n",
       "L 257.9275 0 \n",
       "L 0 0 \n",
       "z\n",
       "\" style=\"fill:none;\"/>\n",
       "  </g>\n",
       "  <g id=\"axes_1\">\n",
       "   <g id=\"patch_2\">\n",
       "    <path d=\"M 33.2875 227.953862 \n",
       "L 250.7275 227.953862 \n",
       "L 250.7275 10.513862 \n",
       "L 33.2875 10.513862 \n",
       "z\n",
       "\" style=\"fill:#ffffff;\"/>\n",
       "   </g>\n",
       "   <g clip-path=\"url(#p36929fca81)\">\n",
       "    <image height=\"218\" id=\"image28456026de\" transform=\"scale(1 -1)translate(0 -218)\" width=\"218\" x=\"33.2875\" xlink:href=\"data:image/png;base64,\n",
       "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\" y=\"-9.953862\"/>\n",
       "   </g>\n",
       "   <g id=\"matplotlib.axis_1\">\n",
       "    <g id=\"xtick_1\">\n",
       "     <g id=\"line2d_1\">\n",
       "      <defs>\n",
       "       <path d=\"M 0 0 \n",
       "L 0 3.5 \n",
       "\" id=\"m6642effd45\" style=\"stroke:#000000;stroke-width:0.8;\"/>\n",
       "      </defs>\n",
       "      <g>\n",
       "       <use style=\"stroke:#000000;stroke-width:0.8;\" x=\"33.772857\" xlink:href=\"#m6642effd45\" y=\"227.953862\"/>\n",
       "      </g>\n",
       "     </g>\n",
       "     <g id=\"text_1\">\n",
       "      <!-- 0 -->\n",
       "      <g transform=\"translate(30.591607 242.552299)scale(0.1 -0.1)\">\n",
       "       <defs>\n",
       "        <path d=\"M 2034 4250 \n",
       "Q 1547 4250 1301 3770 \n",
       "Q 1056 3291 1056 2328 \n",
       "Q 1056 1369 1301 889 \n",
       "Q 1547 409 2034 409 \n",
       "Q 2525 409 2770 889 \n",
       "Q 3016 1369 3016 2328 \n",
       "Q 3016 3291 2770 3770 \n",
       "Q 2525 4250 2034 4250 \n",
       "z\n",
       "M 2034 4750 \n",
       "Q 2819 4750 3233 4129 \n",
       "Q 3647 3509 3647 2328 \n",
       "Q 3647 1150 3233 529 \n",
       "Q 2819 -91 2034 -91 \n",
       "Q 1250 -91 836 529 \n",
       "Q 422 1150 422 2328 \n",
       "Q 422 3509 836 4129 \n",
       "Q 1250 4750 2034 4750 \n",
       "z\n",
       "\" id=\"DejaVuSans-30\" transform=\"scale(0.015625)\"/>\n",
       "       </defs>\n",
       "       <use xlink:href=\"#DejaVuSans-30\"/>\n",
       "      </g>\n",
       "     </g>\n",
       "    </g>\n",
       "    <g id=\"xtick_2\">\n",
       "     <g id=\"line2d_2\">\n",
       "      <g>\n",
       "       <use style=\"stroke:#000000;stroke-width:0.8;\" x=\"82.308571\" xlink:href=\"#m6642effd45\" y=\"227.953862\"/>\n",
       "      </g>\n",
       "     </g>\n",
       "     <g id=\"text_2\">\n",
       "      <!-- 50 -->\n",
       "      <g transform=\"translate(75.946071 242.552299)scale(0.1 -0.1)\">\n",
       "       <defs>\n",
       "        <path d=\"M 691 4666 \n",
       "L 3169 4666 \n",
       "L 3169 4134 \n",
       "L 1269 4134 \n",
       "L 1269 2991 \n",
       "Q 1406 3038 1543 3061 \n",
       "Q 1681 3084 1819 3084 \n",
       "Q 2600 3084 3056 2656 \n",
       "Q 3513 2228 3513 1497 \n",
       "Q 3513 744 3044 326 \n",
       "Q 2575 -91 1722 -91 \n",
       "Q 1428 -91 1123 -41 \n",
       "Q 819 9 494 109 \n",
       "L 494 744 \n",
       "Q 775 591 1075 516 \n",
       "Q 1375 441 1709 441 \n",
       "Q 2250 441 2565 725 \n",
       "Q 2881 1009 2881 1497 \n",
       "Q 2881 1984 2565 2268 \n",
       "Q 2250 2553 1709 2553 \n",
       "Q 1456 2553 1204 2497 \n",
       "Q 953 2441 691 2322 \n",
       "L 691 4666 \n",
       "z\n",
       "\" id=\"DejaVuSans-35\" transform=\"scale(0.015625)\"/>\n",
       "       </defs>\n",
       "       <use xlink:href=\"#DejaVuSans-35\"/>\n",
       "       <use x=\"63.623047\" xlink:href=\"#DejaVuSans-30\"/>\n",
       "      </g>\n",
       "     </g>\n",
       "    </g>\n",
       "    <g id=\"xtick_3\">\n",
       "     <g id=\"line2d_3\">\n",
       "      <g>\n",
       "       <use style=\"stroke:#000000;stroke-width:0.8;\" x=\"130.844286\" xlink:href=\"#m6642effd45\" y=\"227.953862\"/>\n",
       "      </g>\n",
       "     </g>\n",
       "     <g id=\"text_3\">\n",
       "      <!-- 100 -->\n",
       "      <g transform=\"translate(121.300536 242.552299)scale(0.1 -0.1)\">\n",
       "       <defs>\n",
       "        <path d=\"M 794 531 \n",
       "L 1825 531 \n",
       "L 1825 4091 \n",
       "L 703 3866 \n",
       "L 703 4441 \n",
       "L 1819 4666 \n",
       "L 2450 4666 \n",
       "L 2450 531 \n",
       "L 3481 531 \n",
       "L 3481 0 \n",
       "L 794 0 \n",
       "L 794 531 \n",
       "z\n",
       "\" id=\"DejaVuSans-31\" transform=\"scale(0.015625)\"/>\n",
       "       </defs>\n",
       "       <use xlink:href=\"#DejaVuSans-31\"/>\n",
       "       <use x=\"63.623047\" xlink:href=\"#DejaVuSans-30\"/>\n",
       "       <use x=\"127.246094\" xlink:href=\"#DejaVuSans-30\"/>\n",
       "      </g>\n",
       "     </g>\n",
       "    </g>\n",
       "    <g id=\"xtick_4\">\n",
       "     <g id=\"line2d_4\">\n",
       "      <g>\n",
       "       <use style=\"stroke:#000000;stroke-width:0.8;\" x=\"179.38\" xlink:href=\"#m6642effd45\" y=\"227.953862\"/>\n",
       "      </g>\n",
       "     </g>\n",
       "     <g id=\"text_4\">\n",
       "      <!-- 150 -->\n",
       "      <g transform=\"translate(169.83625 242.552299)scale(0.1 -0.1)\">\n",
       "       <use xlink:href=\"#DejaVuSans-31\"/>\n",
       "       <use x=\"63.623047\" xlink:href=\"#DejaVuSans-35\"/>\n",
       "       <use x=\"127.246094\" xlink:href=\"#DejaVuSans-30\"/>\n",
       "      </g>\n",
       "     </g>\n",
       "    </g>\n",
       "    <g id=\"xtick_5\">\n",
       "     <g id=\"line2d_5\">\n",
       "      <g>\n",
       "       <use style=\"stroke:#000000;stroke-width:0.8;\" x=\"227.915714\" xlink:href=\"#m6642effd45\" y=\"227.953862\"/>\n",
       "      </g>\n",
       "     </g>\n",
       "     <g id=\"text_5\">\n",
       "      <!-- 200 -->\n",
       "      <g transform=\"translate(218.371964 242.552299)scale(0.1 -0.1)\">\n",
       "       <defs>\n",
       "        <path d=\"M 1228 531 \n",
       "L 3431 531 \n",
       "L 3431 0 \n",
       "L 469 0 \n",
       "L 469 531 \n",
       "Q 828 903 1448 1529 \n",
       "Q 2069 2156 2228 2338 \n",
       "Q 2531 2678 2651 2914 \n",
       "Q 2772 3150 2772 3378 \n",
       "Q 2772 3750 2511 3984 \n",
       "Q 2250 4219 1831 4219 \n",
       "Q 1534 4219 1204 4116 \n",
       "Q 875 4013 500 3803 \n",
       "L 500 4441 \n",
       "Q 881 4594 1212 4672 \n",
       "Q 1544 4750 1819 4750 \n",
       "Q 2544 4750 2975 4387 \n",
       "Q 3406 4025 3406 3419 \n",
       "Q 3406 3131 3298 2873 \n",
       "Q 3191 2616 2906 2266 \n",
       "Q 2828 2175 2409 1742 \n",
       "Q 1991 1309 1228 531 \n",
       "z\n",
       "\" id=\"DejaVuSans-32\" transform=\"scale(0.015625)\"/>\n",
       "       </defs>\n",
       "       <use xlink:href=\"#DejaVuSans-32\"/>\n",
       "       <use x=\"63.623047\" xlink:href=\"#DejaVuSans-30\"/>\n",
       "       <use x=\"127.246094\" xlink:href=\"#DejaVuSans-30\"/>\n",
       "      </g>\n",
       "     </g>\n",
       "    </g>\n",
       "   </g>\n",
       "   <g id=\"matplotlib.axis_2\">\n",
       "    <g id=\"ytick_1\">\n",
       "     <g id=\"line2d_6\">\n",
       "      <defs>\n",
       "       <path d=\"M 0 0 \n",
       "L -3.5 0 \n",
       "\" id=\"mcaac44cf5b\" style=\"stroke:#000000;stroke-width:0.8;\"/>\n",
       "      </defs>\n",
       "      <g>\n",
       "       <use style=\"stroke:#000000;stroke-width:0.8;\" x=\"33.2875\" xlink:href=\"#mcaac44cf5b\" y=\"10.999219\"/>\n",
       "      </g>\n",
       "     </g>\n",
       "     <g id=\"text_6\">\n",
       "      <!-- 0 -->\n",
       "      <g transform=\"translate(19.925 14.798437)scale(0.1 -0.1)\">\n",
       "       <use xlink:href=\"#DejaVuSans-30\"/>\n",
       "      </g>\n",
       "     </g>\n",
       "    </g>\n",
       "    <g id=\"ytick_2\">\n",
       "     <g id=\"line2d_7\">\n",
       "      <g>\n",
       "       <use style=\"stroke:#000000;stroke-width:0.8;\" x=\"33.2875\" xlink:href=\"#mcaac44cf5b\" y=\"35.267076\"/>\n",
       "      </g>\n",
       "     </g>\n",
       "     <g id=\"text_7\">\n",
       "      <!-- 25 -->\n",
       "      <g transform=\"translate(13.5625 39.066295)scale(0.1 -0.1)\">\n",
       "       <use xlink:href=\"#DejaVuSans-32\"/>\n",
       "       <use x=\"63.623047\" xlink:href=\"#DejaVuSans-35\"/>\n",
       "      </g>\n",
       "     </g>\n",
       "    </g>\n",
       "    <g id=\"ytick_3\">\n",
       "     <g id=\"line2d_8\">\n",
       "      <g>\n",
       "       <use style=\"stroke:#000000;stroke-width:0.8;\" x=\"33.2875\" xlink:href=\"#mcaac44cf5b\" y=\"59.534933\"/>\n",
       "      </g>\n",
       "     </g>\n",
       "     <g id=\"text_8\">\n",
       "      <!-- 50 -->\n",
       "      <g transform=\"translate(13.5625 63.334152)scale(0.1 -0.1)\">\n",
       "       <use xlink:href=\"#DejaVuSans-35\"/>\n",
       "       <use x=\"63.623047\" xlink:href=\"#DejaVuSans-30\"/>\n",
       "      </g>\n",
       "     </g>\n",
       "    </g>\n",
       "    <g id=\"ytick_4\">\n",
       "     <g id=\"line2d_9\">\n",
       "      <g>\n",
       "       <use style=\"stroke:#000000;stroke-width:0.8;\" x=\"33.2875\" xlink:href=\"#mcaac44cf5b\" y=\"83.80279\"/>\n",
       "      </g>\n",
       "     </g>\n",
       "     <g id=\"text_9\">\n",
       "      <!-- 75 -->\n",
       "      <g transform=\"translate(13.5625 87.602009)scale(0.1 -0.1)\">\n",
       "       <defs>\n",
       "        <path d=\"M 525 4666 \n",
       "L 3525 4666 \n",
       "L 3525 4397 \n",
       "L 1831 0 \n",
       "L 1172 0 \n",
       "L 2766 4134 \n",
       "L 525 4134 \n",
       "L 525 4666 \n",
       "z\n",
       "\" id=\"DejaVuSans-37\" transform=\"scale(0.015625)\"/>\n",
       "       </defs>\n",
       "       <use xlink:href=\"#DejaVuSans-37\"/>\n",
       "       <use x=\"63.623047\" xlink:href=\"#DejaVuSans-35\"/>\n",
       "      </g>\n",
       "     </g>\n",
       "    </g>\n",
       "    <g id=\"ytick_5\">\n",
       "     <g id=\"line2d_10\">\n",
       "      <g>\n",
       "       <use style=\"stroke:#000000;stroke-width:0.8;\" x=\"33.2875\" xlink:href=\"#mcaac44cf5b\" y=\"108.070647\"/>\n",
       "      </g>\n",
       "     </g>\n",
       "     <g id=\"text_10\">\n",
       "      <!-- 100 -->\n",
       "      <g transform=\"translate(7.2 111.869866)scale(0.1 -0.1)\">\n",
       "       <use xlink:href=\"#DejaVuSans-31\"/>\n",
       "       <use x=\"63.623047\" xlink:href=\"#DejaVuSans-30\"/>\n",
       "       <use x=\"127.246094\" xlink:href=\"#DejaVuSans-30\"/>\n",
       "      </g>\n",
       "     </g>\n",
       "    </g>\n",
       "    <g id=\"ytick_6\">\n",
       "     <g id=\"line2d_11\">\n",
       "      <g>\n",
       "       <use style=\"stroke:#000000;stroke-width:0.8;\" x=\"33.2875\" xlink:href=\"#mcaac44cf5b\" y=\"132.338504\"/>\n",
       "      </g>\n",
       "     </g>\n",
       "     <g id=\"text_11\">\n",
       "      <!-- 125 -->\n",
       "      <g transform=\"translate(7.2 136.137723)scale(0.1 -0.1)\">\n",
       "       <use xlink:href=\"#DejaVuSans-31\"/>\n",
       "       <use x=\"63.623047\" xlink:href=\"#DejaVuSans-32\"/>\n",
       "       <use x=\"127.246094\" xlink:href=\"#DejaVuSans-35\"/>\n",
       "      </g>\n",
       "     </g>\n",
       "    </g>\n",
       "    <g id=\"ytick_7\">\n",
       "     <g id=\"line2d_12\">\n",
       "      <g>\n",
       "       <use style=\"stroke:#000000;stroke-width:0.8;\" x=\"33.2875\" xlink:href=\"#mcaac44cf5b\" y=\"156.606362\"/>\n",
       "      </g>\n",
       "     </g>\n",
       "     <g id=\"text_12\">\n",
       "      <!-- 150 -->\n",
       "      <g transform=\"translate(7.2 160.40558)scale(0.1 -0.1)\">\n",
       "       <use xlink:href=\"#DejaVuSans-31\"/>\n",
       "       <use x=\"63.623047\" xlink:href=\"#DejaVuSans-35\"/>\n",
       "       <use x=\"127.246094\" xlink:href=\"#DejaVuSans-30\"/>\n",
       "      </g>\n",
       "     </g>\n",
       "    </g>\n",
       "    <g id=\"ytick_8\">\n",
       "     <g id=\"line2d_13\">\n",
       "      <g>\n",
       "       <use style=\"stroke:#000000;stroke-width:0.8;\" x=\"33.2875\" xlink:href=\"#mcaac44cf5b\" y=\"180.874219\"/>\n",
       "      </g>\n",
       "     </g>\n",
       "     <g id=\"text_13\">\n",
       "      <!-- 175 -->\n",
       "      <g transform=\"translate(7.2 184.673437)scale(0.1 -0.1)\">\n",
       "       <use xlink:href=\"#DejaVuSans-31\"/>\n",
       "       <use x=\"63.623047\" xlink:href=\"#DejaVuSans-37\"/>\n",
       "       <use x=\"127.246094\" xlink:href=\"#DejaVuSans-35\"/>\n",
       "      </g>\n",
       "     </g>\n",
       "    </g>\n",
       "    <g id=\"ytick_9\">\n",
       "     <g id=\"line2d_14\">\n",
       "      <g>\n",
       "       <use style=\"stroke:#000000;stroke-width:0.8;\" x=\"33.2875\" xlink:href=\"#mcaac44cf5b\" y=\"205.142076\"/>\n",
       "      </g>\n",
       "     </g>\n",
       "     <g id=\"text_14\">\n",
       "      <!-- 200 -->\n",
       "      <g transform=\"translate(7.2 208.941295)scale(0.1 -0.1)\">\n",
       "       <use xlink:href=\"#DejaVuSans-32\"/>\n",
       "       <use x=\"63.623047\" xlink:href=\"#DejaVuSans-30\"/>\n",
       "       <use x=\"127.246094\" xlink:href=\"#DejaVuSans-30\"/>\n",
       "      </g>\n",
       "     </g>\n",
       "    </g>\n",
       "   </g>\n",
       "   <g id=\"patch_3\">\n",
       "    <path d=\"M 33.2875 227.953862 \n",
       "L 33.2875 10.513862 \n",
       "\" style=\"fill:none;stroke:#000000;stroke-linecap:square;stroke-linejoin:miter;stroke-width:0.8;\"/>\n",
       "   </g>\n",
       "   <g id=\"patch_4\">\n",
       "    <path d=\"M 250.7275 227.953862 \n",
       "L 250.7275 10.513862 \n",
       "\" style=\"fill:none;stroke:#000000;stroke-linecap:square;stroke-linejoin:miter;stroke-width:0.8;\"/>\n",
       "   </g>\n",
       "   <g id=\"patch_5\">\n",
       "    <path d=\"M 33.2875 227.953862 \n",
       "L 250.7275 227.953862 \n",
       "\" style=\"fill:none;stroke:#000000;stroke-linecap:square;stroke-linejoin:miter;stroke-width:0.8;\"/>\n",
       "   </g>\n",
       "   <g id=\"patch_6\">\n",
       "    <path d=\"M 33.2875 10.513862 \n",
       "L 250.7275 10.513862 \n",
       "\" style=\"fill:none;stroke:#000000;stroke-linecap:square;stroke-linejoin:miter;stroke-width:0.8;\"/>\n",
       "   </g>\n",
       "  </g>\n",
       " </g>\n",
       " <defs>\n",
       "  <clipPath id=\"p36929fca81\">\n",
       "   <rect height=\"217.44\" width=\"217.44\" x=\"33.2875\" y=\"10.513862\"/>\n",
       "  </clipPath>\n",
       " </defs>\n",
       "</svg>\n"
      ],
      "text/plain": [
       "<Figure size 432x288 with 1 Axes>"
      ]
     },
     "metadata": {
      "needs_background": "light"
     },
     "output_type": "display_data"
    }
   ],
   "source": [
    "plt.imshow((50*delta+0.5)[0].detach().numpy().transpose(1,2,0))"
   ]
  },
  {
   "cell_type": "code",
   "execution_count": 19,
   "metadata": {},
   "outputs": [
    {
     "name": "stdout",
     "output_type": "stream",
     "text": [
      "0 -2.1406612396240234\n",
      "10 -2.3440780639648438\n",
      "20 -2.4047679901123047\n",
      "30 -2.4643893241882324\n",
      "40 -2.5147743225097656\n",
      "50 -2.5605010986328125\n",
      "60 -2.599435567855835\n",
      "70 -2.6361231803894043\n",
      "80 -2.668154716491699\n",
      "90 -2.69689679145813\n"
     ]
    }
   ],
   "source": [
    "## TARGETED attach. Maximise the loss of Dress but minimize loss of T-shirt\n",
    "\n",
    "delta = torch.zeros_like(img_tensor, requires_grad=True)\n",
    "opt = optim.SGD([delta], lr=5e-3)\n",
    "\n",
    "for t in range(100):\n",
    "    pred = model(norm(img_tensor + delta))\n",
    "    loss = (-nn.CrossEntropyLoss()(pred, torch.LongTensor([3])) + \n",
    "            nn.CrossEntropyLoss()(pred, torch.LongTensor([0])))\n",
    "    if t % 10 == 0:\n",
    "        print(t, loss.item())\n",
    "    \n",
    "    opt.zero_grad()\n",
    "    loss.backward()\n",
    "    opt.step()\n",
    "    delta.data.clamp_(-epsilon, epsilon)"
   ]
  },
  {
   "cell_type": "code",
   "execution_count": 20,
   "metadata": {},
   "outputs": [
    {
     "name": "stdout",
     "output_type": "stream",
     "text": [
      "Predicted class:  T-Shirt\n",
      "Predicted probability: 0.4259525537490845\n"
     ]
    }
   ],
   "source": [
    "max_class = pred.max(dim=1)[1].item()\n",
    "print(\"Predicted class: \", labels_map[max_class])\n",
    "print(\"Predicted probability:\", nn.Softmax(dim=1)(pred)[0,max_class].item())"
   ]
  },
  {
   "cell_type": "code",
   "execution_count": 23,
   "metadata": {},
   "outputs": [
    {
     "data": {
      "text/plain": [
       "<matplotlib.image.AxesImage at 0x7f776851cb50>"
      ]
     },
     "execution_count": 23,
     "metadata": {},
     "output_type": "execute_result"
    },
    {
     "data": {
      "image/svg+xml": [
       "<?xml version=\"1.0\" encoding=\"utf-8\" standalone=\"no\"?>\n",
       "<!DOCTYPE svg PUBLIC \"-//W3C//DTD SVG 1.1//EN\"\n",
       "  \"http://www.w3.org/Graphics/SVG/1.1/DTD/svg11.dtd\">\n",
       "<svg height=\"251.831987pt\" version=\"1.1\" viewBox=\"0 0 257.9275 251.831987\" width=\"257.9275pt\" xmlns=\"http://www.w3.org/2000/svg\" xmlns:xlink=\"http://www.w3.org/1999/xlink\">\n",
       " <metadata>\n",
       "  <rdf:RDF xmlns:cc=\"http://creativecommons.org/ns#\" xmlns:dc=\"http://purl.org/dc/elements/1.1/\" xmlns:rdf=\"http://www.w3.org/1999/02/22-rdf-syntax-ns#\">\n",
       "   <cc:Work>\n",
       "    <dc:type rdf:resource=\"http://purl.org/dc/dcmitype/StillImage\"/>\n",
       "    <dc:date>2021-10-05T11:47:23.102463</dc:date>\n",
       "    <dc:format>image/svg+xml</dc:format>\n",
       "    <dc:creator>\n",
       "     <cc:Agent>\n",
       "      <dc:title>Matplotlib v3.4.2, https://matplotlib.org/</dc:title>\n",
       "     </cc:Agent>\n",
       "    </dc:creator>\n",
       "   </cc:Work>\n",
       "  </rdf:RDF>\n",
       " </metadata>\n",
       " <defs>\n",
       "  <style type=\"text/css\">*{stroke-linecap:butt;stroke-linejoin:round;}</style>\n",
       " </defs>\n",
       " <g id=\"figure_1\">\n",
       "  <g id=\"patch_1\">\n",
       "   <path d=\"M 0 251.831987 \n",
       "L 257.9275 251.831987 \n",
       "L 257.9275 0 \n",
       "L 0 0 \n",
       "z\n",
       "\" style=\"fill:none;\"/>\n",
       "  </g>\n",
       "  <g id=\"axes_1\">\n",
       "   <g id=\"patch_2\">\n",
       "    <path d=\"M 33.2875 227.953862 \n",
       "L 250.7275 227.953862 \n",
       "L 250.7275 10.513862 \n",
       "L 33.2875 10.513862 \n",
       "z\n",
       "\" style=\"fill:#ffffff;\"/>\n",
       "   </g>\n",
       "   <g clip-path=\"url(#pa7d77bdaf5)\">\n",
       "    <image height=\"218\" id=\"imagef145c466d3\" transform=\"scale(1 -1)translate(0 -218)\" width=\"218\" x=\"33.2875\" xlink:href=\"data:image/png;base64,\n",
       "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\" y=\"-9.953862\"/>\n",
       "   </g>\n",
       "   <g id=\"matplotlib.axis_1\">\n",
       "    <g id=\"xtick_1\">\n",
       "     <g id=\"line2d_1\">\n",
       "      <defs>\n",
       "       <path d=\"M 0 0 \n",
       "L 0 3.5 \n",
       "\" id=\"mc79493b442\" style=\"stroke:#000000;stroke-width:0.8;\"/>\n",
       "      </defs>\n",
       "      <g>\n",
       "       <use style=\"stroke:#000000;stroke-width:0.8;\" x=\"33.772857\" xlink:href=\"#mc79493b442\" y=\"227.953862\"/>\n",
       "      </g>\n",
       "     </g>\n",
       "     <g id=\"text_1\">\n",
       "      <!-- 0 -->\n",
       "      <g transform=\"translate(30.591607 242.552299)scale(0.1 -0.1)\">\n",
       "       <defs>\n",
       "        <path d=\"M 2034 4250 \n",
       "Q 1547 4250 1301 3770 \n",
       "Q 1056 3291 1056 2328 \n",
       "Q 1056 1369 1301 889 \n",
       "Q 1547 409 2034 409 \n",
       "Q 2525 409 2770 889 \n",
       "Q 3016 1369 3016 2328 \n",
       "Q 3016 3291 2770 3770 \n",
       "Q 2525 4250 2034 4250 \n",
       "z\n",
       "M 2034 4750 \n",
       "Q 2819 4750 3233 4129 \n",
       "Q 3647 3509 3647 2328 \n",
       "Q 3647 1150 3233 529 \n",
       "Q 2819 -91 2034 -91 \n",
       "Q 1250 -91 836 529 \n",
       "Q 422 1150 422 2328 \n",
       "Q 422 3509 836 4129 \n",
       "Q 1250 4750 2034 4750 \n",
       "z\n",
       "\" id=\"DejaVuSans-30\" transform=\"scale(0.015625)\"/>\n",
       "       </defs>\n",
       "       <use xlink:href=\"#DejaVuSans-30\"/>\n",
       "      </g>\n",
       "     </g>\n",
       "    </g>\n",
       "    <g id=\"xtick_2\">\n",
       "     <g id=\"line2d_2\">\n",
       "      <g>\n",
       "       <use style=\"stroke:#000000;stroke-width:0.8;\" x=\"82.308571\" xlink:href=\"#mc79493b442\" y=\"227.953862\"/>\n",
       "      </g>\n",
       "     </g>\n",
       "     <g id=\"text_2\">\n",
       "      <!-- 50 -->\n",
       "      <g transform=\"translate(75.946071 242.552299)scale(0.1 -0.1)\">\n",
       "       <defs>\n",
       "        <path d=\"M 691 4666 \n",
       "L 3169 4666 \n",
       "L 3169 4134 \n",
       "L 1269 4134 \n",
       "L 1269 2991 \n",
       "Q 1406 3038 1543 3061 \n",
       "Q 1681 3084 1819 3084 \n",
       "Q 2600 3084 3056 2656 \n",
       "Q 3513 2228 3513 1497 \n",
       "Q 3513 744 3044 326 \n",
       "Q 2575 -91 1722 -91 \n",
       "Q 1428 -91 1123 -41 \n",
       "Q 819 9 494 109 \n",
       "L 494 744 \n",
       "Q 775 591 1075 516 \n",
       "Q 1375 441 1709 441 \n",
       "Q 2250 441 2565 725 \n",
       "Q 2881 1009 2881 1497 \n",
       "Q 2881 1984 2565 2268 \n",
       "Q 2250 2553 1709 2553 \n",
       "Q 1456 2553 1204 2497 \n",
       "Q 953 2441 691 2322 \n",
       "L 691 4666 \n",
       "z\n",
       "\" id=\"DejaVuSans-35\" transform=\"scale(0.015625)\"/>\n",
       "       </defs>\n",
       "       <use xlink:href=\"#DejaVuSans-35\"/>\n",
       "       <use x=\"63.623047\" xlink:href=\"#DejaVuSans-30\"/>\n",
       "      </g>\n",
       "     </g>\n",
       "    </g>\n",
       "    <g id=\"xtick_3\">\n",
       "     <g id=\"line2d_3\">\n",
       "      <g>\n",
       "       <use style=\"stroke:#000000;stroke-width:0.8;\" x=\"130.844286\" xlink:href=\"#mc79493b442\" y=\"227.953862\"/>\n",
       "      </g>\n",
       "     </g>\n",
       "     <g id=\"text_3\">\n",
       "      <!-- 100 -->\n",
       "      <g transform=\"translate(121.300536 242.552299)scale(0.1 -0.1)\">\n",
       "       <defs>\n",
       "        <path d=\"M 794 531 \n",
       "L 1825 531 \n",
       "L 1825 4091 \n",
       "L 703 3866 \n",
       "L 703 4441 \n",
       "L 1819 4666 \n",
       "L 2450 4666 \n",
       "L 2450 531 \n",
       "L 3481 531 \n",
       "L 3481 0 \n",
       "L 794 0 \n",
       "L 794 531 \n",
       "z\n",
       "\" id=\"DejaVuSans-31\" transform=\"scale(0.015625)\"/>\n",
       "       </defs>\n",
       "       <use xlink:href=\"#DejaVuSans-31\"/>\n",
       "       <use x=\"63.623047\" xlink:href=\"#DejaVuSans-30\"/>\n",
       "       <use x=\"127.246094\" xlink:href=\"#DejaVuSans-30\"/>\n",
       "      </g>\n",
       "     </g>\n",
       "    </g>\n",
       "    <g id=\"xtick_4\">\n",
       "     <g id=\"line2d_4\">\n",
       "      <g>\n",
       "       <use style=\"stroke:#000000;stroke-width:0.8;\" x=\"179.38\" xlink:href=\"#mc79493b442\" y=\"227.953862\"/>\n",
       "      </g>\n",
       "     </g>\n",
       "     <g id=\"text_4\">\n",
       "      <!-- 150 -->\n",
       "      <g transform=\"translate(169.83625 242.552299)scale(0.1 -0.1)\">\n",
       "       <use xlink:href=\"#DejaVuSans-31\"/>\n",
       "       <use x=\"63.623047\" xlink:href=\"#DejaVuSans-35\"/>\n",
       "       <use x=\"127.246094\" xlink:href=\"#DejaVuSans-30\"/>\n",
       "      </g>\n",
       "     </g>\n",
       "    </g>\n",
       "    <g id=\"xtick_5\">\n",
       "     <g id=\"line2d_5\">\n",
       "      <g>\n",
       "       <use style=\"stroke:#000000;stroke-width:0.8;\" x=\"227.915714\" xlink:href=\"#mc79493b442\" y=\"227.953862\"/>\n",
       "      </g>\n",
       "     </g>\n",
       "     <g id=\"text_5\">\n",
       "      <!-- 200 -->\n",
       "      <g transform=\"translate(218.371964 242.552299)scale(0.1 -0.1)\">\n",
       "       <defs>\n",
       "        <path d=\"M 1228 531 \n",
       "L 3431 531 \n",
       "L 3431 0 \n",
       "L 469 0 \n",
       "L 469 531 \n",
       "Q 828 903 1448 1529 \n",
       "Q 2069 2156 2228 2338 \n",
       "Q 2531 2678 2651 2914 \n",
       "Q 2772 3150 2772 3378 \n",
       "Q 2772 3750 2511 3984 \n",
       "Q 2250 4219 1831 4219 \n",
       "Q 1534 4219 1204 4116 \n",
       "Q 875 4013 500 3803 \n",
       "L 500 4441 \n",
       "Q 881 4594 1212 4672 \n",
       "Q 1544 4750 1819 4750 \n",
       "Q 2544 4750 2975 4387 \n",
       "Q 3406 4025 3406 3419 \n",
       "Q 3406 3131 3298 2873 \n",
       "Q 3191 2616 2906 2266 \n",
       "Q 2828 2175 2409 1742 \n",
       "Q 1991 1309 1228 531 \n",
       "z\n",
       "\" id=\"DejaVuSans-32\" transform=\"scale(0.015625)\"/>\n",
       "       </defs>\n",
       "       <use xlink:href=\"#DejaVuSans-32\"/>\n",
       "       <use x=\"63.623047\" xlink:href=\"#DejaVuSans-30\"/>\n",
       "       <use x=\"127.246094\" xlink:href=\"#DejaVuSans-30\"/>\n",
       "      </g>\n",
       "     </g>\n",
       "    </g>\n",
       "   </g>\n",
       "   <g id=\"matplotlib.axis_2\">\n",
       "    <g id=\"ytick_1\">\n",
       "     <g id=\"line2d_6\">\n",
       "      <defs>\n",
       "       <path d=\"M 0 0 \n",
       "L -3.5 0 \n",
       "\" id=\"mf79de89152\" style=\"stroke:#000000;stroke-width:0.8;\"/>\n",
       "      </defs>\n",
       "      <g>\n",
       "       <use style=\"stroke:#000000;stroke-width:0.8;\" x=\"33.2875\" xlink:href=\"#mf79de89152\" y=\"10.999219\"/>\n",
       "      </g>\n",
       "     </g>\n",
       "     <g id=\"text_6\">\n",
       "      <!-- 0 -->\n",
       "      <g transform=\"translate(19.925 14.798437)scale(0.1 -0.1)\">\n",
       "       <use xlink:href=\"#DejaVuSans-30\"/>\n",
       "      </g>\n",
       "     </g>\n",
       "    </g>\n",
       "    <g id=\"ytick_2\">\n",
       "     <g id=\"line2d_7\">\n",
       "      <g>\n",
       "       <use style=\"stroke:#000000;stroke-width:0.8;\" x=\"33.2875\" xlink:href=\"#mf79de89152\" y=\"35.267076\"/>\n",
       "      </g>\n",
       "     </g>\n",
       "     <g id=\"text_7\">\n",
       "      <!-- 25 -->\n",
       "      <g transform=\"translate(13.5625 39.066295)scale(0.1 -0.1)\">\n",
       "       <use xlink:href=\"#DejaVuSans-32\"/>\n",
       "       <use x=\"63.623047\" xlink:href=\"#DejaVuSans-35\"/>\n",
       "      </g>\n",
       "     </g>\n",
       "    </g>\n",
       "    <g id=\"ytick_3\">\n",
       "     <g id=\"line2d_8\">\n",
       "      <g>\n",
       "       <use style=\"stroke:#000000;stroke-width:0.8;\" x=\"33.2875\" xlink:href=\"#mf79de89152\" y=\"59.534933\"/>\n",
       "      </g>\n",
       "     </g>\n",
       "     <g id=\"text_8\">\n",
       "      <!-- 50 -->\n",
       "      <g transform=\"translate(13.5625 63.334152)scale(0.1 -0.1)\">\n",
       "       <use xlink:href=\"#DejaVuSans-35\"/>\n",
       "       <use x=\"63.623047\" xlink:href=\"#DejaVuSans-30\"/>\n",
       "      </g>\n",
       "     </g>\n",
       "    </g>\n",
       "    <g id=\"ytick_4\">\n",
       "     <g id=\"line2d_9\">\n",
       "      <g>\n",
       "       <use style=\"stroke:#000000;stroke-width:0.8;\" x=\"33.2875\" xlink:href=\"#mf79de89152\" y=\"83.80279\"/>\n",
       "      </g>\n",
       "     </g>\n",
       "     <g id=\"text_9\">\n",
       "      <!-- 75 -->\n",
       "      <g transform=\"translate(13.5625 87.602009)scale(0.1 -0.1)\">\n",
       "       <defs>\n",
       "        <path d=\"M 525 4666 \n",
       "L 3525 4666 \n",
       "L 3525 4397 \n",
       "L 1831 0 \n",
       "L 1172 0 \n",
       "L 2766 4134 \n",
       "L 525 4134 \n",
       "L 525 4666 \n",
       "z\n",
       "\" id=\"DejaVuSans-37\" transform=\"scale(0.015625)\"/>\n",
       "       </defs>\n",
       "       <use xlink:href=\"#DejaVuSans-37\"/>\n",
       "       <use x=\"63.623047\" xlink:href=\"#DejaVuSans-35\"/>\n",
       "      </g>\n",
       "     </g>\n",
       "    </g>\n",
       "    <g id=\"ytick_5\">\n",
       "     <g id=\"line2d_10\">\n",
       "      <g>\n",
       "       <use style=\"stroke:#000000;stroke-width:0.8;\" x=\"33.2875\" xlink:href=\"#mf79de89152\" y=\"108.070647\"/>\n",
       "      </g>\n",
       "     </g>\n",
       "     <g id=\"text_10\">\n",
       "      <!-- 100 -->\n",
       "      <g transform=\"translate(7.2 111.869866)scale(0.1 -0.1)\">\n",
       "       <use xlink:href=\"#DejaVuSans-31\"/>\n",
       "       <use x=\"63.623047\" xlink:href=\"#DejaVuSans-30\"/>\n",
       "       <use x=\"127.246094\" xlink:href=\"#DejaVuSans-30\"/>\n",
       "      </g>\n",
       "     </g>\n",
       "    </g>\n",
       "    <g id=\"ytick_6\">\n",
       "     <g id=\"line2d_11\">\n",
       "      <g>\n",
       "       <use style=\"stroke:#000000;stroke-width:0.8;\" x=\"33.2875\" xlink:href=\"#mf79de89152\" y=\"132.338504\"/>\n",
       "      </g>\n",
       "     </g>\n",
       "     <g id=\"text_11\">\n",
       "      <!-- 125 -->\n",
       "      <g transform=\"translate(7.2 136.137723)scale(0.1 -0.1)\">\n",
       "       <use xlink:href=\"#DejaVuSans-31\"/>\n",
       "       <use x=\"63.623047\" xlink:href=\"#DejaVuSans-32\"/>\n",
       "       <use x=\"127.246094\" xlink:href=\"#DejaVuSans-35\"/>\n",
       "      </g>\n",
       "     </g>\n",
       "    </g>\n",
       "    <g id=\"ytick_7\">\n",
       "     <g id=\"line2d_12\">\n",
       "      <g>\n",
       "       <use style=\"stroke:#000000;stroke-width:0.8;\" x=\"33.2875\" xlink:href=\"#mf79de89152\" y=\"156.606362\"/>\n",
       "      </g>\n",
       "     </g>\n",
       "     <g id=\"text_12\">\n",
       "      <!-- 150 -->\n",
       "      <g transform=\"translate(7.2 160.40558)scale(0.1 -0.1)\">\n",
       "       <use xlink:href=\"#DejaVuSans-31\"/>\n",
       "       <use x=\"63.623047\" xlink:href=\"#DejaVuSans-35\"/>\n",
       "       <use x=\"127.246094\" xlink:href=\"#DejaVuSans-30\"/>\n",
       "      </g>\n",
       "     </g>\n",
       "    </g>\n",
       "    <g id=\"ytick_8\">\n",
       "     <g id=\"line2d_13\">\n",
       "      <g>\n",
       "       <use style=\"stroke:#000000;stroke-width:0.8;\" x=\"33.2875\" xlink:href=\"#mf79de89152\" y=\"180.874219\"/>\n",
       "      </g>\n",
       "     </g>\n",
       "     <g id=\"text_13\">\n",
       "      <!-- 175 -->\n",
       "      <g transform=\"translate(7.2 184.673437)scale(0.1 -0.1)\">\n",
       "       <use xlink:href=\"#DejaVuSans-31\"/>\n",
       "       <use x=\"63.623047\" xlink:href=\"#DejaVuSans-37\"/>\n",
       "       <use x=\"127.246094\" xlink:href=\"#DejaVuSans-35\"/>\n",
       "      </g>\n",
       "     </g>\n",
       "    </g>\n",
       "    <g id=\"ytick_9\">\n",
       "     <g id=\"line2d_14\">\n",
       "      <g>\n",
       "       <use style=\"stroke:#000000;stroke-width:0.8;\" x=\"33.2875\" xlink:href=\"#mf79de89152\" y=\"205.142076\"/>\n",
       "      </g>\n",
       "     </g>\n",
       "     <g id=\"text_14\">\n",
       "      <!-- 200 -->\n",
       "      <g transform=\"translate(7.2 208.941295)scale(0.1 -0.1)\">\n",
       "       <use xlink:href=\"#DejaVuSans-32\"/>\n",
       "       <use x=\"63.623047\" xlink:href=\"#DejaVuSans-30\"/>\n",
       "       <use x=\"127.246094\" xlink:href=\"#DejaVuSans-30\"/>\n",
       "      </g>\n",
       "     </g>\n",
       "    </g>\n",
       "   </g>\n",
       "   <g id=\"patch_3\">\n",
       "    <path d=\"M 33.2875 227.953862 \n",
       "L 33.2875 10.513862 \n",
       "\" style=\"fill:none;stroke:#000000;stroke-linecap:square;stroke-linejoin:miter;stroke-width:0.8;\"/>\n",
       "   </g>\n",
       "   <g id=\"patch_4\">\n",
       "    <path d=\"M 250.7275 227.953862 \n",
       "L 250.7275 10.513862 \n",
       "\" style=\"fill:none;stroke:#000000;stroke-linecap:square;stroke-linejoin:miter;stroke-width:0.8;\"/>\n",
       "   </g>\n",
       "   <g id=\"patch_5\">\n",
       "    <path d=\"M 33.2875 227.953862 \n",
       "L 250.7275 227.953862 \n",
       "\" style=\"fill:none;stroke:#000000;stroke-linecap:square;stroke-linejoin:miter;stroke-width:0.8;\"/>\n",
       "   </g>\n",
       "   <g id=\"patch_6\">\n",
       "    <path d=\"M 33.2875 10.513862 \n",
       "L 250.7275 10.513862 \n",
       "\" style=\"fill:none;stroke:#000000;stroke-linecap:square;stroke-linejoin:miter;stroke-width:0.8;\"/>\n",
       "   </g>\n",
       "  </g>\n",
       " </g>\n",
       " <defs>\n",
       "  <clipPath id=\"pa7d77bdaf5\">\n",
       "   <rect height=\"217.44\" width=\"217.44\" x=\"33.2875\" y=\"10.513862\"/>\n",
       "  </clipPath>\n",
       " </defs>\n",
       "</svg>\n"
      ],
      "text/plain": [
       "<Figure size 432x288 with 1 Axes>"
      ]
     },
     "metadata": {
      "needs_background": "light"
     },
     "output_type": "display_data"
    }
   ],
   "source": [
    "plt.imshow((img_tensor + delta)[0].detach().numpy().transpose(1,2,0))"
   ]
  },
  {
   "cell_type": "code",
   "execution_count": 24,
   "metadata": {},
   "outputs": [
    {
     "data": {
      "text/plain": [
       "<matplotlib.image.AxesImage at 0x7f7768511640>"
      ]
     },
     "execution_count": 24,
     "metadata": {},
     "output_type": "execute_result"
    },
    {
     "data": {
      "image/svg+xml": [
       "<?xml version=\"1.0\" encoding=\"utf-8\" standalone=\"no\"?>\n",
       "<!DOCTYPE svg PUBLIC \"-//W3C//DTD SVG 1.1//EN\"\n",
       "  \"http://www.w3.org/Graphics/SVG/1.1/DTD/svg11.dtd\">\n",
       "<svg height=\"251.831987pt\" version=\"1.1\" viewBox=\"0 0 257.9275 251.831987\" width=\"257.9275pt\" xmlns=\"http://www.w3.org/2000/svg\" xmlns:xlink=\"http://www.w3.org/1999/xlink\">\n",
       " <metadata>\n",
       "  <rdf:RDF xmlns:cc=\"http://creativecommons.org/ns#\" xmlns:dc=\"http://purl.org/dc/elements/1.1/\" xmlns:rdf=\"http://www.w3.org/1999/02/22-rdf-syntax-ns#\">\n",
       "   <cc:Work>\n",
       "    <dc:type rdf:resource=\"http://purl.org/dc/dcmitype/StillImage\"/>\n",
       "    <dc:date>2021-10-05T11:48:37.059565</dc:date>\n",
       "    <dc:format>image/svg+xml</dc:format>\n",
       "    <dc:creator>\n",
       "     <cc:Agent>\n",
       "      <dc:title>Matplotlib v3.4.2, https://matplotlib.org/</dc:title>\n",
       "     </cc:Agent>\n",
       "    </dc:creator>\n",
       "   </cc:Work>\n",
       "  </rdf:RDF>\n",
       " </metadata>\n",
       " <defs>\n",
       "  <style type=\"text/css\">*{stroke-linecap:butt;stroke-linejoin:round;}</style>\n",
       " </defs>\n",
       " <g id=\"figure_1\">\n",
       "  <g id=\"patch_1\">\n",
       "   <path d=\"M 0 251.831987 \n",
       "L 257.9275 251.831987 \n",
       "L 257.9275 0 \n",
       "L 0 0 \n",
       "z\n",
       "\" style=\"fill:none;\"/>\n",
       "  </g>\n",
       "  <g id=\"axes_1\">\n",
       "   <g id=\"patch_2\">\n",
       "    <path d=\"M 33.2875 227.953862 \n",
       "L 250.7275 227.953862 \n",
       "L 250.7275 10.513862 \n",
       "L 33.2875 10.513862 \n",
       "z\n",
       "\" style=\"fill:#ffffff;\"/>\n",
       "   </g>\n",
       "   <g clip-path=\"url(#p642ddbb984)\">\n",
       "    <image height=\"218\" id=\"image66a99a693a\" transform=\"scale(1 -1)translate(0 -218)\" width=\"218\" x=\"33.2875\" xlink:href=\"data:image/png;base64,\n",
       "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\" y=\"-9.953862\"/>\n",
       "   </g>\n",
       "   <g id=\"matplotlib.axis_1\">\n",
       "    <g id=\"xtick_1\">\n",
       "     <g id=\"line2d_1\">\n",
       "      <defs>\n",
       "       <path d=\"M 0 0 \n",
       "L 0 3.5 \n",
       "\" id=\"mb95c43dee4\" style=\"stroke:#000000;stroke-width:0.8;\"/>\n",
       "      </defs>\n",
       "      <g>\n",
       "       <use style=\"stroke:#000000;stroke-width:0.8;\" x=\"33.772857\" xlink:href=\"#mb95c43dee4\" y=\"227.953862\"/>\n",
       "      </g>\n",
       "     </g>\n",
       "     <g id=\"text_1\">\n",
       "      <!-- 0 -->\n",
       "      <g transform=\"translate(30.591607 242.552299)scale(0.1 -0.1)\">\n",
       "       <defs>\n",
       "        <path d=\"M 2034 4250 \n",
       "Q 1547 4250 1301 3770 \n",
       "Q 1056 3291 1056 2328 \n",
       "Q 1056 1369 1301 889 \n",
       "Q 1547 409 2034 409 \n",
       "Q 2525 409 2770 889 \n",
       "Q 3016 1369 3016 2328 \n",
       "Q 3016 3291 2770 3770 \n",
       "Q 2525 4250 2034 4250 \n",
       "z\n",
       "M 2034 4750 \n",
       "Q 2819 4750 3233 4129 \n",
       "Q 3647 3509 3647 2328 \n",
       "Q 3647 1150 3233 529 \n",
       "Q 2819 -91 2034 -91 \n",
       "Q 1250 -91 836 529 \n",
       "Q 422 1150 422 2328 \n",
       "Q 422 3509 836 4129 \n",
       "Q 1250 4750 2034 4750 \n",
       "z\n",
       "\" id=\"DejaVuSans-30\" transform=\"scale(0.015625)\"/>\n",
       "       </defs>\n",
       "       <use xlink:href=\"#DejaVuSans-30\"/>\n",
       "      </g>\n",
       "     </g>\n",
       "    </g>\n",
       "    <g id=\"xtick_2\">\n",
       "     <g id=\"line2d_2\">\n",
       "      <g>\n",
       "       <use style=\"stroke:#000000;stroke-width:0.8;\" x=\"82.308571\" xlink:href=\"#mb95c43dee4\" y=\"227.953862\"/>\n",
       "      </g>\n",
       "     </g>\n",
       "     <g id=\"text_2\">\n",
       "      <!-- 50 -->\n",
       "      <g transform=\"translate(75.946071 242.552299)scale(0.1 -0.1)\">\n",
       "       <defs>\n",
       "        <path d=\"M 691 4666 \n",
       "L 3169 4666 \n",
       "L 3169 4134 \n",
       "L 1269 4134 \n",
       "L 1269 2991 \n",
       "Q 1406 3038 1543 3061 \n",
       "Q 1681 3084 1819 3084 \n",
       "Q 2600 3084 3056 2656 \n",
       "Q 3513 2228 3513 1497 \n",
       "Q 3513 744 3044 326 \n",
       "Q 2575 -91 1722 -91 \n",
       "Q 1428 -91 1123 -41 \n",
       "Q 819 9 494 109 \n",
       "L 494 744 \n",
       "Q 775 591 1075 516 \n",
       "Q 1375 441 1709 441 \n",
       "Q 2250 441 2565 725 \n",
       "Q 2881 1009 2881 1497 \n",
       "Q 2881 1984 2565 2268 \n",
       "Q 2250 2553 1709 2553 \n",
       "Q 1456 2553 1204 2497 \n",
       "Q 953 2441 691 2322 \n",
       "L 691 4666 \n",
       "z\n",
       "\" id=\"DejaVuSans-35\" transform=\"scale(0.015625)\"/>\n",
       "       </defs>\n",
       "       <use xlink:href=\"#DejaVuSans-35\"/>\n",
       "       <use x=\"63.623047\" xlink:href=\"#DejaVuSans-30\"/>\n",
       "      </g>\n",
       "     </g>\n",
       "    </g>\n",
       "    <g id=\"xtick_3\">\n",
       "     <g id=\"line2d_3\">\n",
       "      <g>\n",
       "       <use style=\"stroke:#000000;stroke-width:0.8;\" x=\"130.844286\" xlink:href=\"#mb95c43dee4\" y=\"227.953862\"/>\n",
       "      </g>\n",
       "     </g>\n",
       "     <g id=\"text_3\">\n",
       "      <!-- 100 -->\n",
       "      <g transform=\"translate(121.300536 242.552299)scale(0.1 -0.1)\">\n",
       "       <defs>\n",
       "        <path d=\"M 794 531 \n",
       "L 1825 531 \n",
       "L 1825 4091 \n",
       "L 703 3866 \n",
       "L 703 4441 \n",
       "L 1819 4666 \n",
       "L 2450 4666 \n",
       "L 2450 531 \n",
       "L 3481 531 \n",
       "L 3481 0 \n",
       "L 794 0 \n",
       "L 794 531 \n",
       "z\n",
       "\" id=\"DejaVuSans-31\" transform=\"scale(0.015625)\"/>\n",
       "       </defs>\n",
       "       <use xlink:href=\"#DejaVuSans-31\"/>\n",
       "       <use x=\"63.623047\" xlink:href=\"#DejaVuSans-30\"/>\n",
       "       <use x=\"127.246094\" xlink:href=\"#DejaVuSans-30\"/>\n",
       "      </g>\n",
       "     </g>\n",
       "    </g>\n",
       "    <g id=\"xtick_4\">\n",
       "     <g id=\"line2d_4\">\n",
       "      <g>\n",
       "       <use style=\"stroke:#000000;stroke-width:0.8;\" x=\"179.38\" xlink:href=\"#mb95c43dee4\" y=\"227.953862\"/>\n",
       "      </g>\n",
       "     </g>\n",
       "     <g id=\"text_4\">\n",
       "      <!-- 150 -->\n",
       "      <g transform=\"translate(169.83625 242.552299)scale(0.1 -0.1)\">\n",
       "       <use xlink:href=\"#DejaVuSans-31\"/>\n",
       "       <use x=\"63.623047\" xlink:href=\"#DejaVuSans-35\"/>\n",
       "       <use x=\"127.246094\" xlink:href=\"#DejaVuSans-30\"/>\n",
       "      </g>\n",
       "     </g>\n",
       "    </g>\n",
       "    <g id=\"xtick_5\">\n",
       "     <g id=\"line2d_5\">\n",
       "      <g>\n",
       "       <use style=\"stroke:#000000;stroke-width:0.8;\" x=\"227.915714\" xlink:href=\"#mb95c43dee4\" y=\"227.953862\"/>\n",
       "      </g>\n",
       "     </g>\n",
       "     <g id=\"text_5\">\n",
       "      <!-- 200 -->\n",
       "      <g transform=\"translate(218.371964 242.552299)scale(0.1 -0.1)\">\n",
       "       <defs>\n",
       "        <path d=\"M 1228 531 \n",
       "L 3431 531 \n",
       "L 3431 0 \n",
       "L 469 0 \n",
       "L 469 531 \n",
       "Q 828 903 1448 1529 \n",
       "Q 2069 2156 2228 2338 \n",
       "Q 2531 2678 2651 2914 \n",
       "Q 2772 3150 2772 3378 \n",
       "Q 2772 3750 2511 3984 \n",
       "Q 2250 4219 1831 4219 \n",
       "Q 1534 4219 1204 4116 \n",
       "Q 875 4013 500 3803 \n",
       "L 500 4441 \n",
       "Q 881 4594 1212 4672 \n",
       "Q 1544 4750 1819 4750 \n",
       "Q 2544 4750 2975 4387 \n",
       "Q 3406 4025 3406 3419 \n",
       "Q 3406 3131 3298 2873 \n",
       "Q 3191 2616 2906 2266 \n",
       "Q 2828 2175 2409 1742 \n",
       "Q 1991 1309 1228 531 \n",
       "z\n",
       "\" id=\"DejaVuSans-32\" transform=\"scale(0.015625)\"/>\n",
       "       </defs>\n",
       "       <use xlink:href=\"#DejaVuSans-32\"/>\n",
       "       <use x=\"63.623047\" xlink:href=\"#DejaVuSans-30\"/>\n",
       "       <use x=\"127.246094\" xlink:href=\"#DejaVuSans-30\"/>\n",
       "      </g>\n",
       "     </g>\n",
       "    </g>\n",
       "   </g>\n",
       "   <g id=\"matplotlib.axis_2\">\n",
       "    <g id=\"ytick_1\">\n",
       "     <g id=\"line2d_6\">\n",
       "      <defs>\n",
       "       <path d=\"M 0 0 \n",
       "L -3.5 0 \n",
       "\" id=\"mf337642bf9\" style=\"stroke:#000000;stroke-width:0.8;\"/>\n",
       "      </defs>\n",
       "      <g>\n",
       "       <use style=\"stroke:#000000;stroke-width:0.8;\" x=\"33.2875\" xlink:href=\"#mf337642bf9\" y=\"10.999219\"/>\n",
       "      </g>\n",
       "     </g>\n",
       "     <g id=\"text_6\">\n",
       "      <!-- 0 -->\n",
       "      <g transform=\"translate(19.925 14.798437)scale(0.1 -0.1)\">\n",
       "       <use xlink:href=\"#DejaVuSans-30\"/>\n",
       "      </g>\n",
       "     </g>\n",
       "    </g>\n",
       "    <g id=\"ytick_2\">\n",
       "     <g id=\"line2d_7\">\n",
       "      <g>\n",
       "       <use style=\"stroke:#000000;stroke-width:0.8;\" x=\"33.2875\" xlink:href=\"#mf337642bf9\" y=\"35.267076\"/>\n",
       "      </g>\n",
       "     </g>\n",
       "     <g id=\"text_7\">\n",
       "      <!-- 25 -->\n",
       "      <g transform=\"translate(13.5625 39.066295)scale(0.1 -0.1)\">\n",
       "       <use xlink:href=\"#DejaVuSans-32\"/>\n",
       "       <use x=\"63.623047\" xlink:href=\"#DejaVuSans-35\"/>\n",
       "      </g>\n",
       "     </g>\n",
       "    </g>\n",
       "    <g id=\"ytick_3\">\n",
       "     <g id=\"line2d_8\">\n",
       "      <g>\n",
       "       <use style=\"stroke:#000000;stroke-width:0.8;\" x=\"33.2875\" xlink:href=\"#mf337642bf9\" y=\"59.534933\"/>\n",
       "      </g>\n",
       "     </g>\n",
       "     <g id=\"text_8\">\n",
       "      <!-- 50 -->\n",
       "      <g transform=\"translate(13.5625 63.334152)scale(0.1 -0.1)\">\n",
       "       <use xlink:href=\"#DejaVuSans-35\"/>\n",
       "       <use x=\"63.623047\" xlink:href=\"#DejaVuSans-30\"/>\n",
       "      </g>\n",
       "     </g>\n",
       "    </g>\n",
       "    <g id=\"ytick_4\">\n",
       "     <g id=\"line2d_9\">\n",
       "      <g>\n",
       "       <use style=\"stroke:#000000;stroke-width:0.8;\" x=\"33.2875\" xlink:href=\"#mf337642bf9\" y=\"83.80279\"/>\n",
       "      </g>\n",
       "     </g>\n",
       "     <g id=\"text_9\">\n",
       "      <!-- 75 -->\n",
       "      <g transform=\"translate(13.5625 87.602009)scale(0.1 -0.1)\">\n",
       "       <defs>\n",
       "        <path d=\"M 525 4666 \n",
       "L 3525 4666 \n",
       "L 3525 4397 \n",
       "L 1831 0 \n",
       "L 1172 0 \n",
       "L 2766 4134 \n",
       "L 525 4134 \n",
       "L 525 4666 \n",
       "z\n",
       "\" id=\"DejaVuSans-37\" transform=\"scale(0.015625)\"/>\n",
       "       </defs>\n",
       "       <use xlink:href=\"#DejaVuSans-37\"/>\n",
       "       <use x=\"63.623047\" xlink:href=\"#DejaVuSans-35\"/>\n",
       "      </g>\n",
       "     </g>\n",
       "    </g>\n",
       "    <g id=\"ytick_5\">\n",
       "     <g id=\"line2d_10\">\n",
       "      <g>\n",
       "       <use style=\"stroke:#000000;stroke-width:0.8;\" x=\"33.2875\" xlink:href=\"#mf337642bf9\" y=\"108.070647\"/>\n",
       "      </g>\n",
       "     </g>\n",
       "     <g id=\"text_10\">\n",
       "      <!-- 100 -->\n",
       "      <g transform=\"translate(7.2 111.869866)scale(0.1 -0.1)\">\n",
       "       <use xlink:href=\"#DejaVuSans-31\"/>\n",
       "       <use x=\"63.623047\" xlink:href=\"#DejaVuSans-30\"/>\n",
       "       <use x=\"127.246094\" xlink:href=\"#DejaVuSans-30\"/>\n",
       "      </g>\n",
       "     </g>\n",
       "    </g>\n",
       "    <g id=\"ytick_6\">\n",
       "     <g id=\"line2d_11\">\n",
       "      <g>\n",
       "       <use style=\"stroke:#000000;stroke-width:0.8;\" x=\"33.2875\" xlink:href=\"#mf337642bf9\" y=\"132.338504\"/>\n",
       "      </g>\n",
       "     </g>\n",
       "     <g id=\"text_11\">\n",
       "      <!-- 125 -->\n",
       "      <g transform=\"translate(7.2 136.137723)scale(0.1 -0.1)\">\n",
       "       <use xlink:href=\"#DejaVuSans-31\"/>\n",
       "       <use x=\"63.623047\" xlink:href=\"#DejaVuSans-32\"/>\n",
       "       <use x=\"127.246094\" xlink:href=\"#DejaVuSans-35\"/>\n",
       "      </g>\n",
       "     </g>\n",
       "    </g>\n",
       "    <g id=\"ytick_7\">\n",
       "     <g id=\"line2d_12\">\n",
       "      <g>\n",
       "       <use style=\"stroke:#000000;stroke-width:0.8;\" x=\"33.2875\" xlink:href=\"#mf337642bf9\" y=\"156.606362\"/>\n",
       "      </g>\n",
       "     </g>\n",
       "     <g id=\"text_12\">\n",
       "      <!-- 150 -->\n",
       "      <g transform=\"translate(7.2 160.40558)scale(0.1 -0.1)\">\n",
       "       <use xlink:href=\"#DejaVuSans-31\"/>\n",
       "       <use x=\"63.623047\" xlink:href=\"#DejaVuSans-35\"/>\n",
       "       <use x=\"127.246094\" xlink:href=\"#DejaVuSans-30\"/>\n",
       "      </g>\n",
       "     </g>\n",
       "    </g>\n",
       "    <g id=\"ytick_8\">\n",
       "     <g id=\"line2d_13\">\n",
       "      <g>\n",
       "       <use style=\"stroke:#000000;stroke-width:0.8;\" x=\"33.2875\" xlink:href=\"#mf337642bf9\" y=\"180.874219\"/>\n",
       "      </g>\n",
       "     </g>\n",
       "     <g id=\"text_13\">\n",
       "      <!-- 175 -->\n",
       "      <g transform=\"translate(7.2 184.673437)scale(0.1 -0.1)\">\n",
       "       <use xlink:href=\"#DejaVuSans-31\"/>\n",
       "       <use x=\"63.623047\" xlink:href=\"#DejaVuSans-37\"/>\n",
       "       <use x=\"127.246094\" xlink:href=\"#DejaVuSans-35\"/>\n",
       "      </g>\n",
       "     </g>\n",
       "    </g>\n",
       "    <g id=\"ytick_9\">\n",
       "     <g id=\"line2d_14\">\n",
       "      <g>\n",
       "       <use style=\"stroke:#000000;stroke-width:0.8;\" x=\"33.2875\" xlink:href=\"#mf337642bf9\" y=\"205.142076\"/>\n",
       "      </g>\n",
       "     </g>\n",
       "     <g id=\"text_14\">\n",
       "      <!-- 200 -->\n",
       "      <g transform=\"translate(7.2 208.941295)scale(0.1 -0.1)\">\n",
       "       <use xlink:href=\"#DejaVuSans-32\"/>\n",
       "       <use x=\"63.623047\" xlink:href=\"#DejaVuSans-30\"/>\n",
       "       <use x=\"127.246094\" xlink:href=\"#DejaVuSans-30\"/>\n",
       "      </g>\n",
       "     </g>\n",
       "    </g>\n",
       "   </g>\n",
       "   <g id=\"patch_3\">\n",
       "    <path d=\"M 33.2875 227.953862 \n",
       "L 33.2875 10.513862 \n",
       "\" style=\"fill:none;stroke:#000000;stroke-linecap:square;stroke-linejoin:miter;stroke-width:0.8;\"/>\n",
       "   </g>\n",
       "   <g id=\"patch_4\">\n",
       "    <path d=\"M 250.7275 227.953862 \n",
       "L 250.7275 10.513862 \n",
       "\" style=\"fill:none;stroke:#000000;stroke-linecap:square;stroke-linejoin:miter;stroke-width:0.8;\"/>\n",
       "   </g>\n",
       "   <g id=\"patch_5\">\n",
       "    <path d=\"M 33.2875 227.953862 \n",
       "L 250.7275 227.953862 \n",
       "\" style=\"fill:none;stroke:#000000;stroke-linecap:square;stroke-linejoin:miter;stroke-width:0.8;\"/>\n",
       "   </g>\n",
       "   <g id=\"patch_6\">\n",
       "    <path d=\"M 33.2875 10.513862 \n",
       "L 250.7275 10.513862 \n",
       "\" style=\"fill:none;stroke:#000000;stroke-linecap:square;stroke-linejoin:miter;stroke-width:0.8;\"/>\n",
       "   </g>\n",
       "  </g>\n",
       " </g>\n",
       " <defs>\n",
       "  <clipPath id=\"p642ddbb984\">\n",
       "   <rect height=\"217.44\" width=\"217.44\" x=\"33.2875\" y=\"10.513862\"/>\n",
       "  </clipPath>\n",
       " </defs>\n",
       "</svg>\n"
      ],
      "text/plain": [
       "<Figure size 432x288 with 1 Axes>"
      ]
     },
     "metadata": {
      "needs_background": "light"
     },
     "output_type": "display_data"
    }
   ],
   "source": [
    "plt.imshow((50*delta+0.5)[0].detach().numpy().transpose(1,2,0))\n"
   ]
  },
  {
   "cell_type": "code",
   "execution_count": null,
   "metadata": {},
   "outputs": [],
   "source": []
  }
 ],
 "metadata": {
  "accelerator": "GPU",
  "colab": {
   "collapsed_sections": [],
   "name": "STDintroduction.ipynb",
   "provenance": []
  },
  "kernelspec": {
   "display_name": "Python 3 (ipykernel)",
   "language": "python",
   "name": "python3"
  },
  "language_info": {
   "codemirror_mode": {
    "name": "ipython",
    "version": 3
   },
   "file_extension": ".py",
   "mimetype": "text/x-python",
   "name": "python",
   "nbconvert_exporter": "python",
   "pygments_lexer": "ipython3",
   "version": "3.9.7"
  },
  "widgets": {
   "application/vnd.jupyter.widget-state+json": {
    "00f28e6fa51d47beb2c0214f7cfcd18e": {
     "model_module": "@jupyter-widgets/controls",
     "model_module_version": "1.5.0",
     "model_name": "HBoxModel",
     "state": {
      "_dom_classes": [],
      "_model_module": "@jupyter-widgets/controls",
      "_model_module_version": "1.5.0",
      "_model_name": "HBoxModel",
      "_view_count": null,
      "_view_module": "@jupyter-widgets/controls",
      "_view_module_version": "1.5.0",
      "_view_name": "HBoxView",
      "box_style": "",
      "children": [
       "IPY_MODEL_cb443bc99d3343da97358e51cb067635",
       "IPY_MODEL_2c09fb80eac84910ad5056bbfc08daca",
       "IPY_MODEL_bf6175b1b53e42ef916ad68973d012d8"
      ],
      "layout": "IPY_MODEL_e6f3bd80225d4b3bba8018c2cabbcc7e"
     }
    },
    "06814eb6c14f4f88b487527661fce89e": {
     "model_module": "@jupyter-widgets/controls",
     "model_module_version": "1.5.0",
     "model_name": "DescriptionStyleModel",
     "state": {
      "_model_module": "@jupyter-widgets/controls",
      "_model_module_version": "1.5.0",
      "_model_name": "DescriptionStyleModel",
      "_view_count": null,
      "_view_module": "@jupyter-widgets/base",
      "_view_module_version": "1.2.0",
      "_view_name": "StyleView",
      "description_width": ""
     }
    },
    "0862bdc3d6f544db8a28ca14e0fbb76d": {
     "model_module": "@jupyter-widgets/base",
     "model_module_version": "1.2.0",
     "model_name": "LayoutModel",
     "state": {
      "_model_module": "@jupyter-widgets/base",
      "_model_module_version": "1.2.0",
      "_model_name": "LayoutModel",
      "_view_count": null,
      "_view_module": "@jupyter-widgets/base",
      "_view_module_version": "1.2.0",
      "_view_name": "LayoutView",
      "align_content": null,
      "align_items": null,
      "align_self": null,
      "border": null,
      "bottom": null,
      "display": null,
      "flex": null,
      "flex_flow": null,
      "grid_area": null,
      "grid_auto_columns": null,
      "grid_auto_flow": null,
      "grid_auto_rows": null,
      "grid_column": null,
      "grid_gap": null,
      "grid_row": null,
      "grid_template_areas": null,
      "grid_template_columns": null,
      "grid_template_rows": null,
      "height": null,
      "justify_content": null,
      "justify_items": null,
      "left": null,
      "margin": null,
      "max_height": null,
      "max_width": null,
      "min_height": null,
      "min_width": null,
      "object_fit": null,
      "object_position": null,
      "order": null,
      "overflow": null,
      "overflow_x": null,
      "overflow_y": null,
      "padding": null,
      "right": null,
      "top": null,
      "visibility": null,
      "width": null
     }
    },
    "0979ace70edf4b0db2e394bdd0de8017": {
     "model_module": "@jupyter-widgets/base",
     "model_module_version": "1.2.0",
     "model_name": "LayoutModel",
     "state": {
      "_model_module": "@jupyter-widgets/base",
      "_model_module_version": "1.2.0",
      "_model_name": "LayoutModel",
      "_view_count": null,
      "_view_module": "@jupyter-widgets/base",
      "_view_module_version": "1.2.0",
      "_view_name": "LayoutView",
      "align_content": null,
      "align_items": null,
      "align_self": null,
      "border": null,
      "bottom": null,
      "display": null,
      "flex": null,
      "flex_flow": null,
      "grid_area": null,
      "grid_auto_columns": null,
      "grid_auto_flow": null,
      "grid_auto_rows": null,
      "grid_column": null,
      "grid_gap": null,
      "grid_row": null,
      "grid_template_areas": null,
      "grid_template_columns": null,
      "grid_template_rows": null,
      "height": null,
      "justify_content": null,
      "justify_items": null,
      "left": null,
      "margin": null,
      "max_height": null,
      "max_width": null,
      "min_height": null,
      "min_width": null,
      "object_fit": null,
      "object_position": null,
      "order": null,
      "overflow": null,
      "overflow_x": null,
      "overflow_y": null,
      "padding": null,
      "right": null,
      "top": null,
      "visibility": null,
      "width": null
     }
    },
    "0ae783d887cc49728ea39ce5ecfc468b": {
     "model_module": "@jupyter-widgets/controls",
     "model_module_version": "1.5.0",
     "model_name": "DescriptionStyleModel",
     "state": {
      "_model_module": "@jupyter-widgets/controls",
      "_model_module_version": "1.5.0",
      "_model_name": "DescriptionStyleModel",
      "_view_count": null,
      "_view_module": "@jupyter-widgets/base",
      "_view_module_version": "1.2.0",
      "_view_name": "StyleView",
      "description_width": ""
     }
    },
    "0f37df0617274f418a1f71226c724bc8": {
     "model_module": "@jupyter-widgets/base",
     "model_module_version": "1.2.0",
     "model_name": "LayoutModel",
     "state": {
      "_model_module": "@jupyter-widgets/base",
      "_model_module_version": "1.2.0",
      "_model_name": "LayoutModel",
      "_view_count": null,
      "_view_module": "@jupyter-widgets/base",
      "_view_module_version": "1.2.0",
      "_view_name": "LayoutView",
      "align_content": null,
      "align_items": null,
      "align_self": null,
      "border": null,
      "bottom": null,
      "display": null,
      "flex": null,
      "flex_flow": null,
      "grid_area": null,
      "grid_auto_columns": null,
      "grid_auto_flow": null,
      "grid_auto_rows": null,
      "grid_column": null,
      "grid_gap": null,
      "grid_row": null,
      "grid_template_areas": null,
      "grid_template_columns": null,
      "grid_template_rows": null,
      "height": null,
      "justify_content": null,
      "justify_items": null,
      "left": null,
      "margin": null,
      "max_height": null,
      "max_width": null,
      "min_height": null,
      "min_width": null,
      "object_fit": null,
      "object_position": null,
      "order": null,
      "overflow": null,
      "overflow_x": null,
      "overflow_y": null,
      "padding": null,
      "right": null,
      "top": null,
      "visibility": null,
      "width": null
     }
    },
    "0fdc7c3b7a23415ea4835590d632cea3": {
     "model_module": "@jupyter-widgets/controls",
     "model_module_version": "1.5.0",
     "model_name": "HBoxModel",
     "state": {
      "_dom_classes": [],
      "_model_module": "@jupyter-widgets/controls",
      "_model_module_version": "1.5.0",
      "_model_name": "HBoxModel",
      "_view_count": null,
      "_view_module": "@jupyter-widgets/controls",
      "_view_module_version": "1.5.0",
      "_view_name": "HBoxView",
      "box_style": "",
      "children": [
       "IPY_MODEL_d2e7b7d4251d451999884b1248af8f7d",
       "IPY_MODEL_8c2d356a24d44ed3bcbfdbc4aed02a0d",
       "IPY_MODEL_73b2527a331a48a5927198642e86fd0e"
      ],
      "layout": "IPY_MODEL_a86fad510d53494f9c3bae1f037be641"
     }
    },
    "108622e87f224b16a7fd0a1aed23b4f1": {
     "model_module": "@jupyter-widgets/base",
     "model_module_version": "1.2.0",
     "model_name": "LayoutModel",
     "state": {
      "_model_module": "@jupyter-widgets/base",
      "_model_module_version": "1.2.0",
      "_model_name": "LayoutModel",
      "_view_count": null,
      "_view_module": "@jupyter-widgets/base",
      "_view_module_version": "1.2.0",
      "_view_name": "LayoutView",
      "align_content": null,
      "align_items": null,
      "align_self": null,
      "border": null,
      "bottom": null,
      "display": null,
      "flex": null,
      "flex_flow": null,
      "grid_area": null,
      "grid_auto_columns": null,
      "grid_auto_flow": null,
      "grid_auto_rows": null,
      "grid_column": null,
      "grid_gap": null,
      "grid_row": null,
      "grid_template_areas": null,
      "grid_template_columns": null,
      "grid_template_rows": null,
      "height": null,
      "justify_content": null,
      "justify_items": null,
      "left": null,
      "margin": null,
      "max_height": null,
      "max_width": null,
      "min_height": null,
      "min_width": null,
      "object_fit": null,
      "object_position": null,
      "order": null,
      "overflow": null,
      "overflow_x": null,
      "overflow_y": null,
      "padding": null,
      "right": null,
      "top": null,
      "visibility": null,
      "width": null
     }
    },
    "11c7d60f4c0a4e55aaeeb7053228898e": {
     "model_module": "@jupyter-widgets/controls",
     "model_module_version": "1.5.0",
     "model_name": "DescriptionStyleModel",
     "state": {
      "_model_module": "@jupyter-widgets/controls",
      "_model_module_version": "1.5.0",
      "_model_name": "DescriptionStyleModel",
      "_view_count": null,
      "_view_module": "@jupyter-widgets/base",
      "_view_module_version": "1.2.0",
      "_view_name": "StyleView",
      "description_width": ""
     }
    },
    "1221cadf09a745f19b6b3072656defd4": {
     "model_module": "@jupyter-widgets/controls",
     "model_module_version": "1.5.0",
     "model_name": "FloatProgressModel",
     "state": {
      "_dom_classes": [],
      "_model_module": "@jupyter-widgets/controls",
      "_model_module_version": "1.5.0",
      "_model_name": "FloatProgressModel",
      "_view_count": null,
      "_view_module": "@jupyter-widgets/controls",
      "_view_module_version": "1.5.0",
      "_view_name": "ProgressView",
      "bar_style": "success",
      "description": "",
      "description_tooltip": null,
      "layout": "IPY_MODEL_c65d572097de4695aec0647e1e01482a",
      "max": 26421880,
      "min": 0,
      "orientation": "horizontal",
      "style": "IPY_MODEL_edef253ff3d045048d0406079872d31e",
      "value": 26421880
     }
    },
    "14886144ca4e4e55b4dfad5bd6790550": {
     "model_module": "@jupyter-widgets/controls",
     "model_module_version": "1.5.0",
     "model_name": "HTMLModel",
     "state": {
      "_dom_classes": [],
      "_model_module": "@jupyter-widgets/controls",
      "_model_module_version": "1.5.0",
      "_model_name": "HTMLModel",
      "_view_count": null,
      "_view_module": "@jupyter-widgets/controls",
      "_view_module_version": "1.5.0",
      "_view_name": "HTMLView",
      "description": "",
      "description_tooltip": null,
      "layout": "IPY_MODEL_77e052c7a7de420eafb6cf55d2d406b1",
      "placeholder": "​",
      "style": "IPY_MODEL_e28fa28cc9ec4a52a18037d911035b07",
      "value": "Loss: 2.3539:   0%"
     }
    },
    "1a73c880079d4baf803c8063b10050dd": {
     "model_module": "@jupyter-widgets/base",
     "model_module_version": "1.2.0",
     "model_name": "LayoutModel",
     "state": {
      "_model_module": "@jupyter-widgets/base",
      "_model_module_version": "1.2.0",
      "_model_name": "LayoutModel",
      "_view_count": null,
      "_view_module": "@jupyter-widgets/base",
      "_view_module_version": "1.2.0",
      "_view_name": "LayoutView",
      "align_content": null,
      "align_items": null,
      "align_self": null,
      "border": null,
      "bottom": null,
      "display": null,
      "flex": null,
      "flex_flow": null,
      "grid_area": null,
      "grid_auto_columns": null,
      "grid_auto_flow": null,
      "grid_auto_rows": null,
      "grid_column": null,
      "grid_gap": null,
      "grid_row": null,
      "grid_template_areas": null,
      "grid_template_columns": null,
      "grid_template_rows": null,
      "height": null,
      "justify_content": null,
      "justify_items": null,
      "left": null,
      "margin": null,
      "max_height": null,
      "max_width": null,
      "min_height": null,
      "min_width": null,
      "object_fit": null,
      "object_position": null,
      "order": null,
      "overflow": null,
      "overflow_x": null,
      "overflow_y": null,
      "padding": null,
      "right": null,
      "top": null,
      "visibility": null,
      "width": null
     }
    },
    "1ac52cddb3224b2f92d29e01439a05b5": {
     "model_module": "@jupyter-widgets/controls",
     "model_module_version": "1.5.0",
     "model_name": "HBoxModel",
     "state": {
      "_dom_classes": [],
      "_model_module": "@jupyter-widgets/controls",
      "_model_module_version": "1.5.0",
      "_model_name": "HBoxModel",
      "_view_count": null,
      "_view_module": "@jupyter-widgets/controls",
      "_view_module_version": "1.5.0",
      "_view_name": "HBoxView",
      "box_style": "",
      "children": [
       "IPY_MODEL_75e1a5e31a334d548df5d54cf4210eda",
       "IPY_MODEL_1221cadf09a745f19b6b3072656defd4",
       "IPY_MODEL_677f73839b6c471d921f248de40ea330"
      ],
      "layout": "IPY_MODEL_8ea40ef19c334b56bd2cab82cef6700d"
     }
    },
    "1e9ca34892db4804acee3ca07ae30280": {
     "model_module": "@jupyter-widgets/controls",
     "model_module_version": "1.5.0",
     "model_name": "FloatProgressModel",
     "state": {
      "_dom_classes": [],
      "_model_module": "@jupyter-widgets/controls",
      "_model_module_version": "1.5.0",
      "_model_name": "FloatProgressModel",
      "_view_count": null,
      "_view_module": "@jupyter-widgets/controls",
      "_view_module_version": "1.5.0",
      "_view_name": "ProgressView",
      "bar_style": "success",
      "description": "",
      "description_tooltip": null,
      "layout": "IPY_MODEL_108622e87f224b16a7fd0a1aed23b4f1",
      "max": 5148,
      "min": 0,
      "orientation": "horizontal",
      "style": "IPY_MODEL_873f5f6660b04911933f6a4f02e66a1e",
      "value": 5148
     }
    },
    "2c09fb80eac84910ad5056bbfc08daca": {
     "model_module": "@jupyter-widgets/controls",
     "model_module_version": "1.5.0",
     "model_name": "FloatProgressModel",
     "state": {
      "_dom_classes": [],
      "_model_module": "@jupyter-widgets/controls",
      "_model_module_version": "1.5.0",
      "_model_name": "FloatProgressModel",
      "_view_count": null,
      "_view_module": "@jupyter-widgets/controls",
      "_view_module_version": "1.5.0",
      "_view_name": "ProgressView",
      "bar_style": "success",
      "description": "",
      "description_tooltip": null,
      "layout": "IPY_MODEL_af0adeebc1714582b7505a502780e69f",
      "max": 29515,
      "min": 0,
      "orientation": "horizontal",
      "style": "IPY_MODEL_739b1aaa7b21423b840a283c758ee4af",
      "value": 29515
     }
    },
    "2e1919bd72464ea1bb675c8295e6e718": {
     "model_module": "@jupyter-widgets/controls",
     "model_module_version": "1.5.0",
     "model_name": "DescriptionStyleModel",
     "state": {
      "_model_module": "@jupyter-widgets/controls",
      "_model_module_version": "1.5.0",
      "_model_name": "DescriptionStyleModel",
      "_view_count": null,
      "_view_module": "@jupyter-widgets/base",
      "_view_module_version": "1.2.0",
      "_view_name": "StyleView",
      "description_width": ""
     }
    },
    "2ebd8e8beb1b4da8a1dd088b9dcacaa2": {
     "model_module": "@jupyter-widgets/controls",
     "model_module_version": "1.5.0",
     "model_name": "HTMLModel",
     "state": {
      "_dom_classes": [],
      "_model_module": "@jupyter-widgets/controls",
      "_model_module_version": "1.5.0",
      "_model_name": "HTMLModel",
      "_view_count": null,
      "_view_module": "@jupyter-widgets/controls",
      "_view_module_version": "1.5.0",
      "_view_name": "HTMLView",
      "description": "",
      "description_tooltip": null,
      "layout": "IPY_MODEL_5e315f4b022a4f03b6b05a9401fe9661",
      "placeholder": "​",
      "style": "IPY_MODEL_11c7d60f4c0a4e55aaeeb7053228898e",
      "value": ""
     }
    },
    "2edc7175628248ab82c4ca0434042934": {
     "model_module": "@jupyter-widgets/controls",
     "model_module_version": "1.5.0",
     "model_name": "FloatProgressModel",
     "state": {
      "_dom_classes": [],
      "_model_module": "@jupyter-widgets/controls",
      "_model_module_version": "1.5.0",
      "_model_name": "FloatProgressModel",
      "_view_count": null,
      "_view_module": "@jupyter-widgets/controls",
      "_view_module_version": "1.5.0",
      "_view_name": "ProgressView",
      "bar_style": "success",
      "description": "",
      "description_tooltip": null,
      "layout": "IPY_MODEL_d4f596b0bab443c0a1e04f58c8cb4a0d",
      "max": 4422102,
      "min": 0,
      "orientation": "horizontal",
      "style": "IPY_MODEL_491e50b8bf9d49599074f131d4e23b13",
      "value": 4422102
     }
    },
    "312db40f60d14f1e84c82682448ea9a4": {
     "model_module": "@jupyter-widgets/controls",
     "model_module_version": "1.5.0",
     "model_name": "DescriptionStyleModel",
     "state": {
      "_model_module": "@jupyter-widgets/controls",
      "_model_module_version": "1.5.0",
      "_model_name": "DescriptionStyleModel",
      "_view_count": null,
      "_view_module": "@jupyter-widgets/base",
      "_view_module_version": "1.2.0",
      "_view_name": "StyleView",
      "description_width": ""
     }
    },
    "326782502fe743988fa6657214216674": {
     "model_module": "@jupyter-widgets/controls",
     "model_module_version": "1.5.0",
     "model_name": "ProgressStyleModel",
     "state": {
      "_model_module": "@jupyter-widgets/controls",
      "_model_module_version": "1.5.0",
      "_model_name": "ProgressStyleModel",
      "_view_count": null,
      "_view_module": "@jupyter-widgets/base",
      "_view_module_version": "1.2.0",
      "_view_name": "StyleView",
      "bar_color": null,
      "description_width": ""
     }
    },
    "33e6a73b77b34192a21e3b53590d5787": {
     "model_module": "@jupyter-widgets/controls",
     "model_module_version": "1.5.0",
     "model_name": "FloatProgressModel",
     "state": {
      "_dom_classes": [],
      "_model_module": "@jupyter-widgets/controls",
      "_model_module_version": "1.5.0",
      "_model_name": "FloatProgressModel",
      "_view_count": null,
      "_view_module": "@jupyter-widgets/controls",
      "_view_module_version": "1.5.0",
      "_view_name": "ProgressView",
      "bar_style": "success",
      "description": "",
      "description_tooltip": null,
      "layout": "IPY_MODEL_e4298bd5dc4e4b0fb17a720eb109d49f",
      "max": 26421880,
      "min": 0,
      "orientation": "horizontal",
      "style": "IPY_MODEL_d07f7a788d464efc8a968b8097d1708b",
      "value": 26421880
     }
    },
    "372cec36e63543bd83b6db252ed9a12a": {
     "model_module": "@jupyter-widgets/controls",
     "model_module_version": "1.5.0",
     "model_name": "HBoxModel",
     "state": {
      "_dom_classes": [],
      "_model_module": "@jupyter-widgets/controls",
      "_model_module_version": "1.5.0",
      "_model_name": "HBoxModel",
      "_view_count": null,
      "_view_module": "@jupyter-widgets/controls",
      "_view_module_version": "1.5.0",
      "_view_name": "HBoxView",
      "box_style": "",
      "children": [
       "IPY_MODEL_14886144ca4e4e55b4dfad5bd6790550",
       "IPY_MODEL_9cdb2f1098454b7db1f3d84da34eb847",
       "IPY_MODEL_f38727e742b44cd0bf10df786020058d"
      ],
      "layout": "IPY_MODEL_4ce65f44a60a4751b7c658bbc09c55ed"
     }
    },
    "3add4542dd3e4a1e8f8b3b4b8254b62c": {
     "model_module": "@jupyter-widgets/controls",
     "model_module_version": "1.5.0",
     "model_name": "DescriptionStyleModel",
     "state": {
      "_model_module": "@jupyter-widgets/controls",
      "_model_module_version": "1.5.0",
      "_model_name": "DescriptionStyleModel",
      "_view_count": null,
      "_view_module": "@jupyter-widgets/base",
      "_view_module_version": "1.2.0",
      "_view_name": "StyleView",
      "description_width": ""
     }
    },
    "3cb22621e22140539237dd61dedf0b10": {
     "model_module": "@jupyter-widgets/controls",
     "model_module_version": "1.5.0",
     "model_name": "DescriptionStyleModel",
     "state": {
      "_model_module": "@jupyter-widgets/controls",
      "_model_module_version": "1.5.0",
      "_model_name": "DescriptionStyleModel",
      "_view_count": null,
      "_view_module": "@jupyter-widgets/base",
      "_view_module_version": "1.2.0",
      "_view_name": "StyleView",
      "description_width": ""
     }
    },
    "3e959312c9964531998497a38b19afe5": {
     "model_module": "@jupyter-widgets/controls",
     "model_module_version": "1.5.0",
     "model_name": "DescriptionStyleModel",
     "state": {
      "_model_module": "@jupyter-widgets/controls",
      "_model_module_version": "1.5.0",
      "_model_name": "DescriptionStyleModel",
      "_view_count": null,
      "_view_module": "@jupyter-widgets/base",
      "_view_module_version": "1.2.0",
      "_view_name": "StyleView",
      "description_width": ""
     }
    },
    "4363655a1cbb4cc492c081b241aee628": {
     "model_module": "@jupyter-widgets/controls",
     "model_module_version": "1.5.0",
     "model_name": "DescriptionStyleModel",
     "state": {
      "_model_module": "@jupyter-widgets/controls",
      "_model_module_version": "1.5.0",
      "_model_name": "DescriptionStyleModel",
      "_view_count": null,
      "_view_module": "@jupyter-widgets/base",
      "_view_module_version": "1.2.0",
      "_view_name": "StyleView",
      "description_width": ""
     }
    },
    "446af936e85448d2bd3b22af472cef4a": {
     "model_module": "@jupyter-widgets/base",
     "model_module_version": "1.2.0",
     "model_name": "LayoutModel",
     "state": {
      "_model_module": "@jupyter-widgets/base",
      "_model_module_version": "1.2.0",
      "_model_name": "LayoutModel",
      "_view_count": null,
      "_view_module": "@jupyter-widgets/base",
      "_view_module_version": "1.2.0",
      "_view_name": "LayoutView",
      "align_content": null,
      "align_items": null,
      "align_self": null,
      "border": null,
      "bottom": null,
      "display": null,
      "flex": null,
      "flex_flow": null,
      "grid_area": null,
      "grid_auto_columns": null,
      "grid_auto_flow": null,
      "grid_auto_rows": null,
      "grid_column": null,
      "grid_gap": null,
      "grid_row": null,
      "grid_template_areas": null,
      "grid_template_columns": null,
      "grid_template_rows": null,
      "height": null,
      "justify_content": null,
      "justify_items": null,
      "left": null,
      "margin": null,
      "max_height": null,
      "max_width": null,
      "min_height": null,
      "min_width": null,
      "object_fit": null,
      "object_position": null,
      "order": null,
      "overflow": null,
      "overflow_x": null,
      "overflow_y": null,
      "padding": null,
      "right": null,
      "top": null,
      "visibility": null,
      "width": null
     }
    },
    "491e50b8bf9d49599074f131d4e23b13": {
     "model_module": "@jupyter-widgets/controls",
     "model_module_version": "1.5.0",
     "model_name": "ProgressStyleModel",
     "state": {
      "_model_module": "@jupyter-widgets/controls",
      "_model_module_version": "1.5.0",
      "_model_name": "ProgressStyleModel",
      "_view_count": null,
      "_view_module": "@jupyter-widgets/base",
      "_view_module_version": "1.2.0",
      "_view_name": "StyleView",
      "bar_color": null,
      "description_width": ""
     }
    },
    "4ce65f44a60a4751b7c658bbc09c55ed": {
     "model_module": "@jupyter-widgets/base",
     "model_module_version": "1.2.0",
     "model_name": "LayoutModel",
     "state": {
      "_model_module": "@jupyter-widgets/base",
      "_model_module_version": "1.2.0",
      "_model_name": "LayoutModel",
      "_view_count": null,
      "_view_module": "@jupyter-widgets/base",
      "_view_module_version": "1.2.0",
      "_view_name": "LayoutView",
      "align_content": null,
      "align_items": null,
      "align_self": null,
      "border": null,
      "bottom": null,
      "display": null,
      "flex": null,
      "flex_flow": null,
      "grid_area": null,
      "grid_auto_columns": null,
      "grid_auto_flow": null,
      "grid_auto_rows": null,
      "grid_column": null,
      "grid_gap": null,
      "grid_row": null,
      "grid_template_areas": null,
      "grid_template_columns": null,
      "grid_template_rows": null,
      "height": null,
      "justify_content": null,
      "justify_items": null,
      "left": null,
      "margin": null,
      "max_height": null,
      "max_width": null,
      "min_height": null,
      "min_width": null,
      "object_fit": null,
      "object_position": null,
      "order": null,
      "overflow": null,
      "overflow_x": null,
      "overflow_y": null,
      "padding": null,
      "right": null,
      "top": null,
      "visibility": null,
      "width": null
     }
    },
    "5523dc495fdf4c89a7ec3c3d71fe2c30": {
     "model_module": "@jupyter-widgets/base",
     "model_module_version": "1.2.0",
     "model_name": "LayoutModel",
     "state": {
      "_model_module": "@jupyter-widgets/base",
      "_model_module_version": "1.2.0",
      "_model_name": "LayoutModel",
      "_view_count": null,
      "_view_module": "@jupyter-widgets/base",
      "_view_module_version": "1.2.0",
      "_view_name": "LayoutView",
      "align_content": null,
      "align_items": null,
      "align_self": null,
      "border": null,
      "bottom": null,
      "display": null,
      "flex": null,
      "flex_flow": null,
      "grid_area": null,
      "grid_auto_columns": null,
      "grid_auto_flow": null,
      "grid_auto_rows": null,
      "grid_column": null,
      "grid_gap": null,
      "grid_row": null,
      "grid_template_areas": null,
      "grid_template_columns": null,
      "grid_template_rows": null,
      "height": null,
      "justify_content": null,
      "justify_items": null,
      "left": null,
      "margin": null,
      "max_height": null,
      "max_width": null,
      "min_height": null,
      "min_width": null,
      "object_fit": null,
      "object_position": null,
      "order": null,
      "overflow": null,
      "overflow_x": null,
      "overflow_y": null,
      "padding": null,
      "right": null,
      "top": null,
      "visibility": null,
      "width": null
     }
    },
    "58a42e99a6964f71b60b0c3c0336b4fa": {
     "model_module": "@jupyter-widgets/controls",
     "model_module_version": "1.5.0",
     "model_name": "HTMLModel",
     "state": {
      "_dom_classes": [],
      "_model_module": "@jupyter-widgets/controls",
      "_model_module_version": "1.5.0",
      "_model_name": "HTMLModel",
      "_view_count": null,
      "_view_module": "@jupyter-widgets/controls",
      "_view_module_version": "1.5.0",
      "_view_name": "HTMLView",
      "description": "",
      "description_tooltip": null,
      "layout": "IPY_MODEL_d67a5443413c4843973a65e10779d67a",
      "placeholder": "​",
      "style": "IPY_MODEL_3e959312c9964531998497a38b19afe5",
      "value": " 4422656/? [00:00&lt;00:00, 7671730.57it/s]"
     }
    },
    "5a997a81ebc34a8db0d7b28d43572638": {
     "model_module": "@jupyter-widgets/controls",
     "model_module_version": "1.5.0",
     "model_name": "ProgressStyleModel",
     "state": {
      "_model_module": "@jupyter-widgets/controls",
      "_model_module_version": "1.5.0",
      "_model_name": "ProgressStyleModel",
      "_view_count": null,
      "_view_module": "@jupyter-widgets/base",
      "_view_module_version": "1.2.0",
      "_view_name": "StyleView",
      "bar_color": null,
      "description_width": ""
     }
    },
    "5d2d20f9acaa438aa3c359a209c4bc32": {
     "model_module": "@jupyter-widgets/controls",
     "model_module_version": "1.5.0",
     "model_name": "ProgressStyleModel",
     "state": {
      "_model_module": "@jupyter-widgets/controls",
      "_model_module_version": "1.5.0",
      "_model_name": "ProgressStyleModel",
      "_view_count": null,
      "_view_module": "@jupyter-widgets/base",
      "_view_module_version": "1.2.0",
      "_view_name": "StyleView",
      "bar_color": null,
      "description_width": ""
     }
    },
    "5dc16b3a9e9046ec956167a7e7235e50": {
     "model_module": "@jupyter-widgets/controls",
     "model_module_version": "1.5.0",
     "model_name": "HBoxModel",
     "state": {
      "_dom_classes": [],
      "_model_module": "@jupyter-widgets/controls",
      "_model_module_version": "1.5.0",
      "_model_name": "HBoxModel",
      "_view_count": null,
      "_view_module": "@jupyter-widgets/controls",
      "_view_module_version": "1.5.0",
      "_view_name": "HBoxView",
      "box_style": "",
      "children": [
       "IPY_MODEL_8d3252b88d51431fbeb83df09cdaac31",
       "IPY_MODEL_2edc7175628248ab82c4ca0434042934",
       "IPY_MODEL_58a42e99a6964f71b60b0c3c0336b4fa"
      ],
      "layout": "IPY_MODEL_e445e3284827419aad53b47225e9e643"
     }
    },
    "5e315f4b022a4f03b6b05a9401fe9661": {
     "model_module": "@jupyter-widgets/base",
     "model_module_version": "1.2.0",
     "model_name": "LayoutModel",
     "state": {
      "_model_module": "@jupyter-widgets/base",
      "_model_module_version": "1.2.0",
      "_model_name": "LayoutModel",
      "_view_count": null,
      "_view_module": "@jupyter-widgets/base",
      "_view_module_version": "1.2.0",
      "_view_name": "LayoutView",
      "align_content": null,
      "align_items": null,
      "align_self": null,
      "border": null,
      "bottom": null,
      "display": null,
      "flex": null,
      "flex_flow": null,
      "grid_area": null,
      "grid_auto_columns": null,
      "grid_auto_flow": null,
      "grid_auto_rows": null,
      "grid_column": null,
      "grid_gap": null,
      "grid_row": null,
      "grid_template_areas": null,
      "grid_template_columns": null,
      "grid_template_rows": null,
      "height": null,
      "justify_content": null,
      "justify_items": null,
      "left": null,
      "margin": null,
      "max_height": null,
      "max_width": null,
      "min_height": null,
      "min_width": null,
      "object_fit": null,
      "object_position": null,
      "order": null,
      "overflow": null,
      "overflow_x": null,
      "overflow_y": null,
      "padding": null,
      "right": null,
      "top": null,
      "visibility": null,
      "width": null
     }
    },
    "60c7e0c2b31046cb95d42cd9cac22df4": {
     "model_module": "@jupyter-widgets/controls",
     "model_module_version": "1.5.0",
     "model_name": "DescriptionStyleModel",
     "state": {
      "_model_module": "@jupyter-widgets/controls",
      "_model_module_version": "1.5.0",
      "_model_name": "DescriptionStyleModel",
      "_view_count": null,
      "_view_module": "@jupyter-widgets/base",
      "_view_module_version": "1.2.0",
      "_view_name": "StyleView",
      "description_width": ""
     }
    },
    "65cedc0fc7e04c919e30959b8d61d848": {
     "model_module": "@jupyter-widgets/base",
     "model_module_version": "1.2.0",
     "model_name": "LayoutModel",
     "state": {
      "_model_module": "@jupyter-widgets/base",
      "_model_module_version": "1.2.0",
      "_model_name": "LayoutModel",
      "_view_count": null,
      "_view_module": "@jupyter-widgets/base",
      "_view_module_version": "1.2.0",
      "_view_name": "LayoutView",
      "align_content": null,
      "align_items": null,
      "align_self": null,
      "border": null,
      "bottom": null,
      "display": null,
      "flex": null,
      "flex_flow": null,
      "grid_area": null,
      "grid_auto_columns": null,
      "grid_auto_flow": null,
      "grid_auto_rows": null,
      "grid_column": null,
      "grid_gap": null,
      "grid_row": null,
      "grid_template_areas": null,
      "grid_template_columns": null,
      "grid_template_rows": null,
      "height": null,
      "justify_content": null,
      "justify_items": null,
      "left": null,
      "margin": null,
      "max_height": null,
      "max_width": null,
      "min_height": null,
      "min_width": null,
      "object_fit": null,
      "object_position": null,
      "order": null,
      "overflow": null,
      "overflow_x": null,
      "overflow_y": null,
      "padding": null,
      "right": null,
      "top": null,
      "visibility": null,
      "width": null
     }
    },
    "677f73839b6c471d921f248de40ea330": {
     "model_module": "@jupyter-widgets/controls",
     "model_module_version": "1.5.0",
     "model_name": "HTMLModel",
     "state": {
      "_dom_classes": [],
      "_model_module": "@jupyter-widgets/controls",
      "_model_module_version": "1.5.0",
      "_model_name": "HTMLModel",
      "_view_count": null,
      "_view_module": "@jupyter-widgets/controls",
      "_view_module_version": "1.5.0",
      "_view_name": "HTMLView",
      "description": "",
      "description_tooltip": null,
      "layout": "IPY_MODEL_0862bdc3d6f544db8a28ca14e0fbb76d",
      "placeholder": "​",
      "style": "IPY_MODEL_60c7e0c2b31046cb95d42cd9cac22df4",
      "value": " 26422272/? [00:01&lt;00:00, 21776982.47it/s]"
     }
    },
    "68a9c9e32450495fbac90b6fbf36ea7c": {
     "model_module": "@jupyter-widgets/controls",
     "model_module_version": "1.5.0",
     "model_name": "HTMLModel",
     "state": {
      "_dom_classes": [],
      "_model_module": "@jupyter-widgets/controls",
      "_model_module_version": "1.5.0",
      "_model_name": "HTMLModel",
      "_view_count": null,
      "_view_module": "@jupyter-widgets/controls",
      "_view_module_version": "1.5.0",
      "_view_name": "HTMLView",
      "description": "",
      "description_tooltip": null,
      "layout": "IPY_MODEL_b244149bf46f4deea71c61ce9eb8f337",
      "placeholder": "​",
      "style": "IPY_MODEL_3cb22621e22140539237dd61dedf0b10",
      "value": " 6144/? [00:00&lt;00:00, 155351.15it/s]"
     }
    },
    "7335277b3f4a4704954617575b011224": {
     "model_module": "@jupyter-widgets/base",
     "model_module_version": "1.2.0",
     "model_name": "LayoutModel",
     "state": {
      "_model_module": "@jupyter-widgets/base",
      "_model_module_version": "1.2.0",
      "_model_name": "LayoutModel",
      "_view_count": null,
      "_view_module": "@jupyter-widgets/base",
      "_view_module_version": "1.2.0",
      "_view_name": "LayoutView",
      "align_content": null,
      "align_items": null,
      "align_self": null,
      "border": null,
      "bottom": null,
      "display": null,
      "flex": null,
      "flex_flow": null,
      "grid_area": null,
      "grid_auto_columns": null,
      "grid_auto_flow": null,
      "grid_auto_rows": null,
      "grid_column": null,
      "grid_gap": null,
      "grid_row": null,
      "grid_template_areas": null,
      "grid_template_columns": null,
      "grid_template_rows": null,
      "height": null,
      "justify_content": null,
      "justify_items": null,
      "left": null,
      "margin": null,
      "max_height": null,
      "max_width": null,
      "min_height": null,
      "min_width": null,
      "object_fit": null,
      "object_position": null,
      "order": null,
      "overflow": null,
      "overflow_x": null,
      "overflow_y": null,
      "padding": null,
      "right": null,
      "top": null,
      "visibility": null,
      "width": null
     }
    },
    "739b1aaa7b21423b840a283c758ee4af": {
     "model_module": "@jupyter-widgets/controls",
     "model_module_version": "1.5.0",
     "model_name": "ProgressStyleModel",
     "state": {
      "_model_module": "@jupyter-widgets/controls",
      "_model_module_version": "1.5.0",
      "_model_name": "ProgressStyleModel",
      "_view_count": null,
      "_view_module": "@jupyter-widgets/base",
      "_view_module_version": "1.2.0",
      "_view_name": "StyleView",
      "bar_color": null,
      "description_width": ""
     }
    },
    "73b2527a331a48a5927198642e86fd0e": {
     "model_module": "@jupyter-widgets/controls",
     "model_module_version": "1.5.0",
     "model_name": "HTMLModel",
     "state": {
      "_dom_classes": [],
      "_model_module": "@jupyter-widgets/controls",
      "_model_module_version": "1.5.0",
      "_model_name": "HTMLModel",
      "_view_count": null,
      "_view_module": "@jupyter-widgets/controls",
      "_view_module_version": "1.5.0",
      "_view_name": "HTMLView",
      "description": "",
      "description_tooltip": null,
      "layout": "IPY_MODEL_d5ac4be3271943868b2ecb3e6e896852",
      "placeholder": "​",
      "style": "IPY_MODEL_c7bcfedd63e94ffa9c083fdea5630211",
      "value": " 29696/? [00:00&lt;00:00, 135248.09it/s]"
     }
    },
    "75e1a5e31a334d548df5d54cf4210eda": {
     "model_module": "@jupyter-widgets/controls",
     "model_module_version": "1.5.0",
     "model_name": "HTMLModel",
     "state": {
      "_dom_classes": [],
      "_model_module": "@jupyter-widgets/controls",
      "_model_module_version": "1.5.0",
      "_model_name": "HTMLModel",
      "_view_count": null,
      "_view_module": "@jupyter-widgets/controls",
      "_view_module_version": "1.5.0",
      "_view_name": "HTMLView",
      "description": "",
      "description_tooltip": null,
      "layout": "IPY_MODEL_446af936e85448d2bd3b22af472cef4a",
      "placeholder": "​",
      "style": "IPY_MODEL_7cb57c2e5e8c473d9a8e000da52e92d1",
      "value": ""
     }
    },
    "77e052c7a7de420eafb6cf55d2d406b1": {
     "model_module": "@jupyter-widgets/base",
     "model_module_version": "1.2.0",
     "model_name": "LayoutModel",
     "state": {
      "_model_module": "@jupyter-widgets/base",
      "_model_module_version": "1.2.0",
      "_model_name": "LayoutModel",
      "_view_count": null,
      "_view_module": "@jupyter-widgets/base",
      "_view_module_version": "1.2.0",
      "_view_name": "LayoutView",
      "align_content": null,
      "align_items": null,
      "align_self": null,
      "border": null,
      "bottom": null,
      "display": null,
      "flex": null,
      "flex_flow": null,
      "grid_area": null,
      "grid_auto_columns": null,
      "grid_auto_flow": null,
      "grid_auto_rows": null,
      "grid_column": null,
      "grid_gap": null,
      "grid_row": null,
      "grid_template_areas": null,
      "grid_template_columns": null,
      "grid_template_rows": null,
      "height": null,
      "justify_content": null,
      "justify_items": null,
      "left": null,
      "margin": null,
      "max_height": null,
      "max_width": null,
      "min_height": null,
      "min_width": null,
      "object_fit": null,
      "object_position": null,
      "order": null,
      "overflow": null,
      "overflow_x": null,
      "overflow_y": null,
      "padding": null,
      "right": null,
      "top": null,
      "visibility": null,
      "width": null
     }
    },
    "7a803e47a12f46adac931bc1ed4065c7": {
     "model_module": "@jupyter-widgets/base",
     "model_module_version": "1.2.0",
     "model_name": "LayoutModel",
     "state": {
      "_model_module": "@jupyter-widgets/base",
      "_model_module_version": "1.2.0",
      "_model_name": "LayoutModel",
      "_view_count": null,
      "_view_module": "@jupyter-widgets/base",
      "_view_module_version": "1.2.0",
      "_view_name": "LayoutView",
      "align_content": null,
      "align_items": null,
      "align_self": null,
      "border": null,
      "bottom": null,
      "display": null,
      "flex": null,
      "flex_flow": null,
      "grid_area": null,
      "grid_auto_columns": null,
      "grid_auto_flow": null,
      "grid_auto_rows": null,
      "grid_column": null,
      "grid_gap": null,
      "grid_row": null,
      "grid_template_areas": null,
      "grid_template_columns": null,
      "grid_template_rows": null,
      "height": null,
      "justify_content": null,
      "justify_items": null,
      "left": null,
      "margin": null,
      "max_height": null,
      "max_width": null,
      "min_height": null,
      "min_width": null,
      "object_fit": null,
      "object_position": null,
      "order": null,
      "overflow": null,
      "overflow_x": null,
      "overflow_y": null,
      "padding": null,
      "right": null,
      "top": null,
      "visibility": null,
      "width": null
     }
    },
    "7cb57c2e5e8c473d9a8e000da52e92d1": {
     "model_module": "@jupyter-widgets/controls",
     "model_module_version": "1.5.0",
     "model_name": "DescriptionStyleModel",
     "state": {
      "_model_module": "@jupyter-widgets/controls",
      "_model_module_version": "1.5.0",
      "_model_name": "DescriptionStyleModel",
      "_view_count": null,
      "_view_module": "@jupyter-widgets/base",
      "_view_module_version": "1.2.0",
      "_view_name": "StyleView",
      "description_width": ""
     }
    },
    "7e659aaad49a48b1838b55c9321d53f1": {
     "model_module": "@jupyter-widgets/controls",
     "model_module_version": "1.5.0",
     "model_name": "ProgressStyleModel",
     "state": {
      "_model_module": "@jupyter-widgets/controls",
      "_model_module_version": "1.5.0",
      "_model_name": "ProgressStyleModel",
      "_view_count": null,
      "_view_module": "@jupyter-widgets/base",
      "_view_module_version": "1.2.0",
      "_view_name": "StyleView",
      "bar_color": null,
      "description_width": ""
     }
    },
    "81474be86175443b8aea101ed6a5d285": {
     "model_module": "@jupyter-widgets/controls",
     "model_module_version": "1.5.0",
     "model_name": "HBoxModel",
     "state": {
      "_dom_classes": [],
      "_model_module": "@jupyter-widgets/controls",
      "_model_module_version": "1.5.0",
      "_model_name": "HBoxModel",
      "_view_count": null,
      "_view_module": "@jupyter-widgets/controls",
      "_view_module_version": "1.5.0",
      "_view_name": "HBoxView",
      "box_style": "",
      "children": [
       "IPY_MODEL_8ccd320429584cbab91036357808a81e",
       "IPY_MODEL_1e9ca34892db4804acee3ca07ae30280",
       "IPY_MODEL_9953773274724e4daf5c342d008a16e6"
      ],
      "layout": "IPY_MODEL_bb44fe5d3ca141d0b64a184990375cef"
     }
    },
    "831e5bdbddf044dd8de88005c5308694": {
     "model_module": "@jupyter-widgets/controls",
     "model_module_version": "1.5.0",
     "model_name": "FloatProgressModel",
     "state": {
      "_dom_classes": [],
      "_model_module": "@jupyter-widgets/controls",
      "_model_module_version": "1.5.0",
      "_model_name": "FloatProgressModel",
      "_view_count": null,
      "_view_module": "@jupyter-widgets/controls",
      "_view_module_version": "1.5.0",
      "_view_name": "ProgressView",
      "bar_style": "success",
      "description": "",
      "description_tooltip": null,
      "layout": "IPY_MODEL_65cedc0fc7e04c919e30959b8d61d848",
      "max": 4422102,
      "min": 0,
      "orientation": "horizontal",
      "style": "IPY_MODEL_7e659aaad49a48b1838b55c9321d53f1",
      "value": 4422102
     }
    },
    "850817e0ff5f43b2b4d9e634b8e23354": {
     "model_module": "@jupyter-widgets/base",
     "model_module_version": "1.2.0",
     "model_name": "LayoutModel",
     "state": {
      "_model_module": "@jupyter-widgets/base",
      "_model_module_version": "1.2.0",
      "_model_name": "LayoutModel",
      "_view_count": null,
      "_view_module": "@jupyter-widgets/base",
      "_view_module_version": "1.2.0",
      "_view_name": "LayoutView",
      "align_content": null,
      "align_items": null,
      "align_self": null,
      "border": null,
      "bottom": null,
      "display": null,
      "flex": null,
      "flex_flow": null,
      "grid_area": null,
      "grid_auto_columns": null,
      "grid_auto_flow": null,
      "grid_auto_rows": null,
      "grid_column": null,
      "grid_gap": null,
      "grid_row": null,
      "grid_template_areas": null,
      "grid_template_columns": null,
      "grid_template_rows": null,
      "height": null,
      "justify_content": null,
      "justify_items": null,
      "left": null,
      "margin": null,
      "max_height": null,
      "max_width": null,
      "min_height": null,
      "min_width": null,
      "object_fit": null,
      "object_position": null,
      "order": null,
      "overflow": null,
      "overflow_x": null,
      "overflow_y": null,
      "padding": null,
      "right": null,
      "top": null,
      "visibility": null,
      "width": null
     }
    },
    "85a26bc32c694b3187014db03f2f0945": {
     "model_module": "@jupyter-widgets/controls",
     "model_module_version": "1.5.0",
     "model_name": "HBoxModel",
     "state": {
      "_dom_classes": [],
      "_model_module": "@jupyter-widgets/controls",
      "_model_module_version": "1.5.0",
      "_model_name": "HBoxModel",
      "_view_count": null,
      "_view_module": "@jupyter-widgets/controls",
      "_view_module_version": "1.5.0",
      "_view_name": "HBoxView",
      "box_style": "",
      "children": [
       "IPY_MODEL_a09bcbb9a8164e258996869b86d5c6fe",
       "IPY_MODEL_33e6a73b77b34192a21e3b53590d5787",
       "IPY_MODEL_b41a57951ea74a23a70cfbf5dc3f08bc"
      ],
      "layout": "IPY_MODEL_981ab63dcf574faab9269531fc9828e6"
     }
    },
    "873f5f6660b04911933f6a4f02e66a1e": {
     "model_module": "@jupyter-widgets/controls",
     "model_module_version": "1.5.0",
     "model_name": "ProgressStyleModel",
     "state": {
      "_model_module": "@jupyter-widgets/controls",
      "_model_module_version": "1.5.0",
      "_model_name": "ProgressStyleModel",
      "_view_count": null,
      "_view_module": "@jupyter-widgets/base",
      "_view_module_version": "1.2.0",
      "_view_name": "StyleView",
      "bar_color": null,
      "description_width": ""
     }
    },
    "8ab16354cfee4ba2bdc8cdd9c723127c": {
     "model_module": "@jupyter-widgets/controls",
     "model_module_version": "1.5.0",
     "model_name": "DescriptionStyleModel",
     "state": {
      "_model_module": "@jupyter-widgets/controls",
      "_model_module_version": "1.5.0",
      "_model_name": "DescriptionStyleModel",
      "_view_count": null,
      "_view_module": "@jupyter-widgets/base",
      "_view_module_version": "1.2.0",
      "_view_name": "StyleView",
      "description_width": ""
     }
    },
    "8c2d356a24d44ed3bcbfdbc4aed02a0d": {
     "model_module": "@jupyter-widgets/controls",
     "model_module_version": "1.5.0",
     "model_name": "FloatProgressModel",
     "state": {
      "_dom_classes": [],
      "_model_module": "@jupyter-widgets/controls",
      "_model_module_version": "1.5.0",
      "_model_name": "FloatProgressModel",
      "_view_count": null,
      "_view_module": "@jupyter-widgets/controls",
      "_view_module_version": "1.5.0",
      "_view_name": "ProgressView",
      "bar_style": "success",
      "description": "",
      "description_tooltip": null,
      "layout": "IPY_MODEL_850817e0ff5f43b2b4d9e634b8e23354",
      "max": 29515,
      "min": 0,
      "orientation": "horizontal",
      "style": "IPY_MODEL_326782502fe743988fa6657214216674",
      "value": 29515
     }
    },
    "8ccd320429584cbab91036357808a81e": {
     "model_module": "@jupyter-widgets/controls",
     "model_module_version": "1.5.0",
     "model_name": "HTMLModel",
     "state": {
      "_dom_classes": [],
      "_model_module": "@jupyter-widgets/controls",
      "_model_module_version": "1.5.0",
      "_model_name": "HTMLModel",
      "_view_count": null,
      "_view_module": "@jupyter-widgets/controls",
      "_view_module_version": "1.5.0",
      "_view_name": "HTMLView",
      "description": "",
      "description_tooltip": null,
      "layout": "IPY_MODEL_a4a2e6e9095a40739b5f0e29ea2b8954",
      "placeholder": "​",
      "style": "IPY_MODEL_dc35df41a2674099ac91707fcb8faea8",
      "value": ""
     }
    },
    "8d3252b88d51431fbeb83df09cdaac31": {
     "model_module": "@jupyter-widgets/controls",
     "model_module_version": "1.5.0",
     "model_name": "HTMLModel",
     "state": {
      "_dom_classes": [],
      "_model_module": "@jupyter-widgets/controls",
      "_model_module_version": "1.5.0",
      "_model_name": "HTMLModel",
      "_view_count": null,
      "_view_module": "@jupyter-widgets/controls",
      "_view_module_version": "1.5.0",
      "_view_name": "HTMLView",
      "description": "",
      "description_tooltip": null,
      "layout": "IPY_MODEL_b021446bcfda461584c7a084db4cb7f1",
      "placeholder": "​",
      "style": "IPY_MODEL_06814eb6c14f4f88b487527661fce89e",
      "value": ""
     }
    },
    "8ea40ef19c334b56bd2cab82cef6700d": {
     "model_module": "@jupyter-widgets/base",
     "model_module_version": "1.2.0",
     "model_name": "LayoutModel",
     "state": {
      "_model_module": "@jupyter-widgets/base",
      "_model_module_version": "1.2.0",
      "_model_name": "LayoutModel",
      "_view_count": null,
      "_view_module": "@jupyter-widgets/base",
      "_view_module_version": "1.2.0",
      "_view_name": "LayoutView",
      "align_content": null,
      "align_items": null,
      "align_self": null,
      "border": null,
      "bottom": null,
      "display": null,
      "flex": null,
      "flex_flow": null,
      "grid_area": null,
      "grid_auto_columns": null,
      "grid_auto_flow": null,
      "grid_auto_rows": null,
      "grid_column": null,
      "grid_gap": null,
      "grid_row": null,
      "grid_template_areas": null,
      "grid_template_columns": null,
      "grid_template_rows": null,
      "height": null,
      "justify_content": null,
      "justify_items": null,
      "left": null,
      "margin": null,
      "max_height": null,
      "max_width": null,
      "min_height": null,
      "min_width": null,
      "object_fit": null,
      "object_position": null,
      "order": null,
      "overflow": null,
      "overflow_x": null,
      "overflow_y": null,
      "padding": null,
      "right": null,
      "top": null,
      "visibility": null,
      "width": null
     }
    },
    "92ce37b6b97047b8823434b3db78968d": {
     "model_module": "@jupyter-widgets/controls",
     "model_module_version": "1.5.0",
     "model_name": "HTMLModel",
     "state": {
      "_dom_classes": [],
      "_model_module": "@jupyter-widgets/controls",
      "_model_module_version": "1.5.0",
      "_model_name": "HTMLModel",
      "_view_count": null,
      "_view_module": "@jupyter-widgets/controls",
      "_view_module_version": "1.5.0",
      "_view_name": "HTMLView",
      "description": "",
      "description_tooltip": null,
      "layout": "IPY_MODEL_1a73c880079d4baf803c8063b10050dd",
      "placeholder": "​",
      "style": "IPY_MODEL_9628882373bc4873921d2223219573d2",
      "value": " 4422656/? [00:00&lt;00:00, 7796672.39it/s]"
     }
    },
    "9628882373bc4873921d2223219573d2": {
     "model_module": "@jupyter-widgets/controls",
     "model_module_version": "1.5.0",
     "model_name": "DescriptionStyleModel",
     "state": {
      "_model_module": "@jupyter-widgets/controls",
      "_model_module_version": "1.5.0",
      "_model_name": "DescriptionStyleModel",
      "_view_count": null,
      "_view_module": "@jupyter-widgets/base",
      "_view_module_version": "1.2.0",
      "_view_name": "StyleView",
      "description_width": ""
     }
    },
    "981ab63dcf574faab9269531fc9828e6": {
     "model_module": "@jupyter-widgets/base",
     "model_module_version": "1.2.0",
     "model_name": "LayoutModel",
     "state": {
      "_model_module": "@jupyter-widgets/base",
      "_model_module_version": "1.2.0",
      "_model_name": "LayoutModel",
      "_view_count": null,
      "_view_module": "@jupyter-widgets/base",
      "_view_module_version": "1.2.0",
      "_view_name": "LayoutView",
      "align_content": null,
      "align_items": null,
      "align_self": null,
      "border": null,
      "bottom": null,
      "display": null,
      "flex": null,
      "flex_flow": null,
      "grid_area": null,
      "grid_auto_columns": null,
      "grid_auto_flow": null,
      "grid_auto_rows": null,
      "grid_column": null,
      "grid_gap": null,
      "grid_row": null,
      "grid_template_areas": null,
      "grid_template_columns": null,
      "grid_template_rows": null,
      "height": null,
      "justify_content": null,
      "justify_items": null,
      "left": null,
      "margin": null,
      "max_height": null,
      "max_width": null,
      "min_height": null,
      "min_width": null,
      "object_fit": null,
      "object_position": null,
      "order": null,
      "overflow": null,
      "overflow_x": null,
      "overflow_y": null,
      "padding": null,
      "right": null,
      "top": null,
      "visibility": null,
      "width": null
     }
    },
    "9953773274724e4daf5c342d008a16e6": {
     "model_module": "@jupyter-widgets/controls",
     "model_module_version": "1.5.0",
     "model_name": "HTMLModel",
     "state": {
      "_dom_classes": [],
      "_model_module": "@jupyter-widgets/controls",
      "_model_module_version": "1.5.0",
      "_model_name": "HTMLModel",
      "_view_count": null,
      "_view_module": "@jupyter-widgets/controls",
      "_view_module_version": "1.5.0",
      "_view_name": "HTMLView",
      "description": "",
      "description_tooltip": null,
      "layout": "IPY_MODEL_bbf02400db0e4bcc98dbc9a09537442e",
      "placeholder": "​",
      "style": "IPY_MODEL_2e1919bd72464ea1bb675c8295e6e718",
      "value": " 6144/? [00:00&lt;00:00, 178053.10it/s]"
     }
    },
    "9cdb2f1098454b7db1f3d84da34eb847": {
     "model_module": "@jupyter-widgets/controls",
     "model_module_version": "1.5.0",
     "model_name": "FloatProgressModel",
     "state": {
      "_dom_classes": [],
      "_model_module": "@jupyter-widgets/controls",
      "_model_module_version": "1.5.0",
      "_model_name": "FloatProgressModel",
      "_view_count": null,
      "_view_module": "@jupyter-widgets/controls",
      "_view_module_version": "1.5.0",
      "_view_name": "ProgressView",
      "bar_style": "",
      "description": "",
      "description_tooltip": null,
      "layout": "IPY_MODEL_ab34633ae4864e859b6b3bc1929c30c7",
      "max": 1200,
      "min": 0,
      "orientation": "horizontal",
      "style": "IPY_MODEL_5a997a81ebc34a8db0d7b28d43572638",
      "value": 4
     }
    },
    "9f06f93037c04c4cab9e77f808ec0e20": {
     "model_module": "@jupyter-widgets/base",
     "model_module_version": "1.2.0",
     "model_name": "LayoutModel",
     "state": {
      "_model_module": "@jupyter-widgets/base",
      "_model_module_version": "1.2.0",
      "_model_name": "LayoutModel",
      "_view_count": null,
      "_view_module": "@jupyter-widgets/base",
      "_view_module_version": "1.2.0",
      "_view_name": "LayoutView",
      "align_content": null,
      "align_items": null,
      "align_self": null,
      "border": null,
      "bottom": null,
      "display": null,
      "flex": null,
      "flex_flow": null,
      "grid_area": null,
      "grid_auto_columns": null,
      "grid_auto_flow": null,
      "grid_auto_rows": null,
      "grid_column": null,
      "grid_gap": null,
      "grid_row": null,
      "grid_template_areas": null,
      "grid_template_columns": null,
      "grid_template_rows": null,
      "height": null,
      "justify_content": null,
      "justify_items": null,
      "left": null,
      "margin": null,
      "max_height": null,
      "max_width": null,
      "min_height": null,
      "min_width": null,
      "object_fit": null,
      "object_position": null,
      "order": null,
      "overflow": null,
      "overflow_x": null,
      "overflow_y": null,
      "padding": null,
      "right": null,
      "top": null,
      "visibility": null,
      "width": null
     }
    },
    "9f3bc71605364c458c5d05db36bc4472": {
     "model_module": "@jupyter-widgets/controls",
     "model_module_version": "1.5.0",
     "model_name": "HTMLModel",
     "state": {
      "_dom_classes": [],
      "_model_module": "@jupyter-widgets/controls",
      "_model_module_version": "1.5.0",
      "_model_name": "HTMLModel",
      "_view_count": null,
      "_view_module": "@jupyter-widgets/controls",
      "_view_module_version": "1.5.0",
      "_view_name": "HTMLView",
      "description": "",
      "description_tooltip": null,
      "layout": "IPY_MODEL_0f37df0617274f418a1f71226c724bc8",
      "placeholder": "​",
      "style": "IPY_MODEL_e4f19f90571f4628b8716884b942598f",
      "value": ""
     }
    },
    "a09bcbb9a8164e258996869b86d5c6fe": {
     "model_module": "@jupyter-widgets/controls",
     "model_module_version": "1.5.0",
     "model_name": "HTMLModel",
     "state": {
      "_dom_classes": [],
      "_model_module": "@jupyter-widgets/controls",
      "_model_module_version": "1.5.0",
      "_model_name": "HTMLModel",
      "_view_count": null,
      "_view_module": "@jupyter-widgets/controls",
      "_view_module_version": "1.5.0",
      "_view_name": "HTMLView",
      "description": "",
      "description_tooltip": null,
      "layout": "IPY_MODEL_5523dc495fdf4c89a7ec3c3d71fe2c30",
      "placeholder": "​",
      "style": "IPY_MODEL_312db40f60d14f1e84c82682448ea9a4",
      "value": ""
     }
    },
    "a4a2e6e9095a40739b5f0e29ea2b8954": {
     "model_module": "@jupyter-widgets/base",
     "model_module_version": "1.2.0",
     "model_name": "LayoutModel",
     "state": {
      "_model_module": "@jupyter-widgets/base",
      "_model_module_version": "1.2.0",
      "_model_name": "LayoutModel",
      "_view_count": null,
      "_view_module": "@jupyter-widgets/base",
      "_view_module_version": "1.2.0",
      "_view_name": "LayoutView",
      "align_content": null,
      "align_items": null,
      "align_self": null,
      "border": null,
      "bottom": null,
      "display": null,
      "flex": null,
      "flex_flow": null,
      "grid_area": null,
      "grid_auto_columns": null,
      "grid_auto_flow": null,
      "grid_auto_rows": null,
      "grid_column": null,
      "grid_gap": null,
      "grid_row": null,
      "grid_template_areas": null,
      "grid_template_columns": null,
      "grid_template_rows": null,
      "height": null,
      "justify_content": null,
      "justify_items": null,
      "left": null,
      "margin": null,
      "max_height": null,
      "max_width": null,
      "min_height": null,
      "min_width": null,
      "object_fit": null,
      "object_position": null,
      "order": null,
      "overflow": null,
      "overflow_x": null,
      "overflow_y": null,
      "padding": null,
      "right": null,
      "top": null,
      "visibility": null,
      "width": null
     }
    },
    "a86fad510d53494f9c3bae1f037be641": {
     "model_module": "@jupyter-widgets/base",
     "model_module_version": "1.2.0",
     "model_name": "LayoutModel",
     "state": {
      "_model_module": "@jupyter-widgets/base",
      "_model_module_version": "1.2.0",
      "_model_name": "LayoutModel",
      "_view_count": null,
      "_view_module": "@jupyter-widgets/base",
      "_view_module_version": "1.2.0",
      "_view_name": "LayoutView",
      "align_content": null,
      "align_items": null,
      "align_self": null,
      "border": null,
      "bottom": null,
      "display": null,
      "flex": null,
      "flex_flow": null,
      "grid_area": null,
      "grid_auto_columns": null,
      "grid_auto_flow": null,
      "grid_auto_rows": null,
      "grid_column": null,
      "grid_gap": null,
      "grid_row": null,
      "grid_template_areas": null,
      "grid_template_columns": null,
      "grid_template_rows": null,
      "height": null,
      "justify_content": null,
      "justify_items": null,
      "left": null,
      "margin": null,
      "max_height": null,
      "max_width": null,
      "min_height": null,
      "min_width": null,
      "object_fit": null,
      "object_position": null,
      "order": null,
      "overflow": null,
      "overflow_x": null,
      "overflow_y": null,
      "padding": null,
      "right": null,
      "top": null,
      "visibility": null,
      "width": null
     }
    },
    "ab34633ae4864e859b6b3bc1929c30c7": {
     "model_module": "@jupyter-widgets/base",
     "model_module_version": "1.2.0",
     "model_name": "LayoutModel",
     "state": {
      "_model_module": "@jupyter-widgets/base",
      "_model_module_version": "1.2.0",
      "_model_name": "LayoutModel",
      "_view_count": null,
      "_view_module": "@jupyter-widgets/base",
      "_view_module_version": "1.2.0",
      "_view_name": "LayoutView",
      "align_content": null,
      "align_items": null,
      "align_self": null,
      "border": null,
      "bottom": null,
      "display": null,
      "flex": null,
      "flex_flow": null,
      "grid_area": null,
      "grid_auto_columns": null,
      "grid_auto_flow": null,
      "grid_auto_rows": null,
      "grid_column": null,
      "grid_gap": null,
      "grid_row": null,
      "grid_template_areas": null,
      "grid_template_columns": null,
      "grid_template_rows": null,
      "height": null,
      "justify_content": null,
      "justify_items": null,
      "left": null,
      "margin": null,
      "max_height": null,
      "max_width": null,
      "min_height": null,
      "min_width": null,
      "object_fit": null,
      "object_position": null,
      "order": null,
      "overflow": null,
      "overflow_x": null,
      "overflow_y": null,
      "padding": null,
      "right": null,
      "top": null,
      "visibility": null,
      "width": null
     }
    },
    "af0adeebc1714582b7505a502780e69f": {
     "model_module": "@jupyter-widgets/base",
     "model_module_version": "1.2.0",
     "model_name": "LayoutModel",
     "state": {
      "_model_module": "@jupyter-widgets/base",
      "_model_module_version": "1.2.0",
      "_model_name": "LayoutModel",
      "_view_count": null,
      "_view_module": "@jupyter-widgets/base",
      "_view_module_version": "1.2.0",
      "_view_name": "LayoutView",
      "align_content": null,
      "align_items": null,
      "align_self": null,
      "border": null,
      "bottom": null,
      "display": null,
      "flex": null,
      "flex_flow": null,
      "grid_area": null,
      "grid_auto_columns": null,
      "grid_auto_flow": null,
      "grid_auto_rows": null,
      "grid_column": null,
      "grid_gap": null,
      "grid_row": null,
      "grid_template_areas": null,
      "grid_template_columns": null,
      "grid_template_rows": null,
      "height": null,
      "justify_content": null,
      "justify_items": null,
      "left": null,
      "margin": null,
      "max_height": null,
      "max_width": null,
      "min_height": null,
      "min_width": null,
      "object_fit": null,
      "object_position": null,
      "order": null,
      "overflow": null,
      "overflow_x": null,
      "overflow_y": null,
      "padding": null,
      "right": null,
      "top": null,
      "visibility": null,
      "width": null
     }
    },
    "b021446bcfda461584c7a084db4cb7f1": {
     "model_module": "@jupyter-widgets/base",
     "model_module_version": "1.2.0",
     "model_name": "LayoutModel",
     "state": {
      "_model_module": "@jupyter-widgets/base",
      "_model_module_version": "1.2.0",
      "_model_name": "LayoutModel",
      "_view_count": null,
      "_view_module": "@jupyter-widgets/base",
      "_view_module_version": "1.2.0",
      "_view_name": "LayoutView",
      "align_content": null,
      "align_items": null,
      "align_self": null,
      "border": null,
      "bottom": null,
      "display": null,
      "flex": null,
      "flex_flow": null,
      "grid_area": null,
      "grid_auto_columns": null,
      "grid_auto_flow": null,
      "grid_auto_rows": null,
      "grid_column": null,
      "grid_gap": null,
      "grid_row": null,
      "grid_template_areas": null,
      "grid_template_columns": null,
      "grid_template_rows": null,
      "height": null,
      "justify_content": null,
      "justify_items": null,
      "left": null,
      "margin": null,
      "max_height": null,
      "max_width": null,
      "min_height": null,
      "min_width": null,
      "object_fit": null,
      "object_position": null,
      "order": null,
      "overflow": null,
      "overflow_x": null,
      "overflow_y": null,
      "padding": null,
      "right": null,
      "top": null,
      "visibility": null,
      "width": null
     }
    },
    "b244149bf46f4deea71c61ce9eb8f337": {
     "model_module": "@jupyter-widgets/base",
     "model_module_version": "1.2.0",
     "model_name": "LayoutModel",
     "state": {
      "_model_module": "@jupyter-widgets/base",
      "_model_module_version": "1.2.0",
      "_model_name": "LayoutModel",
      "_view_count": null,
      "_view_module": "@jupyter-widgets/base",
      "_view_module_version": "1.2.0",
      "_view_name": "LayoutView",
      "align_content": null,
      "align_items": null,
      "align_self": null,
      "border": null,
      "bottom": null,
      "display": null,
      "flex": null,
      "flex_flow": null,
      "grid_area": null,
      "grid_auto_columns": null,
      "grid_auto_flow": null,
      "grid_auto_rows": null,
      "grid_column": null,
      "grid_gap": null,
      "grid_row": null,
      "grid_template_areas": null,
      "grid_template_columns": null,
      "grid_template_rows": null,
      "height": null,
      "justify_content": null,
      "justify_items": null,
      "left": null,
      "margin": null,
      "max_height": null,
      "max_width": null,
      "min_height": null,
      "min_width": null,
      "object_fit": null,
      "object_position": null,
      "order": null,
      "overflow": null,
      "overflow_x": null,
      "overflow_y": null,
      "padding": null,
      "right": null,
      "top": null,
      "visibility": null,
      "width": null
     }
    },
    "b39f0a1b76224ec58863b132f5e8ff77": {
     "model_module": "@jupyter-widgets/base",
     "model_module_version": "1.2.0",
     "model_name": "LayoutModel",
     "state": {
      "_model_module": "@jupyter-widgets/base",
      "_model_module_version": "1.2.0",
      "_model_name": "LayoutModel",
      "_view_count": null,
      "_view_module": "@jupyter-widgets/base",
      "_view_module_version": "1.2.0",
      "_view_name": "LayoutView",
      "align_content": null,
      "align_items": null,
      "align_self": null,
      "border": null,
      "bottom": null,
      "display": null,
      "flex": null,
      "flex_flow": null,
      "grid_area": null,
      "grid_auto_columns": null,
      "grid_auto_flow": null,
      "grid_auto_rows": null,
      "grid_column": null,
      "grid_gap": null,
      "grid_row": null,
      "grid_template_areas": null,
      "grid_template_columns": null,
      "grid_template_rows": null,
      "height": null,
      "justify_content": null,
      "justify_items": null,
      "left": null,
      "margin": null,
      "max_height": null,
      "max_width": null,
      "min_height": null,
      "min_width": null,
      "object_fit": null,
      "object_position": null,
      "order": null,
      "overflow": null,
      "overflow_x": null,
      "overflow_y": null,
      "padding": null,
      "right": null,
      "top": null,
      "visibility": null,
      "width": null
     }
    },
    "b41a57951ea74a23a70cfbf5dc3f08bc": {
     "model_module": "@jupyter-widgets/controls",
     "model_module_version": "1.5.0",
     "model_name": "HTMLModel",
     "state": {
      "_dom_classes": [],
      "_model_module": "@jupyter-widgets/controls",
      "_model_module_version": "1.5.0",
      "_model_name": "HTMLModel",
      "_view_count": null,
      "_view_module": "@jupyter-widgets/controls",
      "_view_module_version": "1.5.0",
      "_view_name": "HTMLView",
      "description": "",
      "description_tooltip": null,
      "layout": "IPY_MODEL_7335277b3f4a4704954617575b011224",
      "placeholder": "​",
      "style": "IPY_MODEL_8ab16354cfee4ba2bdc8cdd9c723127c",
      "value": " 26422272/? [00:01&lt;00:00, 20362929.96it/s]"
     }
    },
    "b560701a7a6548fc89bde2111c33f8dc": {
     "model_module": "@jupyter-widgets/base",
     "model_module_version": "1.2.0",
     "model_name": "LayoutModel",
     "state": {
      "_model_module": "@jupyter-widgets/base",
      "_model_module_version": "1.2.0",
      "_model_name": "LayoutModel",
      "_view_count": null,
      "_view_module": "@jupyter-widgets/base",
      "_view_module_version": "1.2.0",
      "_view_name": "LayoutView",
      "align_content": null,
      "align_items": null,
      "align_self": null,
      "border": null,
      "bottom": null,
      "display": null,
      "flex": null,
      "flex_flow": null,
      "grid_area": null,
      "grid_auto_columns": null,
      "grid_auto_flow": null,
      "grid_auto_rows": null,
      "grid_column": null,
      "grid_gap": null,
      "grid_row": null,
      "grid_template_areas": null,
      "grid_template_columns": null,
      "grid_template_rows": null,
      "height": null,
      "justify_content": null,
      "justify_items": null,
      "left": null,
      "margin": null,
      "max_height": null,
      "max_width": null,
      "min_height": null,
      "min_width": null,
      "object_fit": null,
      "object_position": null,
      "order": null,
      "overflow": null,
      "overflow_x": null,
      "overflow_y": null,
      "padding": null,
      "right": null,
      "top": null,
      "visibility": null,
      "width": null
     }
    },
    "b830b87dbe794524850f1b3515ccf4f3": {
     "model_module": "@jupyter-widgets/base",
     "model_module_version": "1.2.0",
     "model_name": "LayoutModel",
     "state": {
      "_model_module": "@jupyter-widgets/base",
      "_model_module_version": "1.2.0",
      "_model_name": "LayoutModel",
      "_view_count": null,
      "_view_module": "@jupyter-widgets/base",
      "_view_module_version": "1.2.0",
      "_view_name": "LayoutView",
      "align_content": null,
      "align_items": null,
      "align_self": null,
      "border": null,
      "bottom": null,
      "display": null,
      "flex": null,
      "flex_flow": null,
      "grid_area": null,
      "grid_auto_columns": null,
      "grid_auto_flow": null,
      "grid_auto_rows": null,
      "grid_column": null,
      "grid_gap": null,
      "grid_row": null,
      "grid_template_areas": null,
      "grid_template_columns": null,
      "grid_template_rows": null,
      "height": null,
      "justify_content": null,
      "justify_items": null,
      "left": null,
      "margin": null,
      "max_height": null,
      "max_width": null,
      "min_height": null,
      "min_width": null,
      "object_fit": null,
      "object_position": null,
      "order": null,
      "overflow": null,
      "overflow_x": null,
      "overflow_y": null,
      "padding": null,
      "right": null,
      "top": null,
      "visibility": null,
      "width": null
     }
    },
    "bb44fe5d3ca141d0b64a184990375cef": {
     "model_module": "@jupyter-widgets/base",
     "model_module_version": "1.2.0",
     "model_name": "LayoutModel",
     "state": {
      "_model_module": "@jupyter-widgets/base",
      "_model_module_version": "1.2.0",
      "_model_name": "LayoutModel",
      "_view_count": null,
      "_view_module": "@jupyter-widgets/base",
      "_view_module_version": "1.2.0",
      "_view_name": "LayoutView",
      "align_content": null,
      "align_items": null,
      "align_self": null,
      "border": null,
      "bottom": null,
      "display": null,
      "flex": null,
      "flex_flow": null,
      "grid_area": null,
      "grid_auto_columns": null,
      "grid_auto_flow": null,
      "grid_auto_rows": null,
      "grid_column": null,
      "grid_gap": null,
      "grid_row": null,
      "grid_template_areas": null,
      "grid_template_columns": null,
      "grid_template_rows": null,
      "height": null,
      "justify_content": null,
      "justify_items": null,
      "left": null,
      "margin": null,
      "max_height": null,
      "max_width": null,
      "min_height": null,
      "min_width": null,
      "object_fit": null,
      "object_position": null,
      "order": null,
      "overflow": null,
      "overflow_x": null,
      "overflow_y": null,
      "padding": null,
      "right": null,
      "top": null,
      "visibility": null,
      "width": null
     }
    },
    "bb93c5ac624c4b2caf44ea61ce66e1ea": {
     "model_module": "@jupyter-widgets/base",
     "model_module_version": "1.2.0",
     "model_name": "LayoutModel",
     "state": {
      "_model_module": "@jupyter-widgets/base",
      "_model_module_version": "1.2.0",
      "_model_name": "LayoutModel",
      "_view_count": null,
      "_view_module": "@jupyter-widgets/base",
      "_view_module_version": "1.2.0",
      "_view_name": "LayoutView",
      "align_content": null,
      "align_items": null,
      "align_self": null,
      "border": null,
      "bottom": null,
      "display": null,
      "flex": null,
      "flex_flow": null,
      "grid_area": null,
      "grid_auto_columns": null,
      "grid_auto_flow": null,
      "grid_auto_rows": null,
      "grid_column": null,
      "grid_gap": null,
      "grid_row": null,
      "grid_template_areas": null,
      "grid_template_columns": null,
      "grid_template_rows": null,
      "height": null,
      "justify_content": null,
      "justify_items": null,
      "left": null,
      "margin": null,
      "max_height": null,
      "max_width": null,
      "min_height": null,
      "min_width": null,
      "object_fit": null,
      "object_position": null,
      "order": null,
      "overflow": null,
      "overflow_x": null,
      "overflow_y": null,
      "padding": null,
      "right": null,
      "top": null,
      "visibility": null,
      "width": null
     }
    },
    "bbf02400db0e4bcc98dbc9a09537442e": {
     "model_module": "@jupyter-widgets/base",
     "model_module_version": "1.2.0",
     "model_name": "LayoutModel",
     "state": {
      "_model_module": "@jupyter-widgets/base",
      "_model_module_version": "1.2.0",
      "_model_name": "LayoutModel",
      "_view_count": null,
      "_view_module": "@jupyter-widgets/base",
      "_view_module_version": "1.2.0",
      "_view_name": "LayoutView",
      "align_content": null,
      "align_items": null,
      "align_self": null,
      "border": null,
      "bottom": null,
      "display": null,
      "flex": null,
      "flex_flow": null,
      "grid_area": null,
      "grid_auto_columns": null,
      "grid_auto_flow": null,
      "grid_auto_rows": null,
      "grid_column": null,
      "grid_gap": null,
      "grid_row": null,
      "grid_template_areas": null,
      "grid_template_columns": null,
      "grid_template_rows": null,
      "height": null,
      "justify_content": null,
      "justify_items": null,
      "left": null,
      "margin": null,
      "max_height": null,
      "max_width": null,
      "min_height": null,
      "min_width": null,
      "object_fit": null,
      "object_position": null,
      "order": null,
      "overflow": null,
      "overflow_x": null,
      "overflow_y": null,
      "padding": null,
      "right": null,
      "top": null,
      "visibility": null,
      "width": null
     }
    },
    "bf3cc9a41b3a4b1b82c8141505fb43d1": {
     "model_module": "@jupyter-widgets/controls",
     "model_module_version": "1.5.0",
     "model_name": "HBoxModel",
     "state": {
      "_dom_classes": [],
      "_model_module": "@jupyter-widgets/controls",
      "_model_module_version": "1.5.0",
      "_model_name": "HBoxModel",
      "_view_count": null,
      "_view_module": "@jupyter-widgets/controls",
      "_view_module_version": "1.5.0",
      "_view_name": "HBoxView",
      "box_style": "",
      "children": [
       "IPY_MODEL_2ebd8e8beb1b4da8a1dd088b9dcacaa2",
       "IPY_MODEL_831e5bdbddf044dd8de88005c5308694",
       "IPY_MODEL_92ce37b6b97047b8823434b3db78968d"
      ],
      "layout": "IPY_MODEL_b830b87dbe794524850f1b3515ccf4f3"
     }
    },
    "bf6175b1b53e42ef916ad68973d012d8": {
     "model_module": "@jupyter-widgets/controls",
     "model_module_version": "1.5.0",
     "model_name": "HTMLModel",
     "state": {
      "_dom_classes": [],
      "_model_module": "@jupyter-widgets/controls",
      "_model_module_version": "1.5.0",
      "_model_name": "HTMLModel",
      "_view_count": null,
      "_view_module": "@jupyter-widgets/controls",
      "_view_module_version": "1.5.0",
      "_view_name": "HTMLView",
      "description": "",
      "description_tooltip": null,
      "layout": "IPY_MODEL_b560701a7a6548fc89bde2111c33f8dc",
      "placeholder": "​",
      "style": "IPY_MODEL_3add4542dd3e4a1e8f8b3b4b8254b62c",
      "value": " 29696/? [00:00&lt;00:00, 135258.43it/s]"
     }
    },
    "c65d572097de4695aec0647e1e01482a": {
     "model_module": "@jupyter-widgets/base",
     "model_module_version": "1.2.0",
     "model_name": "LayoutModel",
     "state": {
      "_model_module": "@jupyter-widgets/base",
      "_model_module_version": "1.2.0",
      "_model_name": "LayoutModel",
      "_view_count": null,
      "_view_module": "@jupyter-widgets/base",
      "_view_module_version": "1.2.0",
      "_view_name": "LayoutView",
      "align_content": null,
      "align_items": null,
      "align_self": null,
      "border": null,
      "bottom": null,
      "display": null,
      "flex": null,
      "flex_flow": null,
      "grid_area": null,
      "grid_auto_columns": null,
      "grid_auto_flow": null,
      "grid_auto_rows": null,
      "grid_column": null,
      "grid_gap": null,
      "grid_row": null,
      "grid_template_areas": null,
      "grid_template_columns": null,
      "grid_template_rows": null,
      "height": null,
      "justify_content": null,
      "justify_items": null,
      "left": null,
      "margin": null,
      "max_height": null,
      "max_width": null,
      "min_height": null,
      "min_width": null,
      "object_fit": null,
      "object_position": null,
      "order": null,
      "overflow": null,
      "overflow_x": null,
      "overflow_y": null,
      "padding": null,
      "right": null,
      "top": null,
      "visibility": null,
      "width": null
     }
    },
    "c7bcfedd63e94ffa9c083fdea5630211": {
     "model_module": "@jupyter-widgets/controls",
     "model_module_version": "1.5.0",
     "model_name": "DescriptionStyleModel",
     "state": {
      "_model_module": "@jupyter-widgets/controls",
      "_model_module_version": "1.5.0",
      "_model_name": "DescriptionStyleModel",
      "_view_count": null,
      "_view_module": "@jupyter-widgets/base",
      "_view_module_version": "1.2.0",
      "_view_name": "StyleView",
      "description_width": ""
     }
    },
    "cb443bc99d3343da97358e51cb067635": {
     "model_module": "@jupyter-widgets/controls",
     "model_module_version": "1.5.0",
     "model_name": "HTMLModel",
     "state": {
      "_dom_classes": [],
      "_model_module": "@jupyter-widgets/controls",
      "_model_module_version": "1.5.0",
      "_model_name": "HTMLModel",
      "_view_count": null,
      "_view_module": "@jupyter-widgets/controls",
      "_view_module_version": "1.5.0",
      "_view_name": "HTMLView",
      "description": "",
      "description_tooltip": null,
      "layout": "IPY_MODEL_bb93c5ac624c4b2caf44ea61ce66e1ea",
      "placeholder": "​",
      "style": "IPY_MODEL_cd21c6f158c1442982166651169ab325",
      "value": ""
     }
    },
    "cd21c6f158c1442982166651169ab325": {
     "model_module": "@jupyter-widgets/controls",
     "model_module_version": "1.5.0",
     "model_name": "DescriptionStyleModel",
     "state": {
      "_model_module": "@jupyter-widgets/controls",
      "_model_module_version": "1.5.0",
      "_model_name": "DescriptionStyleModel",
      "_view_count": null,
      "_view_module": "@jupyter-widgets/base",
      "_view_module_version": "1.2.0",
      "_view_name": "StyleView",
      "description_width": ""
     }
    },
    "d07f7a788d464efc8a968b8097d1708b": {
     "model_module": "@jupyter-widgets/controls",
     "model_module_version": "1.5.0",
     "model_name": "ProgressStyleModel",
     "state": {
      "_model_module": "@jupyter-widgets/controls",
      "_model_module_version": "1.5.0",
      "_model_name": "ProgressStyleModel",
      "_view_count": null,
      "_view_module": "@jupyter-widgets/base",
      "_view_module_version": "1.2.0",
      "_view_name": "StyleView",
      "bar_color": null,
      "description_width": ""
     }
    },
    "d2e7b7d4251d451999884b1248af8f7d": {
     "model_module": "@jupyter-widgets/controls",
     "model_module_version": "1.5.0",
     "model_name": "HTMLModel",
     "state": {
      "_dom_classes": [],
      "_model_module": "@jupyter-widgets/controls",
      "_model_module_version": "1.5.0",
      "_model_name": "HTMLModel",
      "_view_count": null,
      "_view_module": "@jupyter-widgets/controls",
      "_view_module_version": "1.5.0",
      "_view_name": "HTMLView",
      "description": "",
      "description_tooltip": null,
      "layout": "IPY_MODEL_7a803e47a12f46adac931bc1ed4065c7",
      "placeholder": "​",
      "style": "IPY_MODEL_0ae783d887cc49728ea39ce5ecfc468b",
      "value": ""
     }
    },
    "d4f596b0bab443c0a1e04f58c8cb4a0d": {
     "model_module": "@jupyter-widgets/base",
     "model_module_version": "1.2.0",
     "model_name": "LayoutModel",
     "state": {
      "_model_module": "@jupyter-widgets/base",
      "_model_module_version": "1.2.0",
      "_model_name": "LayoutModel",
      "_view_count": null,
      "_view_module": "@jupyter-widgets/base",
      "_view_module_version": "1.2.0",
      "_view_name": "LayoutView",
      "align_content": null,
      "align_items": null,
      "align_self": null,
      "border": null,
      "bottom": null,
      "display": null,
      "flex": null,
      "flex_flow": null,
      "grid_area": null,
      "grid_auto_columns": null,
      "grid_auto_flow": null,
      "grid_auto_rows": null,
      "grid_column": null,
      "grid_gap": null,
      "grid_row": null,
      "grid_template_areas": null,
      "grid_template_columns": null,
      "grid_template_rows": null,
      "height": null,
      "justify_content": null,
      "justify_items": null,
      "left": null,
      "margin": null,
      "max_height": null,
      "max_width": null,
      "min_height": null,
      "min_width": null,
      "object_fit": null,
      "object_position": null,
      "order": null,
      "overflow": null,
      "overflow_x": null,
      "overflow_y": null,
      "padding": null,
      "right": null,
      "top": null,
      "visibility": null,
      "width": null
     }
    },
    "d5ac4be3271943868b2ecb3e6e896852": {
     "model_module": "@jupyter-widgets/base",
     "model_module_version": "1.2.0",
     "model_name": "LayoutModel",
     "state": {
      "_model_module": "@jupyter-widgets/base",
      "_model_module_version": "1.2.0",
      "_model_name": "LayoutModel",
      "_view_count": null,
      "_view_module": "@jupyter-widgets/base",
      "_view_module_version": "1.2.0",
      "_view_name": "LayoutView",
      "align_content": null,
      "align_items": null,
      "align_self": null,
      "border": null,
      "bottom": null,
      "display": null,
      "flex": null,
      "flex_flow": null,
      "grid_area": null,
      "grid_auto_columns": null,
      "grid_auto_flow": null,
      "grid_auto_rows": null,
      "grid_column": null,
      "grid_gap": null,
      "grid_row": null,
      "grid_template_areas": null,
      "grid_template_columns": null,
      "grid_template_rows": null,
      "height": null,
      "justify_content": null,
      "justify_items": null,
      "left": null,
      "margin": null,
      "max_height": null,
      "max_width": null,
      "min_height": null,
      "min_width": null,
      "object_fit": null,
      "object_position": null,
      "order": null,
      "overflow": null,
      "overflow_x": null,
      "overflow_y": null,
      "padding": null,
      "right": null,
      "top": null,
      "visibility": null,
      "width": null
     }
    },
    "d67a5443413c4843973a65e10779d67a": {
     "model_module": "@jupyter-widgets/base",
     "model_module_version": "1.2.0",
     "model_name": "LayoutModel",
     "state": {
      "_model_module": "@jupyter-widgets/base",
      "_model_module_version": "1.2.0",
      "_model_name": "LayoutModel",
      "_view_count": null,
      "_view_module": "@jupyter-widgets/base",
      "_view_module_version": "1.2.0",
      "_view_name": "LayoutView",
      "align_content": null,
      "align_items": null,
      "align_self": null,
      "border": null,
      "bottom": null,
      "display": null,
      "flex": null,
      "flex_flow": null,
      "grid_area": null,
      "grid_auto_columns": null,
      "grid_auto_flow": null,
      "grid_auto_rows": null,
      "grid_column": null,
      "grid_gap": null,
      "grid_row": null,
      "grid_template_areas": null,
      "grid_template_columns": null,
      "grid_template_rows": null,
      "height": null,
      "justify_content": null,
      "justify_items": null,
      "left": null,
      "margin": null,
      "max_height": null,
      "max_width": null,
      "min_height": null,
      "min_width": null,
      "object_fit": null,
      "object_position": null,
      "order": null,
      "overflow": null,
      "overflow_x": null,
      "overflow_y": null,
      "padding": null,
      "right": null,
      "top": null,
      "visibility": null,
      "width": null
     }
    },
    "d9b30370091749e9a38e3067d92625dd": {
     "model_module": "@jupyter-widgets/controls",
     "model_module_version": "1.5.0",
     "model_name": "FloatProgressModel",
     "state": {
      "_dom_classes": [],
      "_model_module": "@jupyter-widgets/controls",
      "_model_module_version": "1.5.0",
      "_model_name": "FloatProgressModel",
      "_view_count": null,
      "_view_module": "@jupyter-widgets/controls",
      "_view_module_version": "1.5.0",
      "_view_name": "ProgressView",
      "bar_style": "success",
      "description": "",
      "description_tooltip": null,
      "layout": "IPY_MODEL_b39f0a1b76224ec58863b132f5e8ff77",
      "max": 5148,
      "min": 0,
      "orientation": "horizontal",
      "style": "IPY_MODEL_5d2d20f9acaa438aa3c359a209c4bc32",
      "value": 5148
     }
    },
    "dc35df41a2674099ac91707fcb8faea8": {
     "model_module": "@jupyter-widgets/controls",
     "model_module_version": "1.5.0",
     "model_name": "DescriptionStyleModel",
     "state": {
      "_model_module": "@jupyter-widgets/controls",
      "_model_module_version": "1.5.0",
      "_model_name": "DescriptionStyleModel",
      "_view_count": null,
      "_view_module": "@jupyter-widgets/base",
      "_view_module_version": "1.2.0",
      "_view_name": "StyleView",
      "description_width": ""
     }
    },
    "e28fa28cc9ec4a52a18037d911035b07": {
     "model_module": "@jupyter-widgets/controls",
     "model_module_version": "1.5.0",
     "model_name": "DescriptionStyleModel",
     "state": {
      "_model_module": "@jupyter-widgets/controls",
      "_model_module_version": "1.5.0",
      "_model_name": "DescriptionStyleModel",
      "_view_count": null,
      "_view_module": "@jupyter-widgets/base",
      "_view_module_version": "1.2.0",
      "_view_name": "StyleView",
      "description_width": ""
     }
    },
    "e4298bd5dc4e4b0fb17a720eb109d49f": {
     "model_module": "@jupyter-widgets/base",
     "model_module_version": "1.2.0",
     "model_name": "LayoutModel",
     "state": {
      "_model_module": "@jupyter-widgets/base",
      "_model_module_version": "1.2.0",
      "_model_name": "LayoutModel",
      "_view_count": null,
      "_view_module": "@jupyter-widgets/base",
      "_view_module_version": "1.2.0",
      "_view_name": "LayoutView",
      "align_content": null,
      "align_items": null,
      "align_self": null,
      "border": null,
      "bottom": null,
      "display": null,
      "flex": null,
      "flex_flow": null,
      "grid_area": null,
      "grid_auto_columns": null,
      "grid_auto_flow": null,
      "grid_auto_rows": null,
      "grid_column": null,
      "grid_gap": null,
      "grid_row": null,
      "grid_template_areas": null,
      "grid_template_columns": null,
      "grid_template_rows": null,
      "height": null,
      "justify_content": null,
      "justify_items": null,
      "left": null,
      "margin": null,
      "max_height": null,
      "max_width": null,
      "min_height": null,
      "min_width": null,
      "object_fit": null,
      "object_position": null,
      "order": null,
      "overflow": null,
      "overflow_x": null,
      "overflow_y": null,
      "padding": null,
      "right": null,
      "top": null,
      "visibility": null,
      "width": null
     }
    },
    "e445e3284827419aad53b47225e9e643": {
     "model_module": "@jupyter-widgets/base",
     "model_module_version": "1.2.0",
     "model_name": "LayoutModel",
     "state": {
      "_model_module": "@jupyter-widgets/base",
      "_model_module_version": "1.2.0",
      "_model_name": "LayoutModel",
      "_view_count": null,
      "_view_module": "@jupyter-widgets/base",
      "_view_module_version": "1.2.0",
      "_view_name": "LayoutView",
      "align_content": null,
      "align_items": null,
      "align_self": null,
      "border": null,
      "bottom": null,
      "display": null,
      "flex": null,
      "flex_flow": null,
      "grid_area": null,
      "grid_auto_columns": null,
      "grid_auto_flow": null,
      "grid_auto_rows": null,
      "grid_column": null,
      "grid_gap": null,
      "grid_row": null,
      "grid_template_areas": null,
      "grid_template_columns": null,
      "grid_template_rows": null,
      "height": null,
      "justify_content": null,
      "justify_items": null,
      "left": null,
      "margin": null,
      "max_height": null,
      "max_width": null,
      "min_height": null,
      "min_width": null,
      "object_fit": null,
      "object_position": null,
      "order": null,
      "overflow": null,
      "overflow_x": null,
      "overflow_y": null,
      "padding": null,
      "right": null,
      "top": null,
      "visibility": null,
      "width": null
     }
    },
    "e4f19f90571f4628b8716884b942598f": {
     "model_module": "@jupyter-widgets/controls",
     "model_module_version": "1.5.0",
     "model_name": "DescriptionStyleModel",
     "state": {
      "_model_module": "@jupyter-widgets/controls",
      "_model_module_version": "1.5.0",
      "_model_name": "DescriptionStyleModel",
      "_view_count": null,
      "_view_module": "@jupyter-widgets/base",
      "_view_module_version": "1.2.0",
      "_view_name": "StyleView",
      "description_width": ""
     }
    },
    "e6f3bd80225d4b3bba8018c2cabbcc7e": {
     "model_module": "@jupyter-widgets/base",
     "model_module_version": "1.2.0",
     "model_name": "LayoutModel",
     "state": {
      "_model_module": "@jupyter-widgets/base",
      "_model_module_version": "1.2.0",
      "_model_name": "LayoutModel",
      "_view_count": null,
      "_view_module": "@jupyter-widgets/base",
      "_view_module_version": "1.2.0",
      "_view_name": "LayoutView",
      "align_content": null,
      "align_items": null,
      "align_self": null,
      "border": null,
      "bottom": null,
      "display": null,
      "flex": null,
      "flex_flow": null,
      "grid_area": null,
      "grid_auto_columns": null,
      "grid_auto_flow": null,
      "grid_auto_rows": null,
      "grid_column": null,
      "grid_gap": null,
      "grid_row": null,
      "grid_template_areas": null,
      "grid_template_columns": null,
      "grid_template_rows": null,
      "height": null,
      "justify_content": null,
      "justify_items": null,
      "left": null,
      "margin": null,
      "max_height": null,
      "max_width": null,
      "min_height": null,
      "min_width": null,
      "object_fit": null,
      "object_position": null,
      "order": null,
      "overflow": null,
      "overflow_x": null,
      "overflow_y": null,
      "padding": null,
      "right": null,
      "top": null,
      "visibility": null,
      "width": null
     }
    },
    "edef253ff3d045048d0406079872d31e": {
     "model_module": "@jupyter-widgets/controls",
     "model_module_version": "1.5.0",
     "model_name": "ProgressStyleModel",
     "state": {
      "_model_module": "@jupyter-widgets/controls",
      "_model_module_version": "1.5.0",
      "_model_name": "ProgressStyleModel",
      "_view_count": null,
      "_view_module": "@jupyter-widgets/base",
      "_view_module_version": "1.2.0",
      "_view_name": "StyleView",
      "bar_color": null,
      "description_width": ""
     }
    },
    "f38727e742b44cd0bf10df786020058d": {
     "model_module": "@jupyter-widgets/controls",
     "model_module_version": "1.5.0",
     "model_name": "HTMLModel",
     "state": {
      "_dom_classes": [],
      "_model_module": "@jupyter-widgets/controls",
      "_model_module_version": "1.5.0",
      "_model_name": "HTMLModel",
      "_view_count": null,
      "_view_module": "@jupyter-widgets/controls",
      "_view_module_version": "1.5.0",
      "_view_name": "HTMLView",
      "description": "",
      "description_tooltip": null,
      "layout": "IPY_MODEL_0979ace70edf4b0db2e394bdd0de8017",
      "placeholder": "​",
      "style": "IPY_MODEL_4363655a1cbb4cc492c081b241aee628",
      "value": " 4/1200 [00:04&lt;23:25,  1.17s/it]"
     }
    },
    "ff768b9dd13041ba8d1a4fc97268650c": {
     "model_module": "@jupyter-widgets/controls",
     "model_module_version": "1.5.0",
     "model_name": "HBoxModel",
     "state": {
      "_dom_classes": [],
      "_model_module": "@jupyter-widgets/controls",
      "_model_module_version": "1.5.0",
      "_model_name": "HBoxModel",
      "_view_count": null,
      "_view_module": "@jupyter-widgets/controls",
      "_view_module_version": "1.5.0",
      "_view_name": "HBoxView",
      "box_style": "",
      "children": [
       "IPY_MODEL_9f3bc71605364c458c5d05db36bc4472",
       "IPY_MODEL_d9b30370091749e9a38e3067d92625dd",
       "IPY_MODEL_68a9c9e32450495fbac90b6fbf36ea7c"
      ],
      "layout": "IPY_MODEL_9f06f93037c04c4cab9e77f808ec0e20"
     }
    }
   }
  }
 },
 "nbformat": 4,
 "nbformat_minor": 1
}
